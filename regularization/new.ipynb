{
 "cells": [
  {
   "cell_type": "markdown",
   "metadata": {},
   "source": [
    "# データ数1万でバッチ数maxにして層、ニューロン数の影響を調べる "
   ]
  },
  {
   "cell_type": "code",
   "execution_count": 2,
   "metadata": {},
   "outputs": [],
   "source": [
    "import numpy as np\n",
    "import pandas as pd\n",
    "import matplotlib.pyplot as plt\n",
    "import math\n",
    "from numpy.random import *\n",
    "X = uniform(0,1000,(10000,2))"
   ]
  },
  {
   "cell_type": "code",
   "execution_count": 3,
   "metadata": {
    "scrolled": true
   },
   "outputs": [
    {
     "data": {
      "text/plain": [
       "(10000, 2)"
      ]
     },
     "execution_count": 3,
     "metadata": {},
     "output_type": "execute_result"
    }
   ],
   "source": [
    "X.shape"
   ]
  },
  {
   "cell_type": "code",
   "execution_count": 4,
   "metadata": {},
   "outputs": [
    {
     "data": {
      "text/plain": [
       "array([[737.47419163,  45.27454988],\n",
       "       [726.43928598, 191.8077124 ],\n",
       "       [654.20167315, 376.84774789],\n",
       "       ...,\n",
       "       [545.50069641, 211.62162803],\n",
       "       [593.63999222, 463.18057768],\n",
       "       [355.76209624, 612.50903592]])"
      ]
     },
     "execution_count": 4,
     "metadata": {},
     "output_type": "execute_result"
    }
   ],
   "source": [
    "X"
   ]
  },
  {
   "cell_type": "code",
   "execution_count": 5,
   "metadata": {},
   "outputs": [],
   "source": [
    "X[:,1] = X[:,1]/100"
   ]
  },
  {
   "cell_type": "code",
   "execution_count": 6,
   "metadata": {},
   "outputs": [
    {
     "data": {
      "text/plain": [
       "array([[7.37474192e+02, 4.52745499e-01],\n",
       "       [7.26439286e+02, 1.91807712e+00],\n",
       "       [6.54201673e+02, 3.76847748e+00],\n",
       "       ...,\n",
       "       [5.45500696e+02, 2.11621628e+00],\n",
       "       [5.93639992e+02, 4.63180578e+00],\n",
       "       [3.55762096e+02, 6.12509036e+00]])"
      ]
     },
     "execution_count": 6,
     "metadata": {},
     "output_type": "execute_result"
    }
   ],
   "source": [
    "X"
   ]
  },
  {
   "cell_type": "code",
   "execution_count": 7,
   "metadata": {
    "scrolled": true
   },
   "outputs": [],
   "source": [
    "df = pd.DataFrame({\"x1\": X[0:10000,0],\"x2\": X[0:10000,1]})"
   ]
  },
  {
   "cell_type": "code",
   "execution_count": 8,
   "metadata": {
    "scrolled": false
   },
   "outputs": [
    {
     "data": {
      "text/html": [
       "<div>\n",
       "<style scoped>\n",
       "    .dataframe tbody tr th:only-of-type {\n",
       "        vertical-align: middle;\n",
       "    }\n",
       "\n",
       "    .dataframe tbody tr th {\n",
       "        vertical-align: top;\n",
       "    }\n",
       "\n",
       "    .dataframe thead th {\n",
       "        text-align: right;\n",
       "    }\n",
       "</style>\n",
       "<table border=\"1\" class=\"dataframe\">\n",
       "  <thead>\n",
       "    <tr style=\"text-align: right;\">\n",
       "      <th></th>\n",
       "      <th>x1</th>\n",
       "      <th>x2</th>\n",
       "    </tr>\n",
       "  </thead>\n",
       "  <tbody>\n",
       "    <tr>\n",
       "      <th>9995</th>\n",
       "      <td>846.099931</td>\n",
       "      <td>4.537748</td>\n",
       "    </tr>\n",
       "    <tr>\n",
       "      <th>9996</th>\n",
       "      <td>322.902520</td>\n",
       "      <td>5.277399</td>\n",
       "    </tr>\n",
       "    <tr>\n",
       "      <th>9997</th>\n",
       "      <td>545.500696</td>\n",
       "      <td>2.116216</td>\n",
       "    </tr>\n",
       "    <tr>\n",
       "      <th>9998</th>\n",
       "      <td>593.639992</td>\n",
       "      <td>4.631806</td>\n",
       "    </tr>\n",
       "    <tr>\n",
       "      <th>9999</th>\n",
       "      <td>355.762096</td>\n",
       "      <td>6.125090</td>\n",
       "    </tr>\n",
       "  </tbody>\n",
       "</table>\n",
       "</div>"
      ],
      "text/plain": [
       "              x1        x2\n",
       "9995  846.099931  4.537748\n",
       "9996  322.902520  5.277399\n",
       "9997  545.500696  2.116216\n",
       "9998  593.639992  4.631806\n",
       "9999  355.762096  6.125090"
      ]
     },
     "execution_count": 8,
     "metadata": {},
     "output_type": "execute_result"
    }
   ],
   "source": [
    "df.tail()"
   ]
  },
  {
   "cell_type": "code",
   "execution_count": 9,
   "metadata": {},
   "outputs": [],
   "source": [
    "def calc_log(num):\n",
    "    return math.log(num)"
   ]
  },
  {
   "cell_type": "code",
   "execution_count": 10,
   "metadata": {
    "scrolled": true
   },
   "outputs": [],
   "source": [
    "df[\"a\"] = df['x1'].apply(calc_log)"
   ]
  },
  {
   "cell_type": "code",
   "execution_count": 11,
   "metadata": {
    "scrolled": true
   },
   "outputs": [
    {
     "data": {
      "text/html": [
       "<div>\n",
       "<style scoped>\n",
       "    .dataframe tbody tr th:only-of-type {\n",
       "        vertical-align: middle;\n",
       "    }\n",
       "\n",
       "    .dataframe tbody tr th {\n",
       "        vertical-align: top;\n",
       "    }\n",
       "\n",
       "    .dataframe thead th {\n",
       "        text-align: right;\n",
       "    }\n",
       "</style>\n",
       "<table border=\"1\" class=\"dataframe\">\n",
       "  <thead>\n",
       "    <tr style=\"text-align: right;\">\n",
       "      <th></th>\n",
       "      <th>x1</th>\n",
       "      <th>x2</th>\n",
       "      <th>a</th>\n",
       "    </tr>\n",
       "  </thead>\n",
       "  <tbody>\n",
       "    <tr>\n",
       "      <th>0</th>\n",
       "      <td>737.474192</td>\n",
       "      <td>0.452745</td>\n",
       "      <td>6.603231</td>\n",
       "    </tr>\n",
       "    <tr>\n",
       "      <th>1</th>\n",
       "      <td>726.439286</td>\n",
       "      <td>1.918077</td>\n",
       "      <td>6.588155</td>\n",
       "    </tr>\n",
       "    <tr>\n",
       "      <th>2</th>\n",
       "      <td>654.201673</td>\n",
       "      <td>3.768477</td>\n",
       "      <td>6.483416</td>\n",
       "    </tr>\n",
       "    <tr>\n",
       "      <th>3</th>\n",
       "      <td>891.856842</td>\n",
       "      <td>1.072212</td>\n",
       "      <td>6.793306</td>\n",
       "    </tr>\n",
       "    <tr>\n",
       "      <th>4</th>\n",
       "      <td>836.759089</td>\n",
       "      <td>5.466393</td>\n",
       "      <td>6.729536</td>\n",
       "    </tr>\n",
       "    <tr>\n",
       "      <th>5</th>\n",
       "      <td>433.119713</td>\n",
       "      <td>1.164897</td>\n",
       "      <td>6.071014</td>\n",
       "    </tr>\n",
       "    <tr>\n",
       "      <th>6</th>\n",
       "      <td>205.365129</td>\n",
       "      <td>6.781960</td>\n",
       "      <td>5.324790</td>\n",
       "    </tr>\n",
       "    <tr>\n",
       "      <th>7</th>\n",
       "      <td>400.366974</td>\n",
       "      <td>8.050183</td>\n",
       "      <td>5.992382</td>\n",
       "    </tr>\n",
       "    <tr>\n",
       "      <th>8</th>\n",
       "      <td>222.156713</td>\n",
       "      <td>3.679040</td>\n",
       "      <td>5.403383</td>\n",
       "    </tr>\n",
       "    <tr>\n",
       "      <th>9</th>\n",
       "      <td>950.503815</td>\n",
       "      <td>9.172138</td>\n",
       "      <td>6.856992</td>\n",
       "    </tr>\n",
       "    <tr>\n",
       "      <th>10</th>\n",
       "      <td>775.774186</td>\n",
       "      <td>5.405848</td>\n",
       "      <td>6.653861</td>\n",
       "    </tr>\n",
       "    <tr>\n",
       "      <th>11</th>\n",
       "      <td>859.209319</td>\n",
       "      <td>9.727321</td>\n",
       "      <td>6.756013</td>\n",
       "    </tr>\n",
       "    <tr>\n",
       "      <th>12</th>\n",
       "      <td>150.126478</td>\n",
       "      <td>2.157140</td>\n",
       "      <td>5.011478</td>\n",
       "    </tr>\n",
       "    <tr>\n",
       "      <th>13</th>\n",
       "      <td>807.805920</td>\n",
       "      <td>4.518291</td>\n",
       "      <td>6.694322</td>\n",
       "    </tr>\n",
       "    <tr>\n",
       "      <th>14</th>\n",
       "      <td>486.191823</td>\n",
       "      <td>3.011138</td>\n",
       "      <td>6.186603</td>\n",
       "    </tr>\n",
       "    <tr>\n",
       "      <th>15</th>\n",
       "      <td>774.822967</td>\n",
       "      <td>6.515924</td>\n",
       "      <td>6.652635</td>\n",
       "    </tr>\n",
       "    <tr>\n",
       "      <th>16</th>\n",
       "      <td>523.648387</td>\n",
       "      <td>6.506570</td>\n",
       "      <td>6.260820</td>\n",
       "    </tr>\n",
       "    <tr>\n",
       "      <th>17</th>\n",
       "      <td>4.865448</td>\n",
       "      <td>2.815849</td>\n",
       "      <td>1.582159</td>\n",
       "    </tr>\n",
       "    <tr>\n",
       "      <th>18</th>\n",
       "      <td>14.779793</td>\n",
       "      <td>6.868910</td>\n",
       "      <td>2.693261</td>\n",
       "    </tr>\n",
       "    <tr>\n",
       "      <th>19</th>\n",
       "      <td>812.226999</td>\n",
       "      <td>5.851111</td>\n",
       "      <td>6.699780</td>\n",
       "    </tr>\n",
       "    <tr>\n",
       "      <th>20</th>\n",
       "      <td>979.834221</td>\n",
       "      <td>3.476980</td>\n",
       "      <td>6.887383</td>\n",
       "    </tr>\n",
       "    <tr>\n",
       "      <th>21</th>\n",
       "      <td>253.193474</td>\n",
       "      <td>2.443614</td>\n",
       "      <td>5.534154</td>\n",
       "    </tr>\n",
       "    <tr>\n",
       "      <th>22</th>\n",
       "      <td>837.773761</td>\n",
       "      <td>8.633752</td>\n",
       "      <td>6.730748</td>\n",
       "    </tr>\n",
       "    <tr>\n",
       "      <th>23</th>\n",
       "      <td>628.866464</td>\n",
       "      <td>6.018003</td>\n",
       "      <td>6.443919</td>\n",
       "    </tr>\n",
       "    <tr>\n",
       "      <th>24</th>\n",
       "      <td>834.383312</td>\n",
       "      <td>5.271725</td>\n",
       "      <td>6.726693</td>\n",
       "    </tr>\n",
       "    <tr>\n",
       "      <th>25</th>\n",
       "      <td>572.221686</td>\n",
       "      <td>5.932739</td>\n",
       "      <td>6.349526</td>\n",
       "    </tr>\n",
       "    <tr>\n",
       "      <th>26</th>\n",
       "      <td>507.405185</td>\n",
       "      <td>1.067751</td>\n",
       "      <td>6.229310</td>\n",
       "    </tr>\n",
       "    <tr>\n",
       "      <th>27</th>\n",
       "      <td>726.326527</td>\n",
       "      <td>0.133214</td>\n",
       "      <td>6.588000</td>\n",
       "    </tr>\n",
       "    <tr>\n",
       "      <th>28</th>\n",
       "      <td>839.126126</td>\n",
       "      <td>4.186353</td>\n",
       "      <td>6.732361</td>\n",
       "    </tr>\n",
       "    <tr>\n",
       "      <th>29</th>\n",
       "      <td>872.042662</td>\n",
       "      <td>8.668029</td>\n",
       "      <td>6.770838</td>\n",
       "    </tr>\n",
       "    <tr>\n",
       "      <th>...</th>\n",
       "      <td>...</td>\n",
       "      <td>...</td>\n",
       "      <td>...</td>\n",
       "    </tr>\n",
       "    <tr>\n",
       "      <th>9970</th>\n",
       "      <td>137.677831</td>\n",
       "      <td>5.251746</td>\n",
       "      <td>4.924916</td>\n",
       "    </tr>\n",
       "    <tr>\n",
       "      <th>9971</th>\n",
       "      <td>789.642842</td>\n",
       "      <td>3.141261</td>\n",
       "      <td>6.671581</td>\n",
       "    </tr>\n",
       "    <tr>\n",
       "      <th>9972</th>\n",
       "      <td>110.716252</td>\n",
       "      <td>5.611765</td>\n",
       "      <td>4.706971</td>\n",
       "    </tr>\n",
       "    <tr>\n",
       "      <th>9973</th>\n",
       "      <td>712.781897</td>\n",
       "      <td>8.327919</td>\n",
       "      <td>6.569175</td>\n",
       "    </tr>\n",
       "    <tr>\n",
       "      <th>9974</th>\n",
       "      <td>758.694405</td>\n",
       "      <td>5.901149</td>\n",
       "      <td>6.631599</td>\n",
       "    </tr>\n",
       "    <tr>\n",
       "      <th>9975</th>\n",
       "      <td>538.821066</td>\n",
       "      <td>9.736396</td>\n",
       "      <td>6.289384</td>\n",
       "    </tr>\n",
       "    <tr>\n",
       "      <th>9976</th>\n",
       "      <td>534.016379</td>\n",
       "      <td>8.364913</td>\n",
       "      <td>6.280427</td>\n",
       "    </tr>\n",
       "    <tr>\n",
       "      <th>9977</th>\n",
       "      <td>298.358539</td>\n",
       "      <td>4.337242</td>\n",
       "      <td>5.698296</td>\n",
       "    </tr>\n",
       "    <tr>\n",
       "      <th>9978</th>\n",
       "      <td>537.042957</td>\n",
       "      <td>3.258108</td>\n",
       "      <td>6.286078</td>\n",
       "    </tr>\n",
       "    <tr>\n",
       "      <th>9979</th>\n",
       "      <td>325.295735</td>\n",
       "      <td>9.092544</td>\n",
       "      <td>5.784735</td>\n",
       "    </tr>\n",
       "    <tr>\n",
       "      <th>9980</th>\n",
       "      <td>104.691277</td>\n",
       "      <td>1.522985</td>\n",
       "      <td>4.651016</td>\n",
       "    </tr>\n",
       "    <tr>\n",
       "      <th>9981</th>\n",
       "      <td>77.882232</td>\n",
       "      <td>1.085338</td>\n",
       "      <td>4.355198</td>\n",
       "    </tr>\n",
       "    <tr>\n",
       "      <th>9982</th>\n",
       "      <td>729.259651</td>\n",
       "      <td>6.676276</td>\n",
       "      <td>6.592030</td>\n",
       "    </tr>\n",
       "    <tr>\n",
       "      <th>9983</th>\n",
       "      <td>879.660985</td>\n",
       "      <td>9.227108</td>\n",
       "      <td>6.779537</td>\n",
       "    </tr>\n",
       "    <tr>\n",
       "      <th>9984</th>\n",
       "      <td>782.292865</td>\n",
       "      <td>9.869002</td>\n",
       "      <td>6.662229</td>\n",
       "    </tr>\n",
       "    <tr>\n",
       "      <th>9985</th>\n",
       "      <td>624.021100</td>\n",
       "      <td>7.551726</td>\n",
       "      <td>6.436184</td>\n",
       "    </tr>\n",
       "    <tr>\n",
       "      <th>9986</th>\n",
       "      <td>852.974799</td>\n",
       "      <td>2.512919</td>\n",
       "      <td>6.748730</td>\n",
       "    </tr>\n",
       "    <tr>\n",
       "      <th>9987</th>\n",
       "      <td>3.696526</td>\n",
       "      <td>7.685780</td>\n",
       "      <td>1.307393</td>\n",
       "    </tr>\n",
       "    <tr>\n",
       "      <th>9988</th>\n",
       "      <td>758.178435</td>\n",
       "      <td>6.743701</td>\n",
       "      <td>6.630919</td>\n",
       "    </tr>\n",
       "    <tr>\n",
       "      <th>9989</th>\n",
       "      <td>182.696938</td>\n",
       "      <td>9.538936</td>\n",
       "      <td>5.207829</td>\n",
       "    </tr>\n",
       "    <tr>\n",
       "      <th>9990</th>\n",
       "      <td>744.787683</td>\n",
       "      <td>2.801199</td>\n",
       "      <td>6.613099</td>\n",
       "    </tr>\n",
       "    <tr>\n",
       "      <th>9991</th>\n",
       "      <td>826.812778</td>\n",
       "      <td>0.974317</td>\n",
       "      <td>6.717578</td>\n",
       "    </tr>\n",
       "    <tr>\n",
       "      <th>9992</th>\n",
       "      <td>392.525833</td>\n",
       "      <td>8.798467</td>\n",
       "      <td>5.972602</td>\n",
       "    </tr>\n",
       "    <tr>\n",
       "      <th>9993</th>\n",
       "      <td>996.152165</td>\n",
       "      <td>1.815698</td>\n",
       "      <td>6.903900</td>\n",
       "    </tr>\n",
       "    <tr>\n",
       "      <th>9994</th>\n",
       "      <td>796.387518</td>\n",
       "      <td>4.737319</td>\n",
       "      <td>6.680086</td>\n",
       "    </tr>\n",
       "    <tr>\n",
       "      <th>9995</th>\n",
       "      <td>846.099931</td>\n",
       "      <td>4.537748</td>\n",
       "      <td>6.740637</td>\n",
       "    </tr>\n",
       "    <tr>\n",
       "      <th>9996</th>\n",
       "      <td>322.902520</td>\n",
       "      <td>5.277399</td>\n",
       "      <td>5.777350</td>\n",
       "    </tr>\n",
       "    <tr>\n",
       "      <th>9997</th>\n",
       "      <td>545.500696</td>\n",
       "      <td>2.116216</td>\n",
       "      <td>6.301704</td>\n",
       "    </tr>\n",
       "    <tr>\n",
       "      <th>9998</th>\n",
       "      <td>593.639992</td>\n",
       "      <td>4.631806</td>\n",
       "      <td>6.386273</td>\n",
       "    </tr>\n",
       "    <tr>\n",
       "      <th>9999</th>\n",
       "      <td>355.762096</td>\n",
       "      <td>6.125090</td>\n",
       "      <td>5.874262</td>\n",
       "    </tr>\n",
       "  </tbody>\n",
       "</table>\n",
       "<p>10000 rows × 3 columns</p>\n",
       "</div>"
      ],
      "text/plain": [
       "              x1        x2         a\n",
       "0     737.474192  0.452745  6.603231\n",
       "1     726.439286  1.918077  6.588155\n",
       "2     654.201673  3.768477  6.483416\n",
       "3     891.856842  1.072212  6.793306\n",
       "4     836.759089  5.466393  6.729536\n",
       "5     433.119713  1.164897  6.071014\n",
       "6     205.365129  6.781960  5.324790\n",
       "7     400.366974  8.050183  5.992382\n",
       "8     222.156713  3.679040  5.403383\n",
       "9     950.503815  9.172138  6.856992\n",
       "10    775.774186  5.405848  6.653861\n",
       "11    859.209319  9.727321  6.756013\n",
       "12    150.126478  2.157140  5.011478\n",
       "13    807.805920  4.518291  6.694322\n",
       "14    486.191823  3.011138  6.186603\n",
       "15    774.822967  6.515924  6.652635\n",
       "16    523.648387  6.506570  6.260820\n",
       "17      4.865448  2.815849  1.582159\n",
       "18     14.779793  6.868910  2.693261\n",
       "19    812.226999  5.851111  6.699780\n",
       "20    979.834221  3.476980  6.887383\n",
       "21    253.193474  2.443614  5.534154\n",
       "22    837.773761  8.633752  6.730748\n",
       "23    628.866464  6.018003  6.443919\n",
       "24    834.383312  5.271725  6.726693\n",
       "25    572.221686  5.932739  6.349526\n",
       "26    507.405185  1.067751  6.229310\n",
       "27    726.326527  0.133214  6.588000\n",
       "28    839.126126  4.186353  6.732361\n",
       "29    872.042662  8.668029  6.770838\n",
       "...          ...       ...       ...\n",
       "9970  137.677831  5.251746  4.924916\n",
       "9971  789.642842  3.141261  6.671581\n",
       "9972  110.716252  5.611765  4.706971\n",
       "9973  712.781897  8.327919  6.569175\n",
       "9974  758.694405  5.901149  6.631599\n",
       "9975  538.821066  9.736396  6.289384\n",
       "9976  534.016379  8.364913  6.280427\n",
       "9977  298.358539  4.337242  5.698296\n",
       "9978  537.042957  3.258108  6.286078\n",
       "9979  325.295735  9.092544  5.784735\n",
       "9980  104.691277  1.522985  4.651016\n",
       "9981   77.882232  1.085338  4.355198\n",
       "9982  729.259651  6.676276  6.592030\n",
       "9983  879.660985  9.227108  6.779537\n",
       "9984  782.292865  9.869002  6.662229\n",
       "9985  624.021100  7.551726  6.436184\n",
       "9986  852.974799  2.512919  6.748730\n",
       "9987    3.696526  7.685780  1.307393\n",
       "9988  758.178435  6.743701  6.630919\n",
       "9989  182.696938  9.538936  5.207829\n",
       "9990  744.787683  2.801199  6.613099\n",
       "9991  826.812778  0.974317  6.717578\n",
       "9992  392.525833  8.798467  5.972602\n",
       "9993  996.152165  1.815698  6.903900\n",
       "9994  796.387518  4.737319  6.680086\n",
       "9995  846.099931  4.537748  6.740637\n",
       "9996  322.902520  5.277399  5.777350\n",
       "9997  545.500696  2.116216  6.301704\n",
       "9998  593.639992  4.631806  6.386273\n",
       "9999  355.762096  6.125090  5.874262\n",
       "\n",
       "[10000 rows x 3 columns]"
      ]
     },
     "execution_count": 11,
     "metadata": {},
     "output_type": "execute_result"
    }
   ],
   "source": [
    "df"
   ]
  },
  {
   "cell_type": "code",
   "execution_count": 12,
   "metadata": {},
   "outputs": [],
   "source": [
    "t1= np.where(df[\"a\"] >= df[\"x2\"],0,1)\n",
    "t2= np.where(df[\"a\"] >= df[\"x2\"],1,0)"
   ]
  },
  {
   "cell_type": "code",
   "execution_count": 13,
   "metadata": {},
   "outputs": [],
   "source": [
    "df[\"off\"] = t1\n",
    "df[\"on\"] = t2"
   ]
  },
  {
   "cell_type": "code",
   "execution_count": 14,
   "metadata": {
    "scrolled": false
   },
   "outputs": [
    {
     "data": {
      "text/html": [
       "<div>\n",
       "<style scoped>\n",
       "    .dataframe tbody tr th:only-of-type {\n",
       "        vertical-align: middle;\n",
       "    }\n",
       "\n",
       "    .dataframe tbody tr th {\n",
       "        vertical-align: top;\n",
       "    }\n",
       "\n",
       "    .dataframe thead th {\n",
       "        text-align: right;\n",
       "    }\n",
       "</style>\n",
       "<table border=\"1\" class=\"dataframe\">\n",
       "  <thead>\n",
       "    <tr style=\"text-align: right;\">\n",
       "      <th></th>\n",
       "      <th>x1</th>\n",
       "      <th>x2</th>\n",
       "      <th>a</th>\n",
       "      <th>off</th>\n",
       "      <th>on</th>\n",
       "    </tr>\n",
       "  </thead>\n",
       "  <tbody>\n",
       "    <tr>\n",
       "      <th>0</th>\n",
       "      <td>737.474192</td>\n",
       "      <td>0.452745</td>\n",
       "      <td>6.603231</td>\n",
       "      <td>0</td>\n",
       "      <td>1</td>\n",
       "    </tr>\n",
       "    <tr>\n",
       "      <th>1</th>\n",
       "      <td>726.439286</td>\n",
       "      <td>1.918077</td>\n",
       "      <td>6.588155</td>\n",
       "      <td>0</td>\n",
       "      <td>1</td>\n",
       "    </tr>\n",
       "    <tr>\n",
       "      <th>2</th>\n",
       "      <td>654.201673</td>\n",
       "      <td>3.768477</td>\n",
       "      <td>6.483416</td>\n",
       "      <td>0</td>\n",
       "      <td>1</td>\n",
       "    </tr>\n",
       "    <tr>\n",
       "      <th>3</th>\n",
       "      <td>891.856842</td>\n",
       "      <td>1.072212</td>\n",
       "      <td>6.793306</td>\n",
       "      <td>0</td>\n",
       "      <td>1</td>\n",
       "    </tr>\n",
       "    <tr>\n",
       "      <th>4</th>\n",
       "      <td>836.759089</td>\n",
       "      <td>5.466393</td>\n",
       "      <td>6.729536</td>\n",
       "      <td>0</td>\n",
       "      <td>1</td>\n",
       "    </tr>\n",
       "  </tbody>\n",
       "</table>\n",
       "</div>"
      ],
      "text/plain": [
       "           x1        x2         a  off  on\n",
       "0  737.474192  0.452745  6.603231    0   1\n",
       "1  726.439286  1.918077  6.588155    0   1\n",
       "2  654.201673  3.768477  6.483416    0   1\n",
       "3  891.856842  1.072212  6.793306    0   1\n",
       "4  836.759089  5.466393  6.729536    0   1"
      ]
     },
     "execution_count": 14,
     "metadata": {},
     "output_type": "execute_result"
    }
   ],
   "source": [
    "df.head()"
   ]
  },
  {
   "cell_type": "code",
   "execution_count": 15,
   "metadata": {},
   "outputs": [],
   "source": [
    "df1 = df[df.on==1]"
   ]
  },
  {
   "cell_type": "code",
   "execution_count": 16,
   "metadata": {},
   "outputs": [],
   "source": [
    "df2 = df[df.on==0]"
   ]
  },
  {
   "cell_type": "code",
   "execution_count": 17,
   "metadata": {
    "scrolled": true
   },
   "outputs": [
    {
     "data": {
      "text/html": [
       "<div>\n",
       "<style scoped>\n",
       "    .dataframe tbody tr th:only-of-type {\n",
       "        vertical-align: middle;\n",
       "    }\n",
       "\n",
       "    .dataframe tbody tr th {\n",
       "        vertical-align: top;\n",
       "    }\n",
       "\n",
       "    .dataframe thead th {\n",
       "        text-align: right;\n",
       "    }\n",
       "</style>\n",
       "<table border=\"1\" class=\"dataframe\">\n",
       "  <thead>\n",
       "    <tr style=\"text-align: right;\">\n",
       "      <th></th>\n",
       "      <th>x1</th>\n",
       "      <th>x2</th>\n",
       "      <th>a</th>\n",
       "      <th>off</th>\n",
       "      <th>on</th>\n",
       "    </tr>\n",
       "  </thead>\n",
       "  <tbody>\n",
       "    <tr>\n",
       "      <th>6</th>\n",
       "      <td>205.365129</td>\n",
       "      <td>6.781960</td>\n",
       "      <td>5.324790</td>\n",
       "      <td>1</td>\n",
       "      <td>0</td>\n",
       "    </tr>\n",
       "    <tr>\n",
       "      <th>7</th>\n",
       "      <td>400.366974</td>\n",
       "      <td>8.050183</td>\n",
       "      <td>5.992382</td>\n",
       "      <td>1</td>\n",
       "      <td>0</td>\n",
       "    </tr>\n",
       "    <tr>\n",
       "      <th>9</th>\n",
       "      <td>950.503815</td>\n",
       "      <td>9.172138</td>\n",
       "      <td>6.856992</td>\n",
       "      <td>1</td>\n",
       "      <td>0</td>\n",
       "    </tr>\n",
       "    <tr>\n",
       "      <th>11</th>\n",
       "      <td>859.209319</td>\n",
       "      <td>9.727321</td>\n",
       "      <td>6.756013</td>\n",
       "      <td>1</td>\n",
       "      <td>0</td>\n",
       "    </tr>\n",
       "    <tr>\n",
       "      <th>16</th>\n",
       "      <td>523.648387</td>\n",
       "      <td>6.506570</td>\n",
       "      <td>6.260820</td>\n",
       "      <td>1</td>\n",
       "      <td>0</td>\n",
       "    </tr>\n",
       "  </tbody>\n",
       "</table>\n",
       "</div>"
      ],
      "text/plain": [
       "            x1        x2         a  off  on\n",
       "6   205.365129  6.781960  5.324790    1   0\n",
       "7   400.366974  8.050183  5.992382    1   0\n",
       "9   950.503815  9.172138  6.856992    1   0\n",
       "11  859.209319  9.727321  6.756013    1   0\n",
       "16  523.648387  6.506570  6.260820    1   0"
      ]
     },
     "execution_count": 17,
     "metadata": {},
     "output_type": "execute_result"
    }
   ],
   "source": [
    "df2.head()"
   ]
  },
  {
   "cell_type": "code",
   "execution_count": 18,
   "metadata": {
    "collapsed": true
   },
   "outputs": [
    {
     "data": {
      "image/png": "[encoded data removed]",
      "text/plain": [
       "<matplotlib.figure.Figure at 0x10ae1ca58>"
      ]
     },
     "metadata": {},
     "output_type": "display_data"
    }
   ],
   "source": [
    "plt.scatter(df1[\"x1\"], df1[\"x2\"],\n",
    "            color='red', marker='x', label='off', s= 12)\n",
    "plt.scatter(df2[\"x1\"], df2[\"x2\"],\n",
    "            color='blue', marker='o', label='on', s = 12)\n",
    "plt.legend(loc='upper left')\n",
    "plt.savefig('non-liner dataset')\n",
    "plt.show()"
   ]
  },
  {
   "cell_type": "code",
   "execution_count": 19,
   "metadata": {},
   "outputs": [],
   "source": [
    "t = np.array([t1,t2])"
   ]
  },
  {
   "cell_type": "code",
   "execution_count": 20,
   "metadata": {},
   "outputs": [
    {
     "data": {
      "text/plain": [
       "array([[0, 1],\n",
       "       [0, 1],\n",
       "       [0, 1],\n",
       "       ...,\n",
       "       [0, 1],\n",
       "       [0, 1],\n",
       "       [1, 0]])"
      ]
     },
     "execution_count": 20,
     "metadata": {},
     "output_type": "execute_result"
    }
   ],
   "source": [
    "t.T"
   ]
  },
  {
   "cell_type": "code",
   "execution_count": 21,
   "metadata": {
    "scrolled": false
   },
   "outputs": [
    {
     "data": {
      "text/plain": [
       "(2, 10000)"
      ]
     },
     "execution_count": 21,
     "metadata": {},
     "output_type": "execute_result"
    }
   ],
   "source": [
    "t[:700].shape"
   ]
  },
  {
   "cell_type": "code",
   "execution_count": 22,
   "metadata": {
    "scrolled": true
   },
   "outputs": [
    {
     "name": "stdout",
     "output_type": "stream",
     "text": [
      "[[0 1]\n",
      " [0 1]\n",
      " [0 1]\n",
      " ...\n",
      " [0 1]\n",
      " [0 1]\n",
      " [1 0]]\n"
     ]
    }
   ],
   "source": [
    "t_train = t.T[:700,:]\n",
    "print(t_train)"
   ]
  },
  {
   "cell_type": "code",
   "execution_count": 23,
   "metadata": {},
   "outputs": [
    {
     "name": "stdout",
     "output_type": "stream",
     "text": [
      "[[0 1]\n",
      " [1 0]\n",
      " [0 1]\n",
      " ...\n",
      " [0 1]\n",
      " [0 1]\n",
      " [1 0]]\n"
     ]
    }
   ],
   "source": [
    "t_test = t.T[701:,:]\n",
    "print(t_test)"
   ]
  },
  {
   "cell_type": "code",
   "execution_count": 24,
   "metadata": {
    "scrolled": false
   },
   "outputs": [
    {
     "data": {
      "text/plain": [
       "(700, 2)"
      ]
     },
     "execution_count": 24,
     "metadata": {},
     "output_type": "execute_result"
    }
   ],
   "source": [
    "t_train.shape"
   ]
  },
  {
   "cell_type": "code",
   "execution_count": 25,
   "metadata": {},
   "outputs": [
    {
     "data": {
      "text/plain": [
       "(9299, 2)"
      ]
     },
     "execution_count": 25,
     "metadata": {},
     "output_type": "execute_result"
    }
   ],
   "source": [
    "t_test.shape"
   ]
  },
  {
   "cell_type": "code",
   "execution_count": 26,
   "metadata": {},
   "outputs": [],
   "source": [
    "(x_train, x_test) = (X[:700],X[701:])"
   ]
  },
  {
   "cell_type": "code",
   "execution_count": 27,
   "metadata": {
    "scrolled": true
   },
   "outputs": [
    {
     "data": {
      "text/plain": [
       "(700, 2)"
      ]
     },
     "execution_count": 27,
     "metadata": {},
     "output_type": "execute_result"
    }
   ],
   "source": [
    "x_train.shape"
   ]
  },
  {
   "cell_type": "code",
   "execution_count": 28,
   "metadata": {
    "scrolled": true
   },
   "outputs": [
    {
     "data": {
      "text/plain": [
       "(9299, 2)"
      ]
     },
     "execution_count": 28,
     "metadata": {},
     "output_type": "execute_result"
    }
   ],
   "source": [
    "x_test.shape"
   ]
  },
  {
   "cell_type": "code",
   "execution_count": 29,
   "metadata": {},
   "outputs": [],
   "source": [
    "train_size = x_train.shape[0]"
   ]
  },
  {
   "cell_type": "code",
   "execution_count": 30,
   "metadata": {},
   "outputs": [
    {
     "data": {
      "text/plain": [
       "700"
      ]
     },
     "execution_count": 30,
     "metadata": {},
     "output_type": "execute_result"
    }
   ],
   "source": [
    "train_size"
   ]
  },
  {
   "cell_type": "code",
   "execution_count": 35,
   "metadata": {},
   "outputs": [],
   "source": [
    "# coding: utf-8\n",
    "import sys, os\n",
    "sys.path.append(os.pardir)  # 親ディレクトリのファイルをインポートするための設定\n",
    "import numpy as np\n",
    "import matplotlib.pyplot as plt\n",
    "from common.multi_layer_net_extend import MultiLayerNetExtend\n",
    "from common.optimizer import SGD, Adam\n",
    "\n"
   ]
  },
  {
   "cell_type": "code",
   "execution_count": 36,
   "metadata": {},
   "outputs": [],
   "source": [
    "# coding: utf-8\n",
    "import sys, os\n",
    "sys.path.append(os.pardir)  # 親ディレクトリのファイルをインポートするための設定\n",
    "import numpy as np\n",
    "import matplotlib.pyplot as plt\n",
    "from common.multi_layer_net_extend import MultiLayerNetExtend\n",
    "from common.optimizer import SGD, Adam\n",
    "\n",
    "max_epochs = 50\n",
    "train_size = x_train.shape[0]\n",
    "batch_size = 7000\n",
    "learning_rate = 0.001\n",
    "iter_nums = 30000\n",
    "\n",
    "def __train(weight_init_std):\n",
    "    bn_network = MultiLayerNetExtend(input_size=2, hidden_size_list=[1000, 1000, 1000], output_size=2,\n",
    "                                     weight_init_std=weight_init_std, use_batchnorm=True)\n",
    "    network = MultiLayerNetExtend(input_size=2, hidden_size_list=[1000, 1000, 1000], output_size=2,\n",
    "                                weight_init_std=weight_init_std)\n",
    "    optimizer = SGD(lr=learning_rate)\n",
    "    \n",
    "    train_acc_list = []\n",
    "    bn_train_acc_list = []\n",
    "    \n",
    "    iter_per_epoch = max(train_size / batch_size, 1)\n",
    "    epoch_cnt = 0\n",
    "    \n",
    "    for i in range(iter_nums):\n",
    "        batch_mask = np.random.choice(train_size, batch_size)\n",
    "        x_batch = x_train[batch_mask]\n",
    "        t_batch = t_train[batch_mask]\n",
    "    \n",
    "        for _network in (bn_network, network):\n",
    "            grads = _network.gradient(x_batch, t_batch)\n",
    "            optimizer.update(_network.params, grads)\n",
    "    \n",
    "        if i % iter_per_epoch == 0:\n",
    "            train_acc = network.accuracy(x_train, t_train)\n",
    "            bn_train_acc = bn_network.accuracy(x_train, t_train)\n",
    "            train_acc_list.append(train_acc)\n",
    "            bn_train_acc_list.append(bn_train_acc)\n",
    "    \n",
    "            print(\"epoch:\" + str(epoch_cnt) + \" | \" + str(train_acc) + \" - \" + str(bn_train_acc))\n",
    "    \n",
    "            epoch_cnt += 1\n",
    "            if epoch_cnt >= max_epochs:\n",
    "                break\n",
    "                \n",
    "    return train_acc_list, bn_train_acc_list"
   ]
  },
  {
   "cell_type": "markdown",
   "metadata": {},
   "source": [
    "# データ数1万でバッチ数maxにして層、ニューロン数の影響を調べる "
   ]
  },
  {
   "cell_type": "code",
   "execution_count": 2,
   "metadata": {},
   "outputs": [],
   "source": [
    "import numpy as np\n",
    "import pandas as pd\n",
    "import matplotlib.pyplot as plt\n",
    "import math\n",
    "from numpy.random import *\n",
    "X = uniform(0,1000,(10000,2))"
   ]
  },
  {
   "cell_type": "code",
   "execution_count": 3,
   "metadata": {
    "scrolled": true
   },
   "outputs": [
    {
     "data": {
      "text/plain": [
       "(10000, 2)"
      ]
     },
     "execution_count": 3,
     "metadata": {},
     "output_type": "execute_result"
    }
   ],
   "source": [
    "X.shape"
   ]
  },
  {
   "cell_type": "code",
   "execution_count": 4,
   "metadata": {},
   "outputs": [
    {
     "data": {
      "text/plain": [
       "array([[737.47419163,  45.27454988],\n",
       "       [726.43928598, 191.8077124 ],\n",
       "       [654.20167315, 376.84774789],\n",
       "       ...,\n",
       "       [545.50069641, 211.62162803],\n",
       "       [593.63999222, 463.18057768],\n",
       "       [355.76209624, 612.50903592]])"
      ]
     },
     "execution_count": 4,
     "metadata": {},
     "output_type": "execute_result"
    }
   ],
   "source": [
    "X"
   ]
  },
  {
   "cell_type": "code",
   "execution_count": 5,
   "metadata": {},
   "outputs": [],
   "source": [
    "X[:,1] = X[:,1]/100"
   ]
  },
  {
   "cell_type": "code",
   "execution_count": 6,
   "metadata": {},
   "outputs": [
    {
     "data": {
      "text/plain": [
       "array([[7.37474192e+02, 4.52745499e-01],\n",
       "       [7.26439286e+02, 1.91807712e+00],\n",
       "       [6.54201673e+02, 3.76847748e+00],\n",
       "       ...,\n",
       "       [5.45500696e+02, 2.11621628e+00],\n",
       "       [5.93639992e+02, 4.63180578e+00],\n",
       "       [3.55762096e+02, 6.12509036e+00]])"
      ]
     },
     "execution_count": 6,
     "metadata": {},
     "output_type": "execute_result"
    }
   ],
   "source": [
    "X"
   ]
  },
  {
   "cell_type": "code",
   "execution_count": 7,
   "metadata": {
    "scrolled": true
   },
   "outputs": [],
   "source": [
    "df = pd.DataFrame({\"x1\": X[0:10000,0],\"x2\": X[0:10000,1]})"
   ]
  },
  {
   "cell_type": "code",
   "execution_count": 8,
   "metadata": {
    "scrolled": false
   },
   "outputs": [
    {
     "data": {
      "text/html": [
       "<div>\n",
       "<style scoped>\n",
       "    .dataframe tbody tr th:only-of-type {\n",
       "        vertical-align: middle;\n",
       "    }\n",
       "\n",
       "    .dataframe tbody tr th {\n",
       "        vertical-align: top;\n",
       "    }\n",
       "\n",
       "    .dataframe thead th {\n",
       "        text-align: right;\n",
       "    }\n",
       "</style>\n",
       "<table border=\"1\" class=\"dataframe\">\n",
       "  <thead>\n",
       "    <tr style=\"text-align: right;\">\n",
       "      <th></th>\n",
       "      <th>x1</th>\n",
       "      <th>x2</th>\n",
       "    </tr>\n",
       "  </thead>\n",
       "  <tbody>\n",
       "    <tr>\n",
       "      <th>9995</th>\n",
       "      <td>846.099931</td>\n",
       "      <td>4.537748</td>\n",
       "    </tr>\n",
       "    <tr>\n",
       "      <th>9996</th>\n",
       "      <td>322.902520</td>\n",
       "      <td>5.277399</td>\n",
       "    </tr>\n",
       "    <tr>\n",
       "      <th>9997</th>\n",
       "      <td>545.500696</td>\n",
       "      <td>2.116216</td>\n",
       "    </tr>\n",
       "    <tr>\n",
       "      <th>9998</th>\n",
       "      <td>593.639992</td>\n",
       "      <td>4.631806</td>\n",
       "    </tr>\n",
       "    <tr>\n",
       "      <th>9999</th>\n",
       "      <td>355.762096</td>\n",
       "      <td>6.125090</td>\n",
       "    </tr>\n",
       "  </tbody>\n",
       "</table>\n",
       "</div>"
      ],
      "text/plain": [
       "              x1        x2\n",
       "9995  846.099931  4.537748\n",
       "9996  322.902520  5.277399\n",
       "9997  545.500696  2.116216\n",
       "9998  593.639992  4.631806\n",
       "9999  355.762096  6.125090"
      ]
     },
     "execution_count": 8,
     "metadata": {},
     "output_type": "execute_result"
    }
   ],
   "source": [
    "df.tail()"
   ]
  },
  {
   "cell_type": "code",
   "execution_count": 9,
   "metadata": {},
   "outputs": [],
   "source": [
    "def calc_log(num):\n",
    "    return math.log(num)"
   ]
  },
  {
   "cell_type": "code",
   "execution_count": 10,
   "metadata": {
    "scrolled": true
   },
   "outputs": [],
   "source": [
    "df[\"a\"] = df['x1'].apply(calc_log)"
   ]
  },
  {
   "cell_type": "code",
   "execution_count": 11,
   "metadata": {
    "scrolled": true
   },
   "outputs": [
    {
     "data": {
      "text/html": [
       "<div>\n",
       "<style scoped>\n",
       "    .dataframe tbody tr th:only-of-type {\n",
       "        vertical-align: middle;\n",
       "    }\n",
       "\n",
       "    .dataframe tbody tr th {\n",
       "        vertical-align: top;\n",
       "    }\n",
       "\n",
       "    .dataframe thead th {\n",
       "        text-align: right;\n",
       "    }\n",
       "</style>\n",
       "<table border=\"1\" class=\"dataframe\">\n",
       "  <thead>\n",
       "    <tr style=\"text-align: right;\">\n",
       "      <th></th>\n",
       "      <th>x1</th>\n",
       "      <th>x2</th>\n",
       "      <th>a</th>\n",
       "    </tr>\n",
       "  </thead>\n",
       "  <tbody>\n",
       "    <tr>\n",
       "      <th>0</th>\n",
       "      <td>737.474192</td>\n",
       "      <td>0.452745</td>\n",
       "      <td>6.603231</td>\n",
       "    </tr>\n",
       "    <tr>\n",
       "      <th>1</th>\n",
       "      <td>726.439286</td>\n",
       "      <td>1.918077</td>\n",
       "      <td>6.588155</td>\n",
       "    </tr>\n",
       "    <tr>\n",
       "      <th>2</th>\n",
       "      <td>654.201673</td>\n",
       "      <td>3.768477</td>\n",
       "      <td>6.483416</td>\n",
       "    </tr>\n",
       "    <tr>\n",
       "      <th>3</th>\n",
       "      <td>891.856842</td>\n",
       "      <td>1.072212</td>\n",
       "      <td>6.793306</td>\n",
       "    </tr>\n",
       "    <tr>\n",
       "      <th>4</th>\n",
       "      <td>836.759089</td>\n",
       "      <td>5.466393</td>\n",
       "      <td>6.729536</td>\n",
       "    </tr>\n",
       "    <tr>\n",
       "      <th>5</th>\n",
       "      <td>433.119713</td>\n",
       "      <td>1.164897</td>\n",
       "      <td>6.071014</td>\n",
       "    </tr>\n",
       "    <tr>\n",
       "      <th>6</th>\n",
       "      <td>205.365129</td>\n",
       "      <td>6.781960</td>\n",
       "      <td>5.324790</td>\n",
       "    </tr>\n",
       "    <tr>\n",
       "      <th>7</th>\n",
       "      <td>400.366974</td>\n",
       "      <td>8.050183</td>\n",
       "      <td>5.992382</td>\n",
       "    </tr>\n",
       "    <tr>\n",
       "      <th>8</th>\n",
       "      <td>222.156713</td>\n",
       "      <td>3.679040</td>\n",
       "      <td>5.403383</td>\n",
       "    </tr>\n",
       "    <tr>\n",
       "      <th>9</th>\n",
       "      <td>950.503815</td>\n",
       "      <td>9.172138</td>\n",
       "      <td>6.856992</td>\n",
       "    </tr>\n",
       "    <tr>\n",
       "      <th>10</th>\n",
       "      <td>775.774186</td>\n",
       "      <td>5.405848</td>\n",
       "      <td>6.653861</td>\n",
       "    </tr>\n",
       "    <tr>\n",
       "      <th>11</th>\n",
       "      <td>859.209319</td>\n",
       "      <td>9.727321</td>\n",
       "      <td>6.756013</td>\n",
       "    </tr>\n",
       "    <tr>\n",
       "      <th>12</th>\n",
       "      <td>150.126478</td>\n",
       "      <td>2.157140</td>\n",
       "      <td>5.011478</td>\n",
       "    </tr>\n",
       "    <tr>\n",
       "      <th>13</th>\n",
       "      <td>807.805920</td>\n",
       "      <td>4.518291</td>\n",
       "      <td>6.694322</td>\n",
       "    </tr>\n",
       "    <tr>\n",
       "      <th>14</th>\n",
       "      <td>486.191823</td>\n",
       "      <td>3.011138</td>\n",
       "      <td>6.186603</td>\n",
       "    </tr>\n",
       "    <tr>\n",
       "      <th>15</th>\n",
       "      <td>774.822967</td>\n",
       "      <td>6.515924</td>\n",
       "      <td>6.652635</td>\n",
       "    </tr>\n",
       "    <tr>\n",
       "      <th>16</th>\n",
       "      <td>523.648387</td>\n",
       "      <td>6.506570</td>\n",
       "      <td>6.260820</td>\n",
       "    </tr>\n",
       "    <tr>\n",
       "      <th>17</th>\n",
       "      <td>4.865448</td>\n",
       "      <td>2.815849</td>\n",
       "      <td>1.582159</td>\n",
       "    </tr>\n",
       "    <tr>\n",
       "      <th>18</th>\n",
       "      <td>14.779793</td>\n",
       "      <td>6.868910</td>\n",
       "      <td>2.693261</td>\n",
       "    </tr>\n",
       "    <tr>\n",
       "      <th>19</th>\n",
       "      <td>812.226999</td>\n",
       "      <td>5.851111</td>\n",
       "      <td>6.699780</td>\n",
       "    </tr>\n",
       "    <tr>\n",
       "      <th>20</th>\n",
       "      <td>979.834221</td>\n",
       "      <td>3.476980</td>\n",
       "      <td>6.887383</td>\n",
       "    </tr>\n",
       "    <tr>\n",
       "      <th>21</th>\n",
       "      <td>253.193474</td>\n",
       "      <td>2.443614</td>\n",
       "      <td>5.534154</td>\n",
       "    </tr>\n",
       "    <tr>\n",
       "      <th>22</th>\n",
       "      <td>837.773761</td>\n",
       "      <td>8.633752</td>\n",
       "      <td>6.730748</td>\n",
       "    </tr>\n",
       "    <tr>\n",
       "      <th>23</th>\n",
       "      <td>628.866464</td>\n",
       "      <td>6.018003</td>\n",
       "      <td>6.443919</td>\n",
       "    </tr>\n",
       "    <tr>\n",
       "      <th>24</th>\n",
       "      <td>834.383312</td>\n",
       "      <td>5.271725</td>\n",
       "      <td>6.726693</td>\n",
       "    </tr>\n",
       "    <tr>\n",
       "      <th>25</th>\n",
       "      <td>572.221686</td>\n",
       "      <td>5.932739</td>\n",
       "      <td>6.349526</td>\n",
       "    </tr>\n",
       "    <tr>\n",
       "      <th>26</th>\n",
       "      <td>507.405185</td>\n",
       "      <td>1.067751</td>\n",
       "      <td>6.229310</td>\n",
       "    </tr>\n",
       "    <tr>\n",
       "      <th>27</th>\n",
       "      <td>726.326527</td>\n",
       "      <td>0.133214</td>\n",
       "      <td>6.588000</td>\n",
       "    </tr>\n",
       "    <tr>\n",
       "      <th>28</th>\n",
       "      <td>839.126126</td>\n",
       "      <td>4.186353</td>\n",
       "      <td>6.732361</td>\n",
       "    </tr>\n",
       "    <tr>\n",
       "      <th>29</th>\n",
       "      <td>872.042662</td>\n",
       "      <td>8.668029</td>\n",
       "      <td>6.770838</td>\n",
       "    </tr>\n",
       "    <tr>\n",
       "      <th>...</th>\n",
       "      <td>...</td>\n",
       "      <td>...</td>\n",
       "      <td>...</td>\n",
       "    </tr>\n",
       "    <tr>\n",
       "      <th>9970</th>\n",
       "      <td>137.677831</td>\n",
       "      <td>5.251746</td>\n",
       "      <td>4.924916</td>\n",
       "    </tr>\n",
       "    <tr>\n",
       "      <th>9971</th>\n",
       "      <td>789.642842</td>\n",
       "      <td>3.141261</td>\n",
       "      <td>6.671581</td>\n",
       "    </tr>\n",
       "    <tr>\n",
       "      <th>9972</th>\n",
       "      <td>110.716252</td>\n",
       "      <td>5.611765</td>\n",
       "      <td>4.706971</td>\n",
       "    </tr>\n",
       "    <tr>\n",
       "      <th>9973</th>\n",
       "      <td>712.781897</td>\n",
       "      <td>8.327919</td>\n",
       "      <td>6.569175</td>\n",
       "    </tr>\n",
       "    <tr>\n",
       "      <th>9974</th>\n",
       "      <td>758.694405</td>\n",
       "      <td>5.901149</td>\n",
       "      <td>6.631599</td>\n",
       "    </tr>\n",
       "    <tr>\n",
       "      <th>9975</th>\n",
       "      <td>538.821066</td>\n",
       "      <td>9.736396</td>\n",
       "      <td>6.289384</td>\n",
       "    </tr>\n",
       "    <tr>\n",
       "      <th>9976</th>\n",
       "      <td>534.016379</td>\n",
       "      <td>8.364913</td>\n",
       "      <td>6.280427</td>\n",
       "    </tr>\n",
       "    <tr>\n",
       "      <th>9977</th>\n",
       "      <td>298.358539</td>\n",
       "      <td>4.337242</td>\n",
       "      <td>5.698296</td>\n",
       "    </tr>\n",
       "    <tr>\n",
       "      <th>9978</th>\n",
       "      <td>537.042957</td>\n",
       "      <td>3.258108</td>\n",
       "      <td>6.286078</td>\n",
       "    </tr>\n",
       "    <tr>\n",
       "      <th>9979</th>\n",
       "      <td>325.295735</td>\n",
       "      <td>9.092544</td>\n",
       "      <td>5.784735</td>\n",
       "    </tr>\n",
       "    <tr>\n",
       "      <th>9980</th>\n",
       "      <td>104.691277</td>\n",
       "      <td>1.522985</td>\n",
       "      <td>4.651016</td>\n",
       "    </tr>\n",
       "    <tr>\n",
       "      <th>9981</th>\n",
       "      <td>77.882232</td>\n",
       "      <td>1.085338</td>\n",
       "      <td>4.355198</td>\n",
       "    </tr>\n",
       "    <tr>\n",
       "      <th>9982</th>\n",
       "      <td>729.259651</td>\n",
       "      <td>6.676276</td>\n",
       "      <td>6.592030</td>\n",
       "    </tr>\n",
       "    <tr>\n",
       "      <th>9983</th>\n",
       "      <td>879.660985</td>\n",
       "      <td>9.227108</td>\n",
       "      <td>6.779537</td>\n",
       "    </tr>\n",
       "    <tr>\n",
       "      <th>9984</th>\n",
       "      <td>782.292865</td>\n",
       "      <td>9.869002</td>\n",
       "      <td>6.662229</td>\n",
       "    </tr>\n",
       "    <tr>\n",
       "      <th>9985</th>\n",
       "      <td>624.021100</td>\n",
       "      <td>7.551726</td>\n",
       "      <td>6.436184</td>\n",
       "    </tr>\n",
       "    <tr>\n",
       "      <th>9986</th>\n",
       "      <td>852.974799</td>\n",
       "      <td>2.512919</td>\n",
       "      <td>6.748730</td>\n",
       "    </tr>\n",
       "    <tr>\n",
       "      <th>9987</th>\n",
       "      <td>3.696526</td>\n",
       "      <td>7.685780</td>\n",
       "      <td>1.307393</td>\n",
       "    </tr>\n",
       "    <tr>\n",
       "      <th>9988</th>\n",
       "      <td>758.178435</td>\n",
       "      <td>6.743701</td>\n",
       "      <td>6.630919</td>\n",
       "    </tr>\n",
       "    <tr>\n",
       "      <th>9989</th>\n",
       "      <td>182.696938</td>\n",
       "      <td>9.538936</td>\n",
       "      <td>5.207829</td>\n",
       "    </tr>\n",
       "    <tr>\n",
       "      <th>9990</th>\n",
       "      <td>744.787683</td>\n",
       "      <td>2.801199</td>\n",
       "      <td>6.613099</td>\n",
       "    </tr>\n",
       "    <tr>\n",
       "      <th>9991</th>\n",
       "      <td>826.812778</td>\n",
       "      <td>0.974317</td>\n",
       "      <td>6.717578</td>\n",
       "    </tr>\n",
       "    <tr>\n",
       "      <th>9992</th>\n",
       "      <td>392.525833</td>\n",
       "      <td>8.798467</td>\n",
       "      <td>5.972602</td>\n",
       "    </tr>\n",
       "    <tr>\n",
       "      <th>9993</th>\n",
       "      <td>996.152165</td>\n",
       "      <td>1.815698</td>\n",
       "      <td>6.903900</td>\n",
       "    </tr>\n",
       "    <tr>\n",
       "      <th>9994</th>\n",
       "      <td>796.387518</td>\n",
       "      <td>4.737319</td>\n",
       "      <td>6.680086</td>\n",
       "    </tr>\n",
       "    <tr>\n",
       "      <th>9995</th>\n",
       "      <td>846.099931</td>\n",
       "      <td>4.537748</td>\n",
       "      <td>6.740637</td>\n",
       "    </tr>\n",
       "    <tr>\n",
       "      <th>9996</th>\n",
       "      <td>322.902520</td>\n",
       "      <td>5.277399</td>\n",
       "      <td>5.777350</td>\n",
       "    </tr>\n",
       "    <tr>\n",
       "      <th>9997</th>\n",
       "      <td>545.500696</td>\n",
       "      <td>2.116216</td>\n",
       "      <td>6.301704</td>\n",
       "    </tr>\n",
       "    <tr>\n",
       "      <th>9998</th>\n",
       "      <td>593.639992</td>\n",
       "      <td>4.631806</td>\n",
       "      <td>6.386273</td>\n",
       "    </tr>\n",
       "    <tr>\n",
       "      <th>9999</th>\n",
       "      <td>355.762096</td>\n",
       "      <td>6.125090</td>\n",
       "      <td>5.874262</td>\n",
       "    </tr>\n",
       "  </tbody>\n",
       "</table>\n",
       "<p>10000 rows × 3 columns</p>\n",
       "</div>"
      ],
      "text/plain": [
       "              x1        x2         a\n",
       "0     737.474192  0.452745  6.603231\n",
       "1     726.439286  1.918077  6.588155\n",
       "2     654.201673  3.768477  6.483416\n",
       "3     891.856842  1.072212  6.793306\n",
       "4     836.759089  5.466393  6.729536\n",
       "5     433.119713  1.164897  6.071014\n",
       "6     205.365129  6.781960  5.324790\n",
       "7     400.366974  8.050183  5.992382\n",
       "8     222.156713  3.679040  5.403383\n",
       "9     950.503815  9.172138  6.856992\n",
       "10    775.774186  5.405848  6.653861\n",
       "11    859.209319  9.727321  6.756013\n",
       "12    150.126478  2.157140  5.011478\n",
       "13    807.805920  4.518291  6.694322\n",
       "14    486.191823  3.011138  6.186603\n",
       "15    774.822967  6.515924  6.652635\n",
       "16    523.648387  6.506570  6.260820\n",
       "17      4.865448  2.815849  1.582159\n",
       "18     14.779793  6.868910  2.693261\n",
       "19    812.226999  5.851111  6.699780\n",
       "20    979.834221  3.476980  6.887383\n",
       "21    253.193474  2.443614  5.534154\n",
       "22    837.773761  8.633752  6.730748\n",
       "23    628.866464  6.018003  6.443919\n",
       "24    834.383312  5.271725  6.726693\n",
       "25    572.221686  5.932739  6.349526\n",
       "26    507.405185  1.067751  6.229310\n",
       "27    726.326527  0.133214  6.588000\n",
       "28    839.126126  4.186353  6.732361\n",
       "29    872.042662  8.668029  6.770838\n",
       "...          ...       ...       ...\n",
       "9970  137.677831  5.251746  4.924916\n",
       "9971  789.642842  3.141261  6.671581\n",
       "9972  110.716252  5.611765  4.706971\n",
       "9973  712.781897  8.327919  6.569175\n",
       "9974  758.694405  5.901149  6.631599\n",
       "9975  538.821066  9.736396  6.289384\n",
       "9976  534.016379  8.364913  6.280427\n",
       "9977  298.358539  4.337242  5.698296\n",
       "9978  537.042957  3.258108  6.286078\n",
       "9979  325.295735  9.092544  5.784735\n",
       "9980  104.691277  1.522985  4.651016\n",
       "9981   77.882232  1.085338  4.355198\n",
       "9982  729.259651  6.676276  6.592030\n",
       "9983  879.660985  9.227108  6.779537\n",
       "9984  782.292865  9.869002  6.662229\n",
       "9985  624.021100  7.551726  6.436184\n",
       "9986  852.974799  2.512919  6.748730\n",
       "9987    3.696526  7.685780  1.307393\n",
       "9988  758.178435  6.743701  6.630919\n",
       "9989  182.696938  9.538936  5.207829\n",
       "9990  744.787683  2.801199  6.613099\n",
       "9991  826.812778  0.974317  6.717578\n",
       "9992  392.525833  8.798467  5.972602\n",
       "9993  996.152165  1.815698  6.903900\n",
       "9994  796.387518  4.737319  6.680086\n",
       "9995  846.099931  4.537748  6.740637\n",
       "9996  322.902520  5.277399  5.777350\n",
       "9997  545.500696  2.116216  6.301704\n",
       "9998  593.639992  4.631806  6.386273\n",
       "9999  355.762096  6.125090  5.874262\n",
       "\n",
       "[10000 rows x 3 columns]"
      ]
     },
     "execution_count": 11,
     "metadata": {},
     "output_type": "execute_result"
    }
   ],
   "source": [
    "df"
   ]
  },
  {
   "cell_type": "code",
   "execution_count": 12,
   "metadata": {},
   "outputs": [],
   "source": [
    "t1= np.where(df[\"a\"] >= df[\"x2\"],0,1)\n",
    "t2= np.where(df[\"a\"] >= df[\"x2\"],1,0)"
   ]
  },
  {
   "cell_type": "code",
   "execution_count": 13,
   "metadata": {},
   "outputs": [],
   "source": [
    "df[\"off\"] = t1\n",
    "df[\"on\"] = t2"
   ]
  },
  {
   "cell_type": "code",
   "execution_count": 14,
   "metadata": {
    "scrolled": false
   },
   "outputs": [
    {
     "data": {
      "text/html": [
       "<div>\n",
       "<style scoped>\n",
       "    .dataframe tbody tr th:only-of-type {\n",
       "        vertical-align: middle;\n",
       "    }\n",
       "\n",
       "    .dataframe tbody tr th {\n",
       "        vertical-align: top;\n",
       "    }\n",
       "\n",
       "    .dataframe thead th {\n",
       "        text-align: right;\n",
       "    }\n",
       "</style>\n",
       "<table border=\"1\" class=\"dataframe\">\n",
       "  <thead>\n",
       "    <tr style=\"text-align: right;\">\n",
       "      <th></th>\n",
       "      <th>x1</th>\n",
       "      <th>x2</th>\n",
       "      <th>a</th>\n",
       "      <th>off</th>\n",
       "      <th>on</th>\n",
       "    </tr>\n",
       "  </thead>\n",
       "  <tbody>\n",
       "    <tr>\n",
       "      <th>0</th>\n",
       "      <td>737.474192</td>\n",
       "      <td>0.452745</td>\n",
       "      <td>6.603231</td>\n",
       "      <td>0</td>\n",
       "      <td>1</td>\n",
       "    </tr>\n",
       "    <tr>\n",
       "      <th>1</th>\n",
       "      <td>726.439286</td>\n",
       "      <td>1.918077</td>\n",
       "      <td>6.588155</td>\n",
       "      <td>0</td>\n",
       "      <td>1</td>\n",
       "    </tr>\n",
       "    <tr>\n",
       "      <th>2</th>\n",
       "      <td>654.201673</td>\n",
       "      <td>3.768477</td>\n",
       "      <td>6.483416</td>\n",
       "      <td>0</td>\n",
       "      <td>1</td>\n",
       "    </tr>\n",
       "    <tr>\n",
       "      <th>3</th>\n",
       "      <td>891.856842</td>\n",
       "      <td>1.072212</td>\n",
       "      <td>6.793306</td>\n",
       "      <td>0</td>\n",
       "      <td>1</td>\n",
       "    </tr>\n",
       "    <tr>\n",
       "      <th>4</th>\n",
       "      <td>836.759089</td>\n",
       "      <td>5.466393</td>\n",
       "      <td>6.729536</td>\n",
       "      <td>0</td>\n",
       "      <td>1</td>\n",
       "    </tr>\n",
       "  </tbody>\n",
       "</table>\n",
       "</div>"
      ],
      "text/plain": [
       "           x1        x2         a  off  on\n",
       "0  737.474192  0.452745  6.603231    0   1\n",
       "1  726.439286  1.918077  6.588155    0   1\n",
       "2  654.201673  3.768477  6.483416    0   1\n",
       "3  891.856842  1.072212  6.793306    0   1\n",
       "4  836.759089  5.466393  6.729536    0   1"
      ]
     },
     "execution_count": 14,
     "metadata": {},
     "output_type": "execute_result"
    }
   ],
   "source": [
    "df.head()"
   ]
  },
  {
   "cell_type": "code",
   "execution_count": 15,
   "metadata": {},
   "outputs": [],
   "source": [
    "df1 = df[df.on==1]"
   ]
  },
  {
   "cell_type": "code",
   "execution_count": 16,
   "metadata": {},
   "outputs": [],
   "source": [
    "df2 = df[df.on==0]"
   ]
  },
  {
   "cell_type": "code",
   "execution_count": 17,
   "metadata": {
    "scrolled": true
   },
   "outputs": [
    {
     "data": {
      "text/html": [
       "<div>\n",
       "<style scoped>\n",
       "    .dataframe tbody tr th:only-of-type {\n",
       "        vertical-align: middle;\n",
       "    }\n",
       "\n",
       "    .dataframe tbody tr th {\n",
       "        vertical-align: top;\n",
       "    }\n",
       "\n",
       "    .dataframe thead th {\n",
       "        text-align: right;\n",
       "    }\n",
       "</style>\n",
       "<table border=\"1\" class=\"dataframe\">\n",
       "  <thead>\n",
       "    <tr style=\"text-align: right;\">\n",
       "      <th></th>\n",
       "      <th>x1</th>\n",
       "      <th>x2</th>\n",
       "      <th>a</th>\n",
       "      <th>off</th>\n",
       "      <th>on</th>\n",
       "    </tr>\n",
       "  </thead>\n",
       "  <tbody>\n",
       "    <tr>\n",
       "      <th>6</th>\n",
       "      <td>205.365129</td>\n",
       "      <td>6.781960</td>\n",
       "      <td>5.324790</td>\n",
       "      <td>1</td>\n",
       "      <td>0</td>\n",
       "    </tr>\n",
       "    <tr>\n",
       "      <th>7</th>\n",
       "      <td>400.366974</td>\n",
       "      <td>8.050183</td>\n",
       "      <td>5.992382</td>\n",
       "      <td>1</td>\n",
       "      <td>0</td>\n",
       "    </tr>\n",
       "    <tr>\n",
       "      <th>9</th>\n",
       "      <td>950.503815</td>\n",
       "      <td>9.172138</td>\n",
       "      <td>6.856992</td>\n",
       "      <td>1</td>\n",
       "      <td>0</td>\n",
       "    </tr>\n",
       "    <tr>\n",
       "      <th>11</th>\n",
       "      <td>859.209319</td>\n",
       "      <td>9.727321</td>\n",
       "      <td>6.756013</td>\n",
       "      <td>1</td>\n",
       "      <td>0</td>\n",
       "    </tr>\n",
       "    <tr>\n",
       "      <th>16</th>\n",
       "      <td>523.648387</td>\n",
       "      <td>6.506570</td>\n",
       "      <td>6.260820</td>\n",
       "      <td>1</td>\n",
       "      <td>0</td>\n",
       "    </tr>\n",
       "  </tbody>\n",
       "</table>\n",
       "</div>"
      ],
      "text/plain": [
       "            x1        x2         a  off  on\n",
       "6   205.365129  6.781960  5.324790    1   0\n",
       "7   400.366974  8.050183  5.992382    1   0\n",
       "9   950.503815  9.172138  6.856992    1   0\n",
       "11  859.209319  9.727321  6.756013    1   0\n",
       "16  523.648387  6.506570  6.260820    1   0"
      ]
     },
     "execution_count": 17,
     "metadata": {},
     "output_type": "execute_result"
    }
   ],
   "source": [
    "df2.head()"
   ]
  },
  {
   "cell_type": "code",
   "execution_count": 18,
   "metadata": {
    "scrolled": true
   },
   "outputs": [
    {
     "data": {
      "image/png": "[encoded data removed]",
      "text/plain": [
       "<matplotlib.figure.Figure at 0x10ae1ca58>"
      ]
     },
     "metadata": {},
     "output_type": "display_data"
    }
   ],
   "source": [
    "plt.scatter(df1[\"x1\"], df1[\"x2\"],\n",
    "            color='red', marker='x', label='off', s= 12)\n",
    "plt.scatter(df2[\"x1\"], df2[\"x2\"],\n",
    "            color='blue', marker='o', label='on', s = 12)\n",
    "plt.legend(loc='upper left')\n",
    "plt.savefig('non-liner dataset')\n",
    "plt.show()"
   ]
  },
  {
   "cell_type": "code",
   "execution_count": 19,
   "metadata": {},
   "outputs": [],
   "source": [
    "t = np.array([t1,t2])"
   ]
  },
  {
   "cell_type": "code",
   "execution_count": 20,
   "metadata": {},
   "outputs": [
    {
     "data": {
      "text/plain": [
       "array([[0, 1],\n",
       "       [0, 1],\n",
       "       [0, 1],\n",
       "       ...,\n",
       "       [0, 1],\n",
       "       [0, 1],\n",
       "       [1, 0]])"
      ]
     },
     "execution_count": 20,
     "metadata": {},
     "output_type": "execute_result"
    }
   ],
   "source": [
    "t.T"
   ]
  },
  {
   "cell_type": "code",
   "execution_count": 21,
   "metadata": {
    "scrolled": false
   },
   "outputs": [
    {
     "data": {
      "text/plain": [
       "(2, 10000)"
      ]
     },
     "execution_count": 21,
     "metadata": {},
     "output_type": "execute_result"
    }
   ],
   "source": [
    "t[:700].shape"
   ]
  },
  {
   "cell_type": "code",
   "execution_count": 22,
   "metadata": {
    "scrolled": true
   },
   "outputs": [
    {
     "name": "stdout",
     "output_type": "stream",
     "text": [
      "[[0 1]\n",
      " [0 1]\n",
      " [0 1]\n",
      " ...\n",
      " [0 1]\n",
      " [0 1]\n",
      " [1 0]]\n"
     ]
    }
   ],
   "source": [
    "t_train = t.T[:700,:]\n",
    "print(t_train)"
   ]
  },
  {
   "cell_type": "code",
   "execution_count": 23,
   "metadata": {},
   "outputs": [
    {
     "name": "stdout",
     "output_type": "stream",
     "text": [
      "[[0 1]\n",
      " [1 0]\n",
      " [0 1]\n",
      " ...\n",
      " [0 1]\n",
      " [0 1]\n",
      " [1 0]]\n"
     ]
    }
   ],
   "source": [
    "t_test = t.T[701:,:]\n",
    "print(t_test)"
   ]
  },
  {
   "cell_type": "code",
   "execution_count": 24,
   "metadata": {
    "scrolled": false
   },
   "outputs": [
    {
     "data": {
      "text/plain": [
       "(700, 2)"
      ]
     },
     "execution_count": 24,
     "metadata": {},
     "output_type": "execute_result"
    }
   ],
   "source": [
    "t_train.shape"
   ]
  },
  {
   "cell_type": "code",
   "execution_count": 25,
   "metadata": {},
   "outputs": [
    {
     "data": {
      "text/plain": [
       "(9299, 2)"
      ]
     },
     "execution_count": 25,
     "metadata": {},
     "output_type": "execute_result"
    }
   ],
   "source": [
    "t_test.shape"
   ]
  },
  {
   "cell_type": "code",
   "execution_count": 26,
   "metadata": {},
   "outputs": [],
   "source": [
    "(x_train, x_test) = (X[:700],X[701:])"
   ]
  },
  {
   "cell_type": "code",
   "execution_count": 27,
   "metadata": {
    "scrolled": true
   },
   "outputs": [
    {
     "data": {
      "text/plain": [
       "(700, 2)"
      ]
     },
     "execution_count": 27,
     "metadata": {},
     "output_type": "execute_result"
    }
   ],
   "source": [
    "x_train.shape"
   ]
  },
  {
   "cell_type": "code",
   "execution_count": 28,
   "metadata": {
    "scrolled": true
   },
   "outputs": [
    {
     "data": {
      "text/plain": [
       "(9299, 2)"
      ]
     },
     "execution_count": 28,
     "metadata": {},
     "output_type": "execute_result"
    }
   ],
   "source": [
    "x_test.shape"
   ]
  },
  {
   "cell_type": "code",
   "execution_count": 29,
   "metadata": {},
   "outputs": [],
   "source": [
    "train_size = x_train.shape[0]"
   ]
  },
  {
   "cell_type": "code",
   "execution_count": 30,
   "metadata": {},
   "outputs": [
    {
     "data": {
      "text/plain": [
       "700"
      ]
     },
     "execution_count": 30,
     "metadata": {},
     "output_type": "execute_result"
    }
   ],
   "source": [
    "train_size"
   ]
  },
  {
   "cell_type": "code",
   "execution_count": 35,
   "metadata": {},
   "outputs": [],
   "source": [
    "# coding: utf-8\n",
    "import sys, os\n",
    "sys.path.append(os.pardir)  # 親ディレクトリのファイルをインポートするための設定\n",
    "import numpy as np\n",
    "import matplotlib.pyplot as plt\n",
    "from common.multi_layer_net_extend import MultiLayerNetExtend\n",
    "from common.optimizer import SGD, Adam\n",
    "\n"
   ]
  },
  {
   "cell_type": "code",
   "execution_count": 36,
   "metadata": {},
   "outputs": [],
   "source": [
    "# coding: utf-8\n",
    "import sys, os\n",
    "sys.path.append(os.pardir)  # 親ディレクトリのファイルをインポートするための設定\n",
    "import numpy as np\n",
    "import matplotlib.pyplot as plt\n",
    "from common.multi_layer_net_extend import MultiLayerNetExtend\n",
    "from common.optimizer import SGD, Adam\n",
    "\n",
    "max_epochs = 50\n",
    "train_size = x_train.shape[0]\n",
    "batch_size = 7000\n",
    "learning_rate = 0.001\n",
    "iter_nums = 30000\n",
    "\n",
    "def __train(weight_init_std):\n",
    "    bn_network = MultiLayerNetExtend(input_size=2, hidden_size_list=[1000, 1000, 1000], output_size=2,\n",
    "                                     weight_init_std=weight_init_std, use_batchnorm=True)\n",
    "    network = MultiLayerNetExtend(input_size=2, hidden_size_list=[1000, 1000, 1000], output_size=2,\n",
    "                                weight_init_std=weight_init_std)\n",
    "    optimizer = SGD(lr=learning_rate)\n",
    "    \n",
    "    train_acc_list = []\n",
    "    bn_train_acc_list = []\n",
    "    \n",
    "    iter_per_epoch = max(train_size / batch_size, 1)\n",
    "    epoch_cnt = 0\n",
    "    \n",
    "    for i in range(iter_nums):\n",
    "        batch_mask = np.random.choice(train_size, batch_size)\n",
    "        x_batch = x_train[batch_mask]\n",
    "        t_batch = t_train[batch_mask]\n",
    "    \n",
    "        for _network in (bn_network, network):\n",
    "            grads = _network.gradient(x_batch, t_batch)\n",
    "            optimizer.update(_network.params, grads)\n",
    "    \n",
    "        if i % iter_per_epoch == 0:\n",
    "            train_acc = network.accuracy(x_train, t_train)\n",
    "            bn_train_acc = bn_network.accuracy(x_train, t_train)\n",
    "            train_acc_list.append(train_acc)\n",
    "            bn_train_acc_list.append(bn_train_acc)\n",
    "    \n",
    "            print(\"epoch:\" + str(epoch_cnt) + \" | \" + str(train_acc) + \" - \" + str(bn_train_acc))\n",
    "    \n",
    "            epoch_cnt += 1\n",
    "            if epoch_cnt >= max_epochs:\n",
    "                break\n",
    "                \n",
    "    return train_acc_list, bn_train_acc_list"
   ]
  },
  {
   "cell_type": "code",
   "execution_count": 37,
   "metadata": {
    "scrolled": true
   },
   "outputs": [
    {
     "name": "stdout",
     "output_type": "stream",
     "text": [
      "epoch:0 | 0.3942857142857143 - 0.3942857142857143\n",
      "epoch:1 | 0.6057142857142858 - 0.39571428571428574\n",
      "epoch:2 | 0.6057142857142858 - 0.39571428571428574\n",
      "epoch:3 | 0.3942857142857143 - 0.4157142857142857\n",
      "epoch:4 | 0.6057142857142858 - 0.6571428571428571\n",
      "epoch:5 | 0.6057142857142858 - 0.79\n",
      "epoch:6 | 0.3942857142857143 - 0.8071428571428572\n",
      "epoch:7 | 0.6057142857142858 - 0.8314285714285714\n",
      "epoch:8 | 0.6057142857142858 - 0.8285714285714286\n",
      "epoch:9 | 0.3942857142857143 - 0.84\n",
      "epoch:10 | 0.6057142857142858 - 0.8385714285714285\n"
     ]
    },
    {
     "ename": "KeyboardInterrupt",
     "evalue": "",
     "output_type": "error",
     "traceback": [
      "\u001b[0;31m---------------------------------------------------------------------------\u001b[0m",
      "\u001b[0;31mKeyboardInterrupt\u001b[0m                         Traceback (most recent call last)",
      "\u001b[0;32m<ipython-input-37-cabfa38baebd>\u001b[0m in \u001b[0;36m<module>\u001b[0;34m()\u001b[0m\n\u001b[0;32m----> 1\u001b[0;31m \u001b[0mtrain_acc_list03\u001b[0m\u001b[0;34m,\u001b[0m \u001b[0mbn_train_acc_list03\u001b[0m \u001b[0;34m=\u001b[0m \u001b[0m__train\u001b[0m\u001b[0;34m(\u001b[0m\u001b[0;34m'He'\u001b[0m\u001b[0;34m)\u001b[0m\u001b[0;34m\u001b[0m\u001b[0m\n\u001b[0m",
      "\u001b[0;32m<ipython-input-36-2cc5a1a835b8>\u001b[0m in \u001b[0;36m__train\u001b[0;34m(weight_init_std)\u001b[0m\n\u001b[1;32m     32\u001b[0m \u001b[0;34m\u001b[0m\u001b[0m\n\u001b[1;32m     33\u001b[0m         \u001b[0;32mfor\u001b[0m \u001b[0m_network\u001b[0m \u001b[0;32min\u001b[0m \u001b[0;34m(\u001b[0m\u001b[0mbn_network\u001b[0m\u001b[0;34m,\u001b[0m \u001b[0mnetwork\u001b[0m\u001b[0;34m)\u001b[0m\u001b[0;34m:\u001b[0m\u001b[0;34m\u001b[0m\u001b[0m\n\u001b[0;32m---> 34\u001b[0;31m             \u001b[0mgrads\u001b[0m \u001b[0;34m=\u001b[0m \u001b[0m_network\u001b[0m\u001b[0;34m.\u001b[0m\u001b[0mgradient\u001b[0m\u001b[0;34m(\u001b[0m\u001b[0mx_batch\u001b[0m\u001b[0;34m,\u001b[0m \u001b[0mt_batch\u001b[0m\u001b[0;34m)\u001b[0m\u001b[0;34m\u001b[0m\u001b[0m\n\u001b[0m\u001b[1;32m     35\u001b[0m             \u001b[0moptimizer\u001b[0m\u001b[0;34m.\u001b[0m\u001b[0mupdate\u001b[0m\u001b[0;34m(\u001b[0m\u001b[0m_network\u001b[0m\u001b[0;34m.\u001b[0m\u001b[0mparams\u001b[0m\u001b[0;34m,\u001b[0m \u001b[0mgrads\u001b[0m\u001b[0;34m)\u001b[0m\u001b[0;34m\u001b[0m\u001b[0m\n\u001b[1;32m     36\u001b[0m \u001b[0;34m\u001b[0m\u001b[0m\n",
      "\u001b[0;32m~/research/deep learning/library/common/multi_layer_net_extend.py\u001b[0m in \u001b[0;36mgradient\u001b[0;34m(self, x, t)\u001b[0m\n\u001b[1;32m    140\u001b[0m     \u001b[0;32mdef\u001b[0m \u001b[0mgradient\u001b[0m\u001b[0;34m(\u001b[0m\u001b[0mself\u001b[0m\u001b[0;34m,\u001b[0m \u001b[0mx\u001b[0m\u001b[0;34m,\u001b[0m \u001b[0mt\u001b[0m\u001b[0;34m)\u001b[0m\u001b[0;34m:\u001b[0m\u001b[0;34m\u001b[0m\u001b[0m\n\u001b[1;32m    141\u001b[0m         \u001b[0;31m# forward\u001b[0m\u001b[0;34m\u001b[0m\u001b[0;34m\u001b[0m\u001b[0m\n\u001b[0;32m--> 142\u001b[0;31m         \u001b[0mself\u001b[0m\u001b[0;34m.\u001b[0m\u001b[0mloss\u001b[0m\u001b[0;34m(\u001b[0m\u001b[0mx\u001b[0m\u001b[0;34m,\u001b[0m \u001b[0mt\u001b[0m\u001b[0;34m,\u001b[0m \u001b[0mtrain_flg\u001b[0m\u001b[0;34m=\u001b[0m\u001b[0;32mTrue\u001b[0m\u001b[0;34m)\u001b[0m\u001b[0;34m\u001b[0m\u001b[0m\n\u001b[0m\u001b[1;32m    143\u001b[0m \u001b[0;34m\u001b[0m\u001b[0m\n\u001b[1;32m    144\u001b[0m         \u001b[0;31m# backward\u001b[0m\u001b[0;34m\u001b[0m\u001b[0;34m\u001b[0m\u001b[0m\n",
      "\u001b[0;32m~/research/deep learning/library/common/multi_layer_net_extend.py\u001b[0m in \u001b[0;36mloss\u001b[0;34m(self, x, t, train_flg)\u001b[0m\n\u001b[1;32m     94\u001b[0m         \u001b[0m引数のxは入力データ\u001b[0m\u001b[0;31m、\u001b[0m\u001b[0mtは教師ラベル\u001b[0m\u001b[0;34m\u001b[0m\u001b[0m\n\u001b[1;32m     95\u001b[0m         \"\"\"\n\u001b[0;32m---> 96\u001b[0;31m         \u001b[0my\u001b[0m \u001b[0;34m=\u001b[0m \u001b[0mself\u001b[0m\u001b[0;34m.\u001b[0m\u001b[0mpredict\u001b[0m\u001b[0;34m(\u001b[0m\u001b[0mx\u001b[0m\u001b[0;34m,\u001b[0m \u001b[0mtrain_flg\u001b[0m\u001b[0;34m)\u001b[0m\u001b[0;34m\u001b[0m\u001b[0m\n\u001b[0m\u001b[1;32m     97\u001b[0m \u001b[0;34m\u001b[0m\u001b[0m\n\u001b[1;32m     98\u001b[0m         \u001b[0mweight_decay\u001b[0m \u001b[0;34m=\u001b[0m \u001b[0;36m0\u001b[0m\u001b[0;34m\u001b[0m\u001b[0m\n",
      "\u001b[0;32m~/research/deep learning/library/common/multi_layer_net_extend.py\u001b[0m in \u001b[0;36mpredict\u001b[0;34m(self, x, train_flg)\u001b[0m\n\u001b[1;32m     86\u001b[0m                 \u001b[0mx\u001b[0m \u001b[0;34m=\u001b[0m \u001b[0mlayer\u001b[0m\u001b[0;34m.\u001b[0m\u001b[0mforward\u001b[0m\u001b[0;34m(\u001b[0m\u001b[0mx\u001b[0m\u001b[0;34m,\u001b[0m \u001b[0mtrain_flg\u001b[0m\u001b[0;34m)\u001b[0m\u001b[0;34m\u001b[0m\u001b[0m\n\u001b[1;32m     87\u001b[0m             \u001b[0;32melse\u001b[0m\u001b[0;34m:\u001b[0m\u001b[0;34m\u001b[0m\u001b[0m\n\u001b[0;32m---> 88\u001b[0;31m                 \u001b[0mx\u001b[0m \u001b[0;34m=\u001b[0m \u001b[0mlayer\u001b[0m\u001b[0;34m.\u001b[0m\u001b[0mforward\u001b[0m\u001b[0;34m(\u001b[0m\u001b[0mx\u001b[0m\u001b[0;34m)\u001b[0m\u001b[0;34m\u001b[0m\u001b[0m\n\u001b[0m\u001b[1;32m     89\u001b[0m \u001b[0;34m\u001b[0m\u001b[0m\n\u001b[1;32m     90\u001b[0m         \u001b[0;32mreturn\u001b[0m \u001b[0mx\u001b[0m\u001b[0;34m\u001b[0m\u001b[0m\n",
      "\u001b[0;32m~/research/deep learning/library/common/layers.py\u001b[0m in \u001b[0;36mforward\u001b[0;34m(self, x)\u001b[0m\n\u001b[1;32m     55\u001b[0m         \u001b[0mself\u001b[0m\u001b[0;34m.\u001b[0m\u001b[0mx\u001b[0m \u001b[0;34m=\u001b[0m \u001b[0mx\u001b[0m\u001b[0;34m\u001b[0m\u001b[0m\n\u001b[1;32m     56\u001b[0m \u001b[0;34m\u001b[0m\u001b[0m\n\u001b[0;32m---> 57\u001b[0;31m         \u001b[0mout\u001b[0m \u001b[0;34m=\u001b[0m \u001b[0mnp\u001b[0m\u001b[0;34m.\u001b[0m\u001b[0mdot\u001b[0m\u001b[0;34m(\u001b[0m\u001b[0mself\u001b[0m\u001b[0;34m.\u001b[0m\u001b[0mx\u001b[0m\u001b[0;34m,\u001b[0m \u001b[0mself\u001b[0m\u001b[0;34m.\u001b[0m\u001b[0mW\u001b[0m\u001b[0;34m)\u001b[0m \u001b[0;34m+\u001b[0m \u001b[0mself\u001b[0m\u001b[0;34m.\u001b[0m\u001b[0mb\u001b[0m\u001b[0;34m\u001b[0m\u001b[0m\n\u001b[0m\u001b[1;32m     58\u001b[0m \u001b[0;34m\u001b[0m\u001b[0m\n\u001b[1;32m     59\u001b[0m         \u001b[0;32mreturn\u001b[0m \u001b[0mout\u001b[0m\u001b[0;34m\u001b[0m\u001b[0m\n",
      "\u001b[0;31mKeyboardInterrupt\u001b[0m: "
     ]
    }
   ],
   "source": [
    "train_acc_list03, bn_train_acc_list03 = __train('He')"
   ]
  },
  {
   "cell_type": "code",
   "execution_count": 32,
   "metadata": {},
   "outputs": [],
   "source": [
    "# coding: utf-8\n",
    "import sys, os\n",
    "sys.path.append(os.pardir)  # 親ディレクトリのファイルをインポートするための設定\n",
    "import numpy as np\n",
    "import matplotlib.pyplot as plt\n",
    "from common.multi_layer_net_extend import MultiLayerNetExtend\n",
    "from common.optimizer import SGD, Adam\n",
    "\n",
    "max_epochs = 50\n",
    "train_size = x_train.shape[0]\n",
    "batch_size = 7000\n",
    "learning_rate = 0.001\n",
    "iter_nums = 30000\n",
    "\n",
    "def __train(weight_init_std):\n",
    "    bn_network = MultiLayerNetExtend(input_size=2, hidden_size_list=[500, 500, 500], output_size=2,\n",
    "                                     weight_init_std=weight_init_std, use_batchnorm=True)\n",
    "    network = MultiLayerNetExtend(input_size=2, hidden_size_list=[500, 500, 500], output_size=2,\n",
    "                                weight_init_std=weight_init_std)\n",
    "    optimizer = SGD(lr=learning_rate)\n",
    "    \n",
    "    train_acc_list = []\n",
    "    bn_train_acc_list = []\n",
    "    \n",
    "    iter_per_epoch = max(train_size / batch_size, 1)\n",
    "    epoch_cnt = 0\n",
    "    \n",
    "    for i in range(iter_nums):\n",
    "        batch_mask = np.random.choice(train_size, batch_size)\n",
    "        x_batch = x_train[batch_mask]\n",
    "        t_batch = t_train[batch_mask]\n",
    "    \n",
    "        for _network in (bn_network, network):\n",
    "            grads = _network.gradient(x_batch, t_batch)\n",
    "            optimizer.update(_network.params, grads)\n",
    "    \n",
    "        if i % iter_per_epoch == 0:\n",
    "            train_acc = network.accuracy(x_train, t_train)\n",
    "            bn_train_acc = bn_network.accuracy(x_train, t_train)\n",
    "            train_acc_list.append(train_acc)\n",
    "            bn_train_acc_list.append(bn_train_acc)\n",
    "    \n",
    "            print(\"epoch:\" + str(epoch_cnt) + \" | \" + str(train_acc) + \" - \" + str(bn_train_acc))\n",
    "    \n",
    "            epoch_cnt += 1\n",
    "            if epoch_cnt >= max_epochs:\n",
    "                break\n",
    "                \n",
    "    return train_acc_list, bn_train_acc_list"
   ]
  },
  {
   "cell_type": "code",
   "execution_count": 33,
   "metadata": {
    "collapsed": true
   },
   "outputs": [
    {
     "name": "stdout",
     "output_type": "stream",
     "text": [
      "epoch:0 | 0.5642857142857143 - 0.6428571428571429\n",
      "epoch:1 | 0.4357142857142857 - 0.6571428571428571\n",
      "epoch:2 | 0.4357142857142857 - 0.6385714285714286\n",
      "epoch:3 | 0.5642857142857143 - 0.6857142857142857\n",
      "epoch:4 | 0.4357142857142857 - 0.6442857142857142\n",
      "epoch:5 | 0.43 - 0.6828571428571428\n",
      "epoch:6 | 0.5642857142857143 - 0.67\n",
      "epoch:7 | 0.4357142857142857 - 0.7328571428571429\n",
      "epoch:8 | 0.5642857142857143 - 0.7185714285714285\n",
      "epoch:9 | 0.4357142857142857 - 0.7628571428571429\n",
      "epoch:10 | 0.5642857142857143 - 0.8142857142857143\n",
      "epoch:11 | 0.5642857142857143 - 0.79\n",
      "epoch:12 | 0.4357142857142857 - 0.8228571428571428\n",
      "epoch:13 | 0.5642857142857143 - 0.8642857142857143\n",
      "epoch:14 | 0.5642857142857143 - 0.84\n",
      "epoch:15 | 0.5642857142857143 - 0.8528571428571429\n",
      "epoch:16 | 0.5642857142857143 - 0.8928571428571429\n",
      "epoch:17 | 0.5642857142857143 - 0.8642857142857143\n",
      "epoch:18 | 0.5642857142857143 - 0.8657142857142858\n",
      "epoch:19 | 0.5642857142857143 - 0.86\n",
      "epoch:20 | 0.5642857142857143 - 0.8871428571428571\n",
      "epoch:21 | 0.5642857142857143 - 0.8971428571428571\n",
      "epoch:22 | 0.5642857142857143 - 0.9157142857142857\n",
      "epoch:23 | 0.5642857142857143 - 0.8457142857142858\n",
      "epoch:24 | 0.5642857142857143 - 0.8928571428571429\n",
      "epoch:25 | 0.5642857142857143 - 0.8371428571428572\n",
      "epoch:26 | 0.5642857142857143 - 0.8971428571428571\n",
      "epoch:27 | 0.5642857142857143 - 0.9042857142857142\n",
      "epoch:28 | 0.5642857142857143 - 0.9142857142857143\n",
      "epoch:29 | 0.5642857142857143 - 0.9185714285714286\n",
      "epoch:30 | 0.5642857142857143 - 0.9257142857142857\n",
      "epoch:31 | 0.5642857142857143 - 0.93\n",
      "epoch:32 | 0.5642857142857143 - 0.9342857142857143\n",
      "epoch:33 | 0.5642857142857143 - 0.93\n",
      "epoch:34 | 0.5642857142857143 - 0.9257142857142857\n",
      "epoch:35 | 0.5642857142857143 - 0.9257142857142857\n",
      "epoch:36 | 0.5642857142857143 - 0.9185714285714286\n",
      "epoch:37 | 0.5642857142857143 - 0.9571428571428572\n",
      "epoch:38 | 0.5642857142857143 - 0.8814285714285715\n",
      "epoch:39 | 0.5642857142857143 - 0.9485714285714286\n",
      "epoch:40 | 0.5642857142857143 - 0.94\n",
      "epoch:41 | 0.5642857142857143 - 0.9228571428571428\n",
      "epoch:42 | 0.5642857142857143 - 0.9642857142857143\n",
      "epoch:43 | 0.5642857142857143 - 0.9171428571428571\n",
      "epoch:44 | 0.5642857142857143 - 0.9642857142857143\n",
      "epoch:45 | 0.5642857142857143 - 0.9214285714285714\n",
      "epoch:46 | 0.5642857142857143 - 0.9628571428571429\n",
      "epoch:47 | 0.5642857142857143 - 0.9514285714285714\n",
      "epoch:48 | 0.5642857142857143 - 0.9742857142857143\n",
      "epoch:49 | 0.5642857142857143 - 0.9042857142857142\n"
     ]
    }
   ],
   "source": [
    "train_acc_list01, bn_train_acc_list01 = __train('He')"
   ]
  },
  {
   "cell_type": "code",
   "execution_count": 34,
   "metadata": {},
   "outputs": [],
   "source": [
    "# coding: utf-8\n",
    "import sys, os\n",
    "sys.path.append(os.pardir)  # 親ディレクトリのファイルをインポートするための設定\n",
    "import numpy as np\n",
    "import matplotlib.pyplot as plt\n",
    "from common.multi_layer_net_extend import MultiLayerNetExtend\n",
    "from common.optimizer import SGD, Adam\n",
    "\n",
    "max_epochs = 50\n",
    "train_size = x_train.shape[0]\n",
    "batch_size = 7000\n",
    "learning_rate = 0.001\n",
    "iter_nums = 30000\n",
    "\n",
    "def __train(weight_init_std):\n",
    "    bn_network = MultiLayerNetExtend(input_size=2, hidden_size_list=[10, 10, 10], output_size=2,\n",
    "                                     weight_init_std=weight_init_std, use_batchnorm=True)\n",
    "    network = MultiLayerNetExtend(input_size=2, hidden_size_list=[10, 10, 10], output_size=2,\n",
    "                                weight_init_std=weight_init_std)\n",
    "    optimizer = SGD(lr=learning_rate)\n",
    "    \n",
    "    train_acc_list = []\n",
    "    bn_train_acc_list = []\n",
    "    \n",
    "    iter_per_epoch = max(train_size / batch_size, 1)\n",
    "    epoch_cnt = 0\n",
    "    \n",
    "    for i in range(iter_nums):\n",
    "        batch_mask = np.random.choice(train_size, batch_size)\n",
    "        x_batch = x_train[batch_mask]\n",
    "        t_batch = t_train[batch_mask]\n",
    "    \n",
    "        for _network in (bn_network, network):\n",
    "            grads = _network.gradient(x_batch, t_batch)\n",
    "            optimizer.update(_network.params, grads)\n",
    "    \n",
    "        if i % iter_per_epoch == 0:\n",
    "            train_acc = network.accuracy(x_train, t_train)\n",
    "            bn_train_acc = bn_network.accuracy(x_train, t_train)\n",
    "            train_acc_list.append(train_acc)\n",
    "            bn_train_acc_list.append(bn_train_acc)\n",
    "    \n",
    "            print(\"epoch:\" + str(epoch_cnt) + \" | \" + str(train_acc) + \" - \" + str(bn_train_acc))\n",
    "    \n",
    "            epoch_cnt += 1\n",
    "            if epoch_cnt >= max_epochs:\n",
    "                break\n",
    "                \n",
    "    return train_acc_list, bn_train_acc_list"
   ]
  },
  {
   "cell_type": "code",
   "execution_count": 35,
   "metadata": {
    "collapsed": true
   },
   "outputs": [
    {
     "name": "stdout",
     "output_type": "stream",
     "text": [
      "epoch:0 | 0.4357142857142857 - 0.5642857142857143\n",
      "epoch:1 | 0.5657142857142857 - 0.5642857142857143\n",
      "epoch:2 | 0.5685714285714286 - 0.5642857142857143\n",
      "epoch:3 | 0.57 - 0.5614285714285714\n",
      "epoch:4 | 0.57 - 0.5585714285714286\n",
      "epoch:5 | 0.5714285714285714 - 0.56\n",
      "epoch:6 | 0.4357142857142857 - 0.5585714285714286\n",
      "epoch:7 | 0.4357142857142857 - 0.5585714285714286\n",
      "epoch:8 | 0.4357142857142857 - 0.5485714285714286\n",
      "epoch:9 | 0.4357142857142857 - 0.55\n",
      "epoch:10 | 0.4357142857142857 - 0.5457142857142857\n",
      "epoch:11 | 0.4357142857142857 - 0.5585714285714286\n",
      "epoch:12 | 0.4357142857142857 - 0.5542857142857143\n",
      "epoch:13 | 0.4357142857142857 - 0.5542857142857143\n",
      "epoch:14 | 0.4357142857142857 - 0.5485714285714286\n",
      "epoch:15 | 0.4357142857142857 - 0.5514285714285714\n",
      "epoch:16 | 0.4357142857142857 - 0.5471428571428572\n",
      "epoch:17 | 0.4357142857142857 - 0.5457142857142857\n",
      "epoch:18 | 0.4357142857142857 - 0.5457142857142857\n",
      "epoch:19 | 0.4357142857142857 - 0.5457142857142857\n",
      "epoch:20 | 0.4357142857142857 - 0.5471428571428572\n",
      "epoch:21 | 0.4357142857142857 - 0.5442857142857143\n",
      "epoch:22 | 0.4357142857142857 - 0.54\n",
      "epoch:23 | 0.4357142857142857 - 0.5428571428571428\n",
      "epoch:24 | 0.4357142857142857 - 0.5485714285714286\n",
      "epoch:25 | 0.4357142857142857 - 0.5528571428571428\n",
      "epoch:26 | 0.4357142857142857 - 0.5542857142857143\n",
      "epoch:27 | 0.4357142857142857 - 0.5542857142857143\n",
      "epoch:28 | 0.4357142857142857 - 0.5528571428571428\n",
      "epoch:29 | 0.4357142857142857 - 0.5514285714285714\n",
      "epoch:30 | 0.4357142857142857 - 0.5528571428571428\n",
      "epoch:31 | 0.4357142857142857 - 0.5528571428571428\n",
      "epoch:32 | 0.4357142857142857 - 0.5528571428571428\n",
      "epoch:33 | 0.4357142857142857 - 0.5514285714285714\n",
      "epoch:34 | 0.4357142857142857 - 0.5528571428571428\n",
      "epoch:35 | 0.5671428571428572 - 0.5542857142857143\n",
      "epoch:36 | 0.5671428571428572 - 0.5542857142857143\n",
      "epoch:37 | 0.5671428571428572 - 0.5514285714285714\n",
      "epoch:38 | 0.5671428571428572 - 0.5514285714285714\n",
      "epoch:39 | 0.5671428571428572 - 0.55\n",
      "epoch:40 | 0.5671428571428572 - 0.55\n",
      "epoch:41 | 0.5671428571428572 - 0.5514285714285714\n",
      "epoch:42 | 0.5671428571428572 - 0.5485714285714286\n",
      "epoch:43 | 0.5671428571428572 - 0.5485714285714286\n",
      "epoch:44 | 0.5671428571428572 - 0.5485714285714286\n",
      "epoch:45 | 0.5671428571428572 - 0.55\n",
      "epoch:46 | 0.5671428571428572 - 0.5485714285714286\n",
      "epoch:47 | 0.5671428571428572 - 0.5514285714285714\n",
      "epoch:48 | 0.5671428571428572 - 0.55\n",
      "epoch:49 | 0.5671428571428572 - 0.55\n"
     ]
    }
   ],
   "source": [
    "train_acc_list02, bn_train_acc_list02 = __train('He')"
   ]
  },
  {
   "cell_type": "code",
   "execution_count": 36,
   "metadata": {},
   "outputs": [],
   "source": [
    "# coding: utf-8\n",
    "import sys, os\n",
    "sys.path.append(os.pardir)  # 親ディレクトリのファイルをインポートするための設定\n",
    "import numpy as np\n",
    "import matplotlib.pyplot as plt\n",
    "from common.multi_layer_net_extend import MultiLayerNetExtend\n",
    "from common.optimizer import SGD, Adam\n",
    "\n",
    "max_epochs = 50\n",
    "train_size = x_train.shape[0]\n",
    "batch_size = 7000\n",
    "learning_rate = 0.001\n",
    "iter_nums = 30000\n",
    "\n",
    "def __train(weight_init_std):\n",
    "    bn_network = MultiLayerNetExtend(input_size=2, hidden_size_list=[100, 100, 100], output_size=2,\n",
    "                                     weight_init_std=weight_init_std, use_batchnorm=True)\n",
    "    network = MultiLayerNetExtend(input_size=2, hidden_size_list=[10, 10, 10], output_size=2,\n",
    "                                weight_init_std=weight_init_std)\n",
    "    optimizer = SGD(lr=learning_rate)\n",
    "    \n",
    "    train_acc_list = []\n",
    "    bn_train_acc_list = []\n",
    "    \n",
    "    iter_per_epoch = max(train_size / batch_size, 1)\n",
    "    epoch_cnt = 0\n",
    "    \n",
    "    for i in range(iter_nums):\n",
    "        batch_mask = np.random.choice(train_size, batch_size)\n",
    "        x_batch = x_train[batch_mask]\n",
    "        t_batch = t_train[batch_mask]\n",
    "    \n",
    "        for _network in (bn_network, network):\n",
    "            grads = _network.gradient(x_batch, t_batch)\n",
    "            optimizer.update(_network.params, grads)\n",
    "    \n",
    "        if i % iter_per_epoch == 0:\n",
    "            train_acc = network.accuracy(x_train, t_train)\n",
    "            bn_train_acc = bn_network.accuracy(x_train, t_train)\n",
    "            train_acc_list.append(train_acc)\n",
    "            bn_train_acc_list.append(bn_train_acc)\n",
    "    \n",
    "            print(\"epoch:\" + str(epoch_cnt) + \" | \" + str(train_acc) + \" - \" + str(bn_train_acc))\n",
    "    \n",
    "            epoch_cnt += 1\n",
    "            if epoch_cnt >= max_epochs:\n",
    "                break\n",
    "                \n",
    "    return train_acc_list, bn_train_acc_list"
   ]
  },
  {
   "cell_type": "code",
   "execution_count": 37,
   "metadata": {
    "collapsed": true
   },
   "outputs": [
    {
     "name": "stdout",
     "output_type": "stream",
     "text": [
      "epoch:0 | 0.4357142857142857 - 0.4357142857142857\n",
      "epoch:1 | 0.5642857142857143 - 0.4357142857142857\n",
      "epoch:2 | 0.5642857142857143 - 0.4657142857142857\n",
      "epoch:3 | 0.5714285714285714 - 0.5728571428571428\n",
      "epoch:4 | 0.58 - 0.5142857142857142\n",
      "epoch:5 | 0.43 - 0.6671428571428571\n",
      "epoch:6 | 0.5814285714285714 - 0.4471428571428571\n",
      "epoch:7 | 0.43 - 0.7557142857142857\n",
      "epoch:8 | 0.5828571428571429 - 0.5114285714285715\n",
      "epoch:9 | 0.43 - 0.6957142857142857\n",
      "epoch:10 | 0.5828571428571429 - 0.4585714285714286\n",
      "epoch:11 | 0.5814285714285714 - 0.47285714285714286\n",
      "epoch:12 | 0.5842857142857143 - 0.77\n",
      "epoch:13 | 0.5842857142857143 - 0.6028571428571429\n",
      "epoch:14 | 0.5842857142857143 - 0.4614285714285714\n",
      "epoch:15 | 0.5842857142857143 - 0.7528571428571429\n",
      "epoch:16 | 0.5842857142857143 - 0.5785714285714286\n",
      "epoch:17 | 0.5828571428571429 - 0.4642857142857143\n",
      "epoch:18 | 0.5842857142857143 - 0.6585714285714286\n",
      "epoch:19 | 0.5828571428571429 - 0.66\n",
      "epoch:20 | 0.5842857142857143 - 0.5642857142857143\n",
      "epoch:21 | 0.5828571428571429 - 0.48857142857142855\n",
      "epoch:22 | 0.5842857142857143 - 0.6814285714285714\n",
      "epoch:23 | 0.5828571428571429 - 0.6657142857142857\n",
      "epoch:24 | 0.5842857142857143 - 0.5642857142857143\n",
      "epoch:25 | 0.5828571428571429 - 0.48714285714285716\n",
      "epoch:26 | 0.5842857142857143 - 0.5557142857142857\n",
      "epoch:27 | 0.5828571428571429 - 0.72\n",
      "epoch:28 | 0.5842857142857143 - 0.7257142857142858\n",
      "epoch:29 | 0.5842857142857143 - 0.5714285714285714\n",
      "epoch:30 | 0.5842857142857143 - 0.5657142857142857\n",
      "epoch:31 | 0.5828571428571429 - 0.48142857142857143\n",
      "epoch:32 | 0.5828571428571429 - 0.5542857142857143\n",
      "epoch:33 | 0.5842857142857143 - 0.68\n",
      "epoch:34 | 0.5842857142857143 - 0.75\n",
      "epoch:35 | 0.5828571428571429 - 0.6857142857142857\n",
      "epoch:36 | 0.5828571428571429 - 0.5957142857142858\n",
      "epoch:37 | 0.5842857142857143 - 0.5828571428571429\n",
      "epoch:38 | 0.5828571428571429 - 0.5957142857142858\n",
      "epoch:39 | 0.5842857142857143 - 0.6157142857142858\n",
      "epoch:40 | 0.5842857142857143 - 0.7914285714285715\n",
      "epoch:41 | 0.5842857142857143 - 0.81\n",
      "epoch:42 | 0.5842857142857143 - 0.7485714285714286\n",
      "epoch:43 | 0.5842857142857143 - 0.6642857142857143\n",
      "epoch:44 | 0.5842857142857143 - 0.6428571428571429\n",
      "epoch:45 | 0.5814285714285714 - 0.6528571428571428\n",
      "epoch:46 | 0.5842857142857143 - 0.5714285714285714\n",
      "epoch:47 | 0.5842857142857143 - 0.6185714285714285\n",
      "epoch:48 | 0.5828571428571429 - 0.8428571428571429\n",
      "epoch:49 | 0.5828571428571429 - 0.8742857142857143\n"
     ]
    }
   ],
   "source": [
    "train_acc_list00, bn_train_acc_list00 = __train('He')"
   ]
  },
  {
   "cell_type": "code",
   "execution_count": 39,
   "metadata": {
    "scrolled": true
   },
   "outputs": [
    {
     "data": {
      "text/plain": [
       "Text(0.5,1,'Newron Size')"
      ]
     },
     "execution_count": 39,
     "metadata": {},
     "output_type": "execute_result"
    },
    {
     "data": {
      "image/png": "[encoded data removed]",
      "text/plain": [
       "<matplotlib.figure.Figure at 0x11ebefd30>"
      ]
     },
     "metadata": {},
     "output_type": "display_data"
    }
   ],
   "source": [
    "# グラフの描画\n",
    "plt.figure(figsize=(14,4)) # figureの縦横の大きさ\n",
    "markers = {'train': 'o', 'test': 's'}\n",
    "a = np.arange(len(bn_train_acc_list00))\n",
    "plt.subplot(1,2,1)\n",
    "plt.plot(a, bn_train_acc_list03, label='1000', markevery=2)\n",
    "plt.plot(a, bn_train_acc_list01, label='500', markevery=2)\n",
    "plt.plot(a, bn_train_acc_list00, label='100', markevery=2)\n",
    "plt.plot(a, bn_train_acc_list02, label='10', markevery=2)\n",
    "plt.xlabel('epochs')\n",
    "plt.ylabel(\"accuracy\")\n",
    "plt.ylim(0, 1.0)\n",
    "plt.legend(loc='lower right')\n",
    "plt.title('Newron Size')"
   ]
  },
  {
   "cell_type": "markdown",
   "metadata": {},
   "source": [
    "## 層の数"
   ]
  },
  {
   "cell_type": "code",
   "execution_count": 40,
   "metadata": {},
   "outputs": [],
   "source": [
    "max_epochs = 50\n",
    "train_size = x_train.shape[0]\n",
    "batch_size = 7000\n",
    "learning_rate = 0.001\n",
    "iter_nums = 30000\n",
    "\n",
    "def __train(weight_init_std):\n",
    "    bn_network = MultiLayerNetExtend(input_size=2, hidden_size_list=[100], output_size=2,\n",
    "                                     weight_init_std=weight_init_std, use_batchnorm=True)\n",
    "    network = MultiLayerNetExtend(input_size=2, hidden_size_list=[100], output_size=2,\n",
    "                                weight_init_std=weight_init_std)\n",
    "    optimizer = SGD(lr=learning_rate)\n",
    "    \n",
    "    train_acc_list = []\n",
    "    bn_train_acc_list = []\n",
    "    \n",
    "    iter_per_epoch = max(train_size / batch_size, 1)\n",
    "    epoch_cnt = 0\n",
    "    \n",
    "    for i in range(iter_nums):\n",
    "        batch_mask = np.random.choice(train_size, batch_size)\n",
    "        x_batch = x_train[batch_mask]\n",
    "        t_batch = t_train[batch_mask]\n",
    "    \n",
    "        for _network in (bn_network, network):\n",
    "            grads = _network.gradient(x_batch, t_batch)\n",
    "            optimizer.update(_network.params, grads)\n",
    "    \n",
    "        if i % iter_per_epoch == 0:\n",
    "            train_acc = network.accuracy(x_train, t_train)\n",
    "            bn_train_acc = bn_network.accuracy(x_train, t_train)\n",
    "            train_acc_list.append(train_acc)\n",
    "            bn_train_acc_list.append(bn_train_acc)\n",
    "    \n",
    "            print(\"epoch:\" + str(epoch_cnt) + \" | \" + str(train_acc) + \" - \" + str(bn_train_acc))\n",
    "    \n",
    "            epoch_cnt += 1\n",
    "            if epoch_cnt >= max_epochs:\n",
    "                break\n",
    "                \n",
    "    return train_acc_list, bn_train_acc_list"
   ]
  },
  {
   "cell_type": "code",
   "execution_count": 41,
   "metadata": {
    "collapsed": true
   },
   "outputs": [
    {
     "name": "stdout",
     "output_type": "stream",
     "text": [
      "epoch:0 | 0.5642857142857143 - 0.40285714285714286\n",
      "epoch:1 | 0.5642857142857143 - 0.38142857142857145\n",
      "epoch:2 | 0.4357142857142857 - 0.38857142857142857\n",
      "epoch:3 | 0.5642857142857143 - 0.39571428571428574\n",
      "epoch:4 | 0.5714285714285714 - 0.4114285714285714\n",
      "epoch:5 | 0.4357142857142857 - 0.4157142857142857\n",
      "epoch:6 | 0.5642857142857143 - 0.42428571428571427\n",
      "epoch:7 | 0.4357142857142857 - 0.42\n",
      "epoch:8 | 0.5642857142857143 - 0.4257142857142857\n",
      "epoch:9 | 0.5671428571428572 - 0.42857142857142855\n",
      "epoch:10 | 0.4357142857142857 - 0.4357142857142857\n",
      "epoch:11 | 0.5642857142857143 - 0.4328571428571429\n",
      "epoch:12 | 0.4357142857142857 - 0.43857142857142856\n",
      "epoch:13 | 0.5642857142857143 - 0.44285714285714284\n",
      "epoch:14 | 0.5642857142857143 - 0.4471428571428571\n",
      "epoch:15 | 0.4357142857142857 - 0.44571428571428573\n",
      "epoch:16 | 0.5642857142857143 - 0.4542857142857143\n",
      "epoch:17 | 0.4357142857142857 - 0.44571428571428573\n",
      "epoch:18 | 0.5642857142857143 - 0.4442857142857143\n",
      "epoch:19 | 0.5714285714285714 - 0.44142857142857145\n",
      "epoch:20 | 0.4357142857142857 - 0.4442857142857143\n",
      "epoch:21 | 0.5642857142857143 - 0.43857142857142856\n",
      "epoch:22 | 0.4357142857142857 - 0.43\n",
      "epoch:23 | 0.5642857142857143 - 0.43142857142857144\n",
      "epoch:24 | 0.5814285714285714 - 0.42857142857142855\n",
      "epoch:25 | 0.4357142857142857 - 0.43\n",
      "epoch:26 | 0.5642857142857143 - 0.4257142857142857\n",
      "epoch:27 | 0.4357142857142857 - 0.4257142857142857\n",
      "epoch:28 | 0.5642857142857143 - 0.42714285714285716\n",
      "epoch:29 | 0.5928571428571429 - 0.42428571428571427\n",
      "epoch:30 | 0.4357142857142857 - 0.42714285714285716\n",
      "epoch:31 | 0.5642857142857143 - 0.42714285714285716\n",
      "epoch:32 | 0.7128571428571429 - 0.42714285714285716\n",
      "epoch:33 | 0.5942857142857143 - 0.42857142857142855\n",
      "epoch:34 | 0.4357142857142857 - 0.42857142857142855\n",
      "epoch:35 | 0.5642857142857143 - 0.4328571428571429\n",
      "epoch:36 | 0.7485714285714286 - 0.43142857142857144\n",
      "epoch:37 | 0.4357142857142857 - 0.4357142857142857\n",
      "epoch:38 | 0.5785714285714286 - 0.4342857142857143\n",
      "epoch:39 | 0.7371428571428571 - 0.4342857142857143\n",
      "epoch:40 | 0.6242857142857143 - 0.43714285714285717\n",
      "epoch:41 | 0.4357142857142857 - 0.4328571428571429\n",
      "epoch:42 | 0.6 - 0.44857142857142857\n",
      "epoch:43 | 0.5871428571428572 - 0.43857142857142856\n",
      "epoch:44 | 0.6114285714285714 - 0.4471428571428571\n",
      "epoch:45 | 0.4357142857142857 - 0.45\n",
      "epoch:46 | 0.5885714285714285 - 0.46\n",
      "epoch:47 | 0.6742857142857143 - 0.46\n",
      "epoch:48 | 0.4357142857142857 - 0.4614285714285714\n",
      "epoch:49 | 0.6157142857142858 - 0.46285714285714286\n"
     ]
    }
   ],
   "source": [
    "train_acc_list30, bn_train_acc_list30 = __train('He')"
   ]
  },
  {
   "cell_type": "code",
   "execution_count": 42,
   "metadata": {},
   "outputs": [],
   "source": [
    "max_epochs = 50\n",
    "train_size = x_train.shape[0]\n",
    "batch_size = 7000\n",
    "learning_rate = 0.001\n",
    "iter_nums = 30000\n",
    "\n",
    "def __train(weight_init_std):\n",
    "    bn_network = MultiLayerNetExtend(input_size=2, hidden_size_list=[100,100,100,100,100,100], output_size=2,\n",
    "                                     weight_init_std=weight_init_std, use_batchnorm=True)\n",
    "    network = MultiLayerNetExtend(input_size=2, hidden_size_list=[100,100,100,100,100,100], output_size=2,\n",
    "                                weight_init_std=weight_init_std)\n",
    "    optimizer = SGD(lr=learning_rate)\n",
    "    \n",
    "    train_acc_list = []\n",
    "    bn_train_acc_list = []\n",
    "    \n",
    "    iter_per_epoch = max(train_size / batch_size, 1)\n",
    "    epoch_cnt = 0\n",
    "    \n",
    "    for i in range(iter_nums):\n",
    "        batch_mask = np.random.choice(train_size, batch_size)\n",
    "        x_batch = x_train[batch_mask]\n",
    "        t_batch = t_train[batch_mask]\n",
    "    \n",
    "        for _network in (bn_network, network):\n",
    "            grads = _network.gradient(x_batch, t_batch)\n",
    "            optimizer.update(_network.params, grads)\n",
    "    \n",
    "        if i % iter_per_epoch == 0:\n",
    "            train_acc = network.accuracy(x_train, t_train)\n",
    "            bn_train_acc = bn_network.accuracy(x_train, t_train)\n",
    "            train_acc_list.append(train_acc)\n",
    "            bn_train_acc_list.append(bn_train_acc)\n",
    "    \n",
    "            print(\"epoch:\" + str(epoch_cnt) + \" | \" + str(train_acc) + \" - \" + str(bn_train_acc))\n",
    "    \n",
    "            epoch_cnt += 1\n",
    "            if epoch_cnt >= max_epochs:\n",
    "                break\n",
    "                \n",
    "    return train_acc_list, bn_train_acc_list"
   ]
  },
  {
   "cell_type": "code",
   "execution_count": 43,
   "metadata": {
    "collapsed": true
   },
   "outputs": [
    {
     "name": "stdout",
     "output_type": "stream",
     "text": [
      "epoch:0 | 0.5642857142857143 - 0.4142857142857143\n",
      "epoch:1 | 0.4357142857142857 - 0.38571428571428573\n",
      "epoch:2 | 0.5642857142857143 - 0.3757142857142857\n",
      "epoch:3 | 0.4357142857142857 - 0.4042857142857143\n",
      "epoch:4 | 0.5642857142857143 - 0.3871428571428571\n",
      "epoch:5 | 0.4357142857142857 - 0.4157142857142857\n",
      "epoch:6 | 0.5642857142857143 - 0.4328571428571429\n",
      "epoch:7 | 0.4357142857142857 - 0.45285714285714285\n"
     ]
    },
    {
     "name": "stderr",
     "output_type": "stream",
     "text": [
      "../common/functions.py:34: RuntimeWarning: invalid value encountered in subtract\n",
      "  x = x - np.max(x, axis=0)\n",
      "../common/layers.py:12: RuntimeWarning: invalid value encountered in less_equal\n",
      "  self.mask = (x <= 0)\n"
     ]
    },
    {
     "name": "stdout",
     "output_type": "stream",
     "text": [
      "epoch:8 | 0.4357142857142857 - 0.48142857142857143\n"
     ]
    },
    {
     "name": "stderr",
     "output_type": "stream",
     "text": [
      "/Users/Kohei/.pyenv/versions/anaconda3-5.1.0/lib/python3.6/site-packages/numpy/core/_methods.py:26: RuntimeWarning: invalid value encountered in reduce\n",
      "  return umr_maximum(a, axis, None, out, keepdims)\n"
     ]
    },
    {
     "name": "stdout",
     "output_type": "stream",
     "text": [
      "epoch:9 | 0.4357142857142857 - 0.5228571428571429\n",
      "epoch:10 | 0.4357142857142857 - 0.45714285714285713\n",
      "epoch:11 | 0.4357142857142857 - 0.5757142857142857\n",
      "epoch:12 | 0.4357142857142857 - 0.5571428571428572\n",
      "epoch:13 | 0.4357142857142857 - 0.7414285714285714\n",
      "epoch:14 | 0.4357142857142857 - 0.5342857142857143\n",
      "epoch:15 | 0.4357142857142857 - 0.6971428571428572\n",
      "epoch:16 | 0.4357142857142857 - 0.7342857142857143\n",
      "epoch:17 | 0.4357142857142857 - 0.7928571428571428\n",
      "epoch:18 | 0.4357142857142857 - 0.7285714285714285\n",
      "epoch:19 | 0.4357142857142857 - 0.81\n",
      "epoch:20 | 0.4357142857142857 - 0.8128571428571428\n",
      "epoch:21 | 0.4357142857142857 - 0.84\n",
      "epoch:22 | 0.4357142857142857 - 0.78\n",
      "epoch:23 | 0.4357142857142857 - 0.8557142857142858\n",
      "epoch:24 | 0.4357142857142857 - 0.8571428571428571\n",
      "epoch:25 | 0.4357142857142857 - 0.8957142857142857\n",
      "epoch:26 | 0.4357142857142857 - 0.8714285714285714\n",
      "epoch:27 | 0.4357142857142857 - 0.8971428571428571\n",
      "epoch:28 | 0.4357142857142857 - 0.8328571428571429\n",
      "epoch:29 | 0.4357142857142857 - 0.9128571428571428\n",
      "epoch:30 | 0.4357142857142857 - 0.9014285714285715\n",
      "epoch:31 | 0.4357142857142857 - 0.9014285714285715\n",
      "epoch:32 | 0.4357142857142857 - 0.8471428571428572\n",
      "epoch:33 | 0.4357142857142857 - 0.8885714285714286\n",
      "epoch:34 | 0.4357142857142857 - 0.8785714285714286\n",
      "epoch:35 | 0.4357142857142857 - 0.8785714285714286\n",
      "epoch:36 | 0.4357142857142857 - 0.8285714285714286\n",
      "epoch:37 | 0.4357142857142857 - 0.9157142857142857\n",
      "epoch:38 | 0.4357142857142857 - 0.9485714285714286\n",
      "epoch:39 | 0.4357142857142857 - 0.9542857142857143\n",
      "epoch:40 | 0.4357142857142857 - 0.9657142857142857\n",
      "epoch:41 | 0.4357142857142857 - 0.9571428571428572\n",
      "epoch:42 | 0.4357142857142857 - 0.9614285714285714\n",
      "epoch:43 | 0.4357142857142857 - 0.9657142857142857\n",
      "epoch:44 | 0.4357142857142857 - 0.9585714285714285\n",
      "epoch:45 | 0.4357142857142857 - 0.9628571428571429\n",
      "epoch:46 | 0.4357142857142857 - 0.9542857142857143\n",
      "epoch:47 | 0.4357142857142857 - 0.9485714285714286\n",
      "epoch:48 | 0.4357142857142857 - 0.92\n",
      "epoch:49 | 0.4357142857142857 - 0.9128571428571428\n"
     ]
    }
   ],
   "source": [
    "train_acc_list31, bn_train_acc_list31 = __train('He')"
   ]
  },
  {
   "cell_type": "code",
   "execution_count": 44,
   "metadata": {},
   "outputs": [
    {
     "data": {
      "text/plain": [
       "Text(0.5,1,'Layer Num')"
      ]
     },
     "execution_count": 44,
     "metadata": {},
     "output_type": "execute_result"
    },
    {
     "data": {
      "image/png": "[encoded data removed]",
      "text/plain": [
       "<matplotlib.figure.Figure at 0x11ea943c8>"
      ]
     },
     "metadata": {},
     "output_type": "display_data"
    }
   ],
   "source": [
    "# グラフの描画\n",
    "plt.figure(figsize=(14,4)) # figureの縦横の大きさ\n",
    "markers = {'train': 'o', 'test': 's'}\n",
    "x = np.arange(len(bn_train_acc_list30))\n",
    "plt.subplot(1,2,1)\n",
    "plt.plot(x, bn_train_acc_list30, label='1 layer', markevery=2)\n",
    "plt.plot(x, bn_train_acc_list00, label='3 layer', markevery=2)\n",
    "plt.plot(x, bn_train_acc_list31, label='6 layer', markevery=2)\n",
    "plt.xlabel('epoch')\n",
    "plt.ylabel(\"accuracy\")\n",
    "plt.ylim(0, 1.0)\n",
    "plt.legend(loc='lower right')\n",
    "plt.title('Layer Num')"
   ]
  },
  {
   "cell_type": "code",
   "execution_count": 45,
   "metadata": {},
   "outputs": [],
   "source": [
    "# coding: utf-8\n",
    "import sys, os\n",
    "sys.path.append(os.pardir)  # 親ディレクトリのファイルをインポートするための設定\n",
    "import numpy as np\n",
    "import matplotlib.pyplot as plt\n",
    "from common.multi_layer_net_extend import MultiLayerNetExtend\n",
    "from common.optimizer import SGD, Adam\n",
    "\n",
    "max_epochs = 100\n",
    "train_size = x_train.shape[0]\n",
    "batch_size = 7000\n",
    "learning_rate = 0.001\n",
    "iter_nums = 30000\n",
    "\n",
    "def __train(weight_init_std):\n",
    "    bn_network = MultiLayerNetExtend(input_size=2, hidden_size_list=[1000, 1000, 1000], output_size=2,\n",
    "                                     weight_init_std=weight_init_std, use_batchnorm=True)\n",
    "    network = MultiLayerNetExtend(input_size=2, hidden_size_list=[1000, 1000, 1000], output_size=2,\n",
    "                                weight_init_std=weight_init_std)\n",
    "    optimizer = SGD(lr=learning_rate)\n",
    "    \n",
    "    train_acc_list = []\n",
    "    bn_train_acc_list = []\n",
    "    \n",
    "    iter_per_epoch = max(train_size / batch_size, 1)\n",
    "    epoch_cnt = 0\n",
    "    \n",
    "    for i in range(iter_nums):\n",
    "        batch_mask = np.random.choice(train_size, batch_size)\n",
    "        x_batch = x_train[batch_mask]\n",
    "        t_batch = t_train[batch_mask]\n",
    "    \n",
    "        for _network in (bn_network, network):\n",
    "            grads = _network.gradient(x_batch, t_batch)\n",
    "            optimizer.update(_network.params, grads)\n",
    "    \n",
    "        if i % iter_per_epoch == 0:\n",
    "            train_acc = network.accuracy(x_train, t_train)\n",
    "            bn_train_acc = bn_network.accuracy(x_train, t_train)\n",
    "            train_acc_list.append(train_acc)\n",
    "            bn_train_acc_list.append(bn_train_acc)\n",
    "    \n",
    "            print(\"epoch:\" + str(epoch_cnt) + \" | \" + str(train_acc) + \" - \" + str(bn_train_acc))\n",
    "    \n",
    "            epoch_cnt += 1\n",
    "            if epoch_cnt >= max_epochs:\n",
    "                break\n",
    "                \n",
    "    return train_acc_list, bn_train_acc_list"
   ]
  },
  {
   "cell_type": "code",
   "execution_count": 46,
   "metadata": {
    "collapsed": true
   },
   "outputs": [
    {
     "name": "stdout",
     "output_type": "stream",
     "text": [
      "epoch:0 | 0.5642857142857143 - 0.4357142857142857\n",
      "epoch:1 | 0.4357142857142857 - 0.43857142857142856\n",
      "epoch:2 | 0.4342857142857143 - 0.44285714285714284\n",
      "epoch:3 | 0.4357142857142857 - 0.45\n",
      "epoch:4 | 0.5642857142857143 - 0.4757142857142857\n",
      "epoch:5 | 0.5642857142857143 - 0.5071428571428571\n",
      "epoch:6 | 0.4357142857142857 - 0.5414285714285715\n",
      "epoch:7 | 0.5642857142857143 - 0.5971428571428572\n",
      "epoch:8 | 0.5642857142857143 - 0.6671428571428571\n",
      "epoch:9 | 0.4357142857142857 - 0.7228571428571429\n",
      "epoch:10 | 0.5642857142857143 - 0.7671428571428571\n",
      "epoch:11 | 0.4357142857142857 - 0.8085714285714286\n",
      "epoch:12 | 0.5642857142857143 - 0.8385714285714285\n",
      "epoch:13 | 0.5642857142857143 - 0.8557142857142858\n",
      "epoch:14 | 0.5642857142857143 - 0.8757142857142857\n",
      "epoch:15 | 0.5642857142857143 - 0.9028571428571428\n",
      "epoch:16 | 0.5642857142857143 - 0.9185714285714286\n",
      "epoch:17 | 0.5642857142857143 - 0.9214285714285714\n",
      "epoch:18 | 0.5642857142857143 - 0.9414285714285714\n",
      "epoch:19 | 0.5642857142857143 - 0.9542857142857143\n",
      "epoch:20 | 0.5642857142857143 - 0.95\n",
      "epoch:21 | 0.5642857142857143 - 0.9514285714285714\n",
      "epoch:22 | 0.5642857142857143 - 0.9628571428571429\n",
      "epoch:23 | 0.5642857142857143 - 0.9642857142857143\n",
      "epoch:24 | 0.5642857142857143 - 0.9671428571428572\n",
      "epoch:25 | 0.5642857142857143 - 0.9642857142857143\n",
      "epoch:26 | 0.5642857142857143 - 0.97\n",
      "epoch:27 | 0.5642857142857143 - 0.9757142857142858\n",
      "epoch:28 | 0.5642857142857143 - 0.9771428571428571\n",
      "epoch:29 | 0.5642857142857143 - 0.9771428571428571\n",
      "epoch:30 | 0.5642857142857143 - 0.9757142857142858\n",
      "epoch:31 | 0.5642857142857143 - 0.9728571428571429\n",
      "epoch:32 | 0.5642857142857143 - 0.9742857142857143\n",
      "epoch:33 | 0.5642857142857143 - 0.9657142857142857\n",
      "epoch:34 | 0.5642857142857143 - 0.9742857142857143\n",
      "epoch:35 | 0.5642857142857143 - 0.9728571428571429\n",
      "epoch:36 | 0.5642857142857143 - 0.9728571428571429\n",
      "epoch:37 | 0.5642857142857143 - 0.9728571428571429\n",
      "epoch:38 | 0.5642857142857143 - 0.9671428571428572\n",
      "epoch:39 | 0.5642857142857143 - 0.9728571428571429\n",
      "epoch:40 | 0.5642857142857143 - 0.9728571428571429\n",
      "epoch:41 | 0.5642857142857143 - 0.9657142857142857\n",
      "epoch:42 | 0.5642857142857143 - 0.97\n",
      "epoch:43 | 0.5642857142857143 - 0.9685714285714285\n",
      "epoch:44 | 0.5642857142857143 - 0.9628571428571429\n",
      "epoch:45 | 0.5642857142857143 - 0.9714285714285714\n",
      "epoch:46 | 0.5642857142857143 - 0.9714285714285714\n",
      "epoch:47 | 0.5642857142857143 - 0.9685714285714285\n",
      "epoch:48 | 0.5642857142857143 - 0.9657142857142857\n",
      "epoch:49 | 0.5642857142857143 - 0.9742857142857143\n",
      "epoch:50 | 0.5642857142857143 - 0.9714285714285714\n",
      "epoch:51 | 0.5642857142857143 - 0.9742857142857143\n",
      "epoch:52 | 0.5642857142857143 - 0.9714285714285714\n",
      "epoch:53 | 0.5642857142857143 - 0.9757142857142858\n",
      "epoch:54 | 0.5642857142857143 - 0.9742857142857143\n",
      "epoch:55 | 0.5642857142857143 - 0.9785714285714285\n",
      "epoch:56 | 0.5642857142857143 - 0.9685714285714285\n",
      "epoch:57 | 0.5642857142857143 - 0.9714285714285714\n",
      "epoch:58 | 0.5642857142857143 - 0.9714285714285714\n",
      "epoch:59 | 0.5642857142857143 - 0.9728571428571429\n",
      "epoch:60 | 0.5642857142857143 - 0.9771428571428571\n",
      "epoch:61 | 0.5642857142857143 - 0.97\n",
      "epoch:62 | 0.5642857142857143 - 0.9771428571428571\n",
      "epoch:63 | 0.5642857142857143 - 0.9728571428571429\n",
      "epoch:64 | 0.5642857142857143 - 0.9771428571428571\n",
      "epoch:65 | 0.5642857142857143 - 0.9771428571428571\n",
      "epoch:66 | 0.5642857142857143 - 0.9771428571428571\n",
      "epoch:67 | 0.5642857142857143 - 0.9757142857142858\n",
      "epoch:68 | 0.5642857142857143 - 0.9785714285714285\n",
      "epoch:69 | 0.5642857142857143 - 0.9828571428571429\n",
      "epoch:70 | 0.5642857142857143 - 0.9785714285714285\n",
      "epoch:71 | 0.5642857142857143 - 0.9785714285714285\n",
      "epoch:72 | 0.5642857142857143 - 0.98\n",
      "epoch:73 | 0.5642857142857143 - 0.9785714285714285\n",
      "epoch:74 | 0.5642857142857143 - 0.9785714285714285\n",
      "epoch:75 | 0.5642857142857143 - 0.9757142857142858\n",
      "epoch:76 | 0.5642857142857143 - 0.9828571428571429\n",
      "epoch:77 | 0.5642857142857143 - 0.9757142857142858\n",
      "epoch:78 | 0.5642857142857143 - 0.9857142857142858\n",
      "epoch:79 | 0.5642857142857143 - 0.9814285714285714\n",
      "epoch:80 | 0.5642857142857143 - 0.9757142857142858\n",
      "epoch:81 | 0.5642857142857143 - 0.9828571428571429\n",
      "epoch:82 | 0.5642857142857143 - 0.9785714285714285\n",
      "epoch:83 | 0.5642857142857143 - 0.9757142857142858\n",
      "epoch:84 | 0.5642857142857143 - 0.98\n",
      "epoch:85 | 0.5642857142857143 - 0.9814285714285714\n",
      "epoch:86 | 0.5642857142857143 - 0.98\n",
      "epoch:87 | 0.5642857142857143 - 0.98\n",
      "epoch:88 | 0.5642857142857143 - 0.9871428571428571\n",
      "epoch:89 | 0.5642857142857143 - 0.9771428571428571\n",
      "epoch:90 | 0.5642857142857143 - 0.9857142857142858\n",
      "epoch:91 | 0.5642857142857143 - 0.9828571428571429\n",
      "epoch:92 | 0.5642857142857143 - 0.9857142857142858\n",
      "epoch:93 | 0.5642857142857143 - 0.9828571428571429\n",
      "epoch:94 | 0.5642857142857143 - 0.9828571428571429\n",
      "epoch:95 | 0.5642857142857143 - 0.9742857142857143\n",
      "epoch:96 | 0.5642857142857143 - 0.9842857142857143\n",
      "epoch:97 | 0.5642857142857143 - 0.9857142857142858\n",
      "epoch:98 | 0.5642857142857143 - 0.9857142857142858\n",
      "epoch:99 | 0.5642857142857143 - 0.9857142857142858\n"
     ]
    }
   ],
   "source": [
    "train_acc_list03, bn_train_acc_list03 = __train('He')"
   ]
  },
  {
   "cell_type": "code",
   "execution_count": 47,
   "metadata": {},
   "outputs": [],
   "source": [
    "# coding: utf-8\n",
    "import sys, os\n",
    "sys.path.append(os.pardir)  # 親ディレクトリのファイルをインポートするための設定\n",
    "import numpy as np\n",
    "import matplotlib.pyplot as plt\n",
    "from common.multi_layer_net_extend import MultiLayerNetExtend\n",
    "from common.optimizer import SGD, Adam\n",
    "\n",
    "max_epochs = 100\n",
    "train_size = x_train.shape[0]\n",
    "batch_size = 7000\n",
    "learning_rate = 0.001\n",
    "iter_nums = 30000\n",
    "\n",
    "def __train(weight_init_std):\n",
    "    bn_network = MultiLayerNetExtend(input_size=2, hidden_size_list=[500, 500, 500], output_size=2,\n",
    "                                     weight_init_std=weight_init_std, use_batchnorm=True)\n",
    "    network = MultiLayerNetExtend(input_size=2, hidden_size_list=[500, 500, 500], output_size=2,\n",
    "                                weight_init_std=weight_init_std)\n",
    "    optimizer = SGD(lr=learning_rate)\n",
    "    \n",
    "    train_acc_list = []\n",
    "    bn_train_acc_list = []\n",
    "    \n",
    "    iter_per_epoch = max(train_size / batch_size, 1)\n",
    "    epoch_cnt = 0\n",
    "    \n",
    "    for i in range(iter_nums):\n",
    "        batch_mask = np.random.choice(train_size, batch_size)\n",
    "        x_batch = x_train[batch_mask]\n",
    "        t_batch = t_train[batch_mask]\n",
    "    \n",
    "        for _network in (bn_network, network):\n",
    "            grads = _network.gradient(x_batch, t_batch)\n",
    "            optimizer.update(_network.params, grads)\n",
    "    \n",
    "        if i % iter_per_epoch == 0:\n",
    "            train_acc = network.accuracy(x_train, t_train)\n",
    "            bn_train_acc = bn_network.accuracy(x_train, t_train)\n",
    "            train_acc_list.append(train_acc)\n",
    "            bn_train_acc_list.append(bn_train_acc)\n",
    "    \n",
    "            print(\"epoch:\" + str(epoch_cnt) + \" | \" + str(train_acc) + \" - \" + str(bn_train_acc))\n",
    "    \n",
    "            epoch_cnt += 1\n",
    "            if epoch_cnt >= max_epochs:\n",
    "                break\n",
    "                \n",
    "    return train_acc_list, bn_train_acc_list"
   ]
  },
  {
   "cell_type": "code",
   "execution_count": 48,
   "metadata": {
    "collapsed": true
   },
   "outputs": [
    {
     "name": "stdout",
     "output_type": "stream",
     "text": [
      "epoch:0 | 0.4357142857142857 - 0.6128571428571429\n",
      "epoch:1 | 0.5642857142857143 - 0.6228571428571429\n",
      "epoch:2 | 0.4357142857142857 - 0.6285714285714286\n",
      "epoch:3 | 0.5642857142857143 - 0.6342857142857142\n",
      "epoch:4 | 0.4357142857142857 - 0.6328571428571429\n",
      "epoch:5 | 0.5642857142857143 - 0.6585714285714286\n",
      "epoch:6 | 0.4357142857142857 - 0.6857142857142857\n",
      "epoch:7 | 0.4357142857142857 - 0.7142857142857143\n",
      "epoch:8 | 0.5642857142857143 - 0.7428571428571429\n",
      "epoch:9 | 0.4357142857142857 - 0.7657142857142857\n",
      "epoch:10 | 0.5642857142857143 - 0.7828571428571428\n"
     ]
    },
    {
     "name": "stderr",
     "output_type": "stream",
     "text": [
      "../common/functions.py:34: RuntimeWarning: invalid value encountered in subtract\n",
      "  x = x - np.max(x, axis=0)\n",
      "../common/layers.py:12: RuntimeWarning: invalid value encountered in less_equal\n",
      "  self.mask = (x <= 0)\n"
     ]
    },
    {
     "name": "stdout",
     "output_type": "stream",
     "text": [
      "epoch:11 | 0.4357142857142857 - 0.8114285714285714\n"
     ]
    },
    {
     "name": "stderr",
     "output_type": "stream",
     "text": [
      "/Users/Kohei/.pyenv/versions/anaconda3-5.1.0/lib/python3.6/site-packages/numpy/core/_methods.py:26: RuntimeWarning: invalid value encountered in reduce\n",
      "  return umr_maximum(a, axis, None, out, keepdims)\n"
     ]
    },
    {
     "name": "stdout",
     "output_type": "stream",
     "text": [
      "epoch:12 | 0.4357142857142857 - 0.8271428571428572\n",
      "epoch:13 | 0.4357142857142857 - 0.8371428571428572\n",
      "epoch:14 | 0.4357142857142857 - 0.8442857142857143\n",
      "epoch:15 | 0.4357142857142857 - 0.8514285714285714\n",
      "epoch:16 | 0.4357142857142857 - 0.8557142857142858\n",
      "epoch:17 | 0.4357142857142857 - 0.8685714285714285\n",
      "epoch:18 | 0.4357142857142857 - 0.8728571428571429\n",
      "epoch:19 | 0.4357142857142857 - 0.8885714285714286\n",
      "epoch:20 | 0.4357142857142857 - 0.8957142857142857\n",
      "epoch:21 | 0.4357142857142857 - 0.8985714285714286\n",
      "epoch:22 | 0.4357142857142857 - 0.9071428571428571\n",
      "epoch:23 | 0.4357142857142857 - 0.91\n",
      "epoch:24 | 0.4357142857142857 - 0.91\n",
      "epoch:25 | 0.4357142857142857 - 0.9157142857142857\n",
      "epoch:26 | 0.4357142857142857 - 0.9157142857142857\n",
      "epoch:27 | 0.4357142857142857 - 0.92\n",
      "epoch:28 | 0.4357142857142857 - 0.9328571428571428\n",
      "epoch:29 | 0.4357142857142857 - 0.93\n",
      "epoch:30 | 0.4357142857142857 - 0.93\n",
      "epoch:31 | 0.4357142857142857 - 0.9357142857142857\n",
      "epoch:32 | 0.4357142857142857 - 0.9371428571428572\n",
      "epoch:33 | 0.4357142857142857 - 0.94\n",
      "epoch:34 | 0.4357142857142857 - 0.9485714285714286\n",
      "epoch:35 | 0.4357142857142857 - 0.9428571428571428\n",
      "epoch:36 | 0.4357142857142857 - 0.9442857142857143\n",
      "epoch:37 | 0.4357142857142857 - 0.9471428571428572\n",
      "epoch:38 | 0.4357142857142857 - 0.9442857142857143\n",
      "epoch:39 | 0.4357142857142857 - 0.95\n",
      "epoch:40 | 0.4357142857142857 - 0.9528571428571428\n",
      "epoch:41 | 0.4357142857142857 - 0.9571428571428572\n",
      "epoch:42 | 0.4357142857142857 - 0.9585714285714285\n",
      "epoch:43 | 0.4357142857142857 - 0.9585714285714285\n",
      "epoch:44 | 0.4357142857142857 - 0.9542857142857143\n",
      "epoch:45 | 0.4357142857142857 - 0.9628571428571429\n",
      "epoch:46 | 0.4357142857142857 - 0.9628571428571429\n",
      "epoch:47 | 0.4357142857142857 - 0.9542857142857143\n",
      "epoch:48 | 0.4357142857142857 - 0.9642857142857143\n",
      "epoch:49 | 0.4357142857142857 - 0.9628571428571429\n",
      "epoch:50 | 0.4357142857142857 - 0.9628571428571429\n",
      "epoch:51 | 0.4357142857142857 - 0.9585714285714285\n",
      "epoch:52 | 0.4357142857142857 - 0.9585714285714285\n",
      "epoch:53 | 0.4357142857142857 - 0.9542857142857143\n",
      "epoch:54 | 0.4357142857142857 - 0.9514285714285714\n",
      "epoch:55 | 0.4357142857142857 - 0.9528571428571428\n",
      "epoch:56 | 0.4357142857142857 - 0.9485714285714286\n",
      "epoch:57 | 0.4357142857142857 - 0.8928571428571429\n",
      "epoch:58 | 0.4357142857142857 - 0.9714285714285714\n",
      "epoch:59 | 0.4357142857142857 - 0.96\n",
      "epoch:60 | 0.4357142857142857 - 0.9685714285714285\n",
      "epoch:61 | 0.4357142857142857 - 0.9614285714285714\n",
      "epoch:62 | 0.4357142857142857 - 0.9314285714285714\n",
      "epoch:63 | 0.4357142857142857 - 0.9728571428571429\n",
      "epoch:64 | 0.4357142857142857 - 0.9614285714285714\n",
      "epoch:65 | 0.4357142857142857 - 0.9685714285714285\n",
      "epoch:66 | 0.4357142857142857 - 0.9685714285714285\n",
      "epoch:67 | 0.4357142857142857 - 0.97\n",
      "epoch:68 | 0.4357142857142857 - 0.9685714285714285\n",
      "epoch:69 | 0.4357142857142857 - 0.97\n",
      "epoch:70 | 0.4357142857142857 - 0.9714285714285714\n",
      "epoch:71 | 0.4357142857142857 - 0.9728571428571429\n",
      "epoch:72 | 0.4357142857142857 - 0.98\n",
      "epoch:73 | 0.4357142857142857 - 0.9742857142857143\n",
      "epoch:74 | 0.4357142857142857 - 0.9757142857142858\n",
      "epoch:75 | 0.4357142857142857 - 0.9757142857142858\n",
      "epoch:76 | 0.4357142857142857 - 0.9785714285714285\n",
      "epoch:77 | 0.4357142857142857 - 0.9757142857142858\n",
      "epoch:78 | 0.4357142857142857 - 0.9757142857142858\n",
      "epoch:79 | 0.4357142857142857 - 0.98\n",
      "epoch:80 | 0.4357142857142857 - 0.9757142857142858\n",
      "epoch:81 | 0.4357142857142857 - 0.9785714285714285\n",
      "epoch:82 | 0.4357142857142857 - 0.9785714285714285\n",
      "epoch:83 | 0.4357142857142857 - 0.9785714285714285\n",
      "epoch:84 | 0.4357142857142857 - 0.9771428571428571\n",
      "epoch:85 | 0.4357142857142857 - 0.9785714285714285\n",
      "epoch:86 | 0.4357142857142857 - 0.98\n",
      "epoch:87 | 0.4357142857142857 - 0.9785714285714285\n",
      "epoch:88 | 0.4357142857142857 - 0.98\n",
      "epoch:89 | 0.4357142857142857 - 0.98\n",
      "epoch:90 | 0.4357142857142857 - 0.9757142857142858\n",
      "epoch:91 | 0.4357142857142857 - 0.9771428571428571\n",
      "epoch:92 | 0.4357142857142857 - 0.9742857142857143\n",
      "epoch:93 | 0.4357142857142857 - 0.98\n",
      "epoch:94 | 0.4357142857142857 - 0.9742857142857143\n",
      "epoch:95 | 0.4357142857142857 - 0.98\n",
      "epoch:96 | 0.4357142857142857 - 0.9742857142857143\n",
      "epoch:97 | 0.4357142857142857 - 0.98\n",
      "epoch:98 | 0.4357142857142857 - 0.9742857142857143\n",
      "epoch:99 | 0.4357142857142857 - 0.9814285714285714\n"
     ]
    }
   ],
   "source": [
    "train_acc_list01, bn_train_acc_list01 = __train('He')"
   ]
  },
  {
   "cell_type": "code",
   "execution_count": 50,
   "metadata": {},
   "outputs": [],
   "source": [
    "# coding: utf-8\n",
    "import sys, os\n",
    "sys.path.append(os.pardir)  # 親ディレクトリのファイルをインポートするための設定\n",
    "import numpy as np\n",
    "import matplotlib.pyplot as plt\n",
    "from common.multi_layer_net_extend import MultiLayerNetExtend\n",
    "from common.optimizer import SGD, Adam\n",
    "\n",
    "max_epochs = 100\n",
    "train_size = x_train.shape[0]\n",
    "batch_size = 7000\n",
    "learning_rate = 0.001\n",
    "iter_nums = 30000\n",
    "\n",
    "def __train(weight_init_std):\n",
    "    bn_network = MultiLayerNetExtend(input_size=2, hidden_size_list=[10, 10, 10], output_size=2,\n",
    "                                     weight_init_std=weight_init_std, use_batchnorm=True)\n",
    "    network = MultiLayerNetExtend(input_size=2, hidden_size_list=[10, 10, 10], output_size=2,\n",
    "                                weight_init_std=weight_init_std)\n",
    "    optimizer = SGD(lr=learning_rate)\n",
    "    \n",
    "    train_acc_list = []\n",
    "    bn_train_acc_list = []\n",
    "    \n",
    "    iter_per_epoch = max(train_size / batch_size, 1)\n",
    "    epoch_cnt = 0\n",
    "    \n",
    "    for i in range(iter_nums):\n",
    "        batch_mask = np.random.choice(train_size, batch_size)\n",
    "        x_batch = x_train[batch_mask]\n",
    "        t_batch = t_train[batch_mask]\n",
    "    \n",
    "        for _network in (bn_network, network):\n",
    "            grads = _network.gradient(x_batch, t_batch)\n",
    "            optimizer.update(_network.params, grads)\n",
    "    \n",
    "        if i % iter_per_epoch == 0:\n",
    "            train_acc = network.accuracy(x_train, t_train)\n",
    "            bn_train_acc = bn_network.accuracy(x_train, t_train)\n",
    "            train_acc_list.append(train_acc)\n",
    "            bn_train_acc_list.append(bn_train_acc)\n",
    "    \n",
    "            print(\"epoch:\" + str(epoch_cnt) + \" | \" + str(train_acc) + \" - \" + str(bn_train_acc))\n",
    "    \n",
    "            epoch_cnt += 1\n",
    "            if epoch_cnt >= max_epochs:\n",
    "                break\n",
    "                \n",
    "    return train_acc_list, bn_train_acc_list"
   ]
  },
  {
   "cell_type": "code",
   "execution_count": 51,
   "metadata": {},
   "outputs": [
    {
     "name": "stdout",
     "output_type": "stream",
     "text": [
      "epoch:0 | 0.5642857142857143 - 0.40714285714285714\n",
      "epoch:1 | 0.5642857142857143 - 0.39285714285714285\n",
      "epoch:2 | 0.4328571428571429 - 0.4157142857142857\n",
      "epoch:3 | 0.5642857142857143 - 0.4185714285714286\n",
      "epoch:4 | 0.4085714285714286 - 0.4057142857142857\n",
      "epoch:5 | 0.5642857142857143 - 0.4014285714285714\n",
      "epoch:6 | 0.5642857142857143 - 0.4142857142857143\n",
      "epoch:7 | 0.43142857142857144 - 0.4328571428571429\n",
      "epoch:8 | 0.5642857142857143 - 0.44285714285714284\n",
      "epoch:9 | 0.4114285714285714 - 0.44\n",
      "epoch:10 | 0.5642857142857143 - 0.44\n",
      "epoch:11 | 0.5657142857142857 - 0.4514285714285714\n",
      "epoch:12 | 0.42 - 0.46\n",
      "epoch:13 | 0.5657142857142857 - 0.4614285714285714\n",
      "epoch:14 | 0.48 - 0.4614285714285714\n",
      "epoch:15 | 0.5657142857142857 - 0.4657142857142857\n",
      "epoch:16 | 0.42 - 0.45571428571428574\n",
      "epoch:17 | 0.5657142857142857 - 0.46714285714285714\n",
      "epoch:18 | 0.7657142857142857 - 0.47714285714285715\n",
      "epoch:19 | 0.5642857142857143 - 0.4857142857142857\n",
      "epoch:20 | 0.4142857142857143 - 0.48714285714285716\n",
      "epoch:21 | 0.5657142857142857 - 0.4942857142857143\n",
      "epoch:22 | 0.5971428571428572 - 0.5028571428571429\n",
      "epoch:23 | 0.5828571428571429 - 0.51\n",
      "epoch:24 | 0.4157142857142857 - 0.5128571428571429\n",
      "epoch:25 | 0.5657142857142857 - 0.5142857142857142\n",
      "epoch:26 | 0.40714285714285714 - 0.5257142857142857\n",
      "epoch:27 | 0.5657142857142857 - 0.5257142857142857\n",
      "epoch:28 | 0.4114285714285714 - 0.5271428571428571\n",
      "epoch:29 | 0.5657142857142857 - 0.5257142857142857\n",
      "epoch:30 | 0.4085714285714286 - 0.53\n",
      "epoch:31 | 0.5657142857142857 - 0.53\n",
      "epoch:32 | 0.41 - 0.53\n",
      "epoch:33 | 0.5657142857142857 - 0.53\n",
      "epoch:34 | 0.41 - 0.53\n",
      "epoch:35 | 0.5657142857142857 - 0.53\n",
      "epoch:36 | 0.4085714285714286 - 0.5328571428571428\n",
      "epoch:37 | 0.5657142857142857 - 0.5328571428571428\n",
      "epoch:38 | 0.41 - 0.5328571428571428\n",
      "epoch:39 | 0.5657142857142857 - 0.5357142857142857\n",
      "epoch:40 | 0.4085714285714286 - 0.5357142857142857\n",
      "epoch:41 | 0.5914285714285714 - 0.5371428571428571\n",
      "epoch:42 | 0.5842857142857143 - 0.5385714285714286\n",
      "epoch:43 | 0.6185714285714285 - 0.5385714285714286\n",
      "epoch:44 | 0.6671428571428571 - 0.5385714285714286\n",
      "epoch:45 | 0.6242857142857143 - 0.5385714285714286\n",
      "epoch:46 | 0.7442857142857143 - 0.54\n",
      "epoch:47 | 0.6285714285714286 - 0.5442857142857143\n",
      "epoch:48 | 0.7685714285714286 - 0.5457142857142857\n",
      "epoch:49 | 0.6285714285714286 - 0.5471428571428572\n",
      "epoch:50 | 0.5385714285714286 - 0.5471428571428572\n",
      "epoch:51 | 0.62 - 0.5485714285714286\n",
      "epoch:52 | 0.4542857142857143 - 0.55\n",
      "epoch:53 | 0.6142857142857143 - 0.55\n",
      "epoch:54 | 0.4114285714285714 - 0.5471428571428572\n",
      "epoch:55 | 0.6142857142857143 - 0.5485714285714286\n",
      "epoch:56 | 0.44142857142857145 - 0.55\n",
      "epoch:57 | 0.6128571428571429 - 0.5485714285714286\n",
      "epoch:58 | 0.5285714285714286 - 0.5514285714285714\n",
      "epoch:59 | 0.6242857142857143 - 0.5514285714285714\n",
      "epoch:60 | 0.5771428571428572 - 0.5528571428571428\n",
      "epoch:61 | 0.6242857142857143 - 0.5542857142857143\n",
      "epoch:62 | 0.4114285714285714 - 0.5571428571428572\n",
      "epoch:63 | 0.6142857142857143 - 0.56\n",
      "epoch:64 | 0.41285714285714287 - 0.56\n",
      "epoch:65 | 0.6071428571428571 - 0.56\n",
      "epoch:66 | 0.41285714285714287 - 0.56\n",
      "epoch:67 | 0.6142857142857143 - 0.5614285714285714\n",
      "epoch:68 | 0.41285714285714287 - 0.5628571428571428\n",
      "epoch:69 | 0.6171428571428571 - 0.5642857142857143\n",
      "epoch:70 | 0.44 - 0.5642857142857143\n",
      "epoch:71 | 0.63 - 0.5657142857142857\n",
      "epoch:72 | 0.5585714285714286 - 0.5671428571428572\n",
      "epoch:73 | 0.6285714285714286 - 0.5657142857142857\n",
      "epoch:74 | 0.5242857142857142 - 0.5657142857142857\n",
      "epoch:75 | 0.6271428571428571 - 0.5657142857142857\n",
      "epoch:76 | 0.41285714285714287 - 0.5671428571428572\n",
      "epoch:77 | 0.6214285714285714 - 0.5671428571428572\n",
      "epoch:78 | 0.41285714285714287 - 0.57\n",
      "epoch:79 | 0.6257142857142857 - 0.57\n",
      "epoch:80 | 0.4585714285714286 - 0.5685714285714286\n",
      "epoch:81 | 0.63 - 0.5685714285714286\n",
      "epoch:82 | 0.5571428571428572 - 0.5685714285714286\n",
      "epoch:83 | 0.6357142857142857 - 0.5685714285714286\n",
      "epoch:84 | 0.5971428571428572 - 0.5685714285714286\n",
      "epoch:85 | 0.6371428571428571 - 0.5685714285714286\n",
      "epoch:86 | 0.5371428571428571 - 0.5714285714285714\n",
      "epoch:87 | 0.6428571428571429 - 0.5714285714285714\n",
      "epoch:88 | 0.6828571428571428 - 0.5728571428571428\n",
      "epoch:89 | 0.6542857142857142 - 0.5714285714285714\n",
      "epoch:90 | 0.7171428571428572 - 0.5714285714285714\n",
      "epoch:91 | 0.6671428571428571 - 0.5742857142857143\n",
      "epoch:92 | 0.7685714285714286 - 0.5742857142857143\n",
      "epoch:93 | 0.6785714285714286 - 0.5742857142857143\n",
      "epoch:94 | 0.42 - 0.5728571428571428\n",
      "epoch:95 | 0.59 - 0.5728571428571428\n",
      "epoch:96 | 0.5442857142857143 - 0.5714285714285714\n",
      "epoch:97 | 0.6271428571428571 - 0.5714285714285714\n",
      "epoch:98 | 0.7328571428571429 - 0.5714285714285714\n",
      "epoch:99 | 0.6785714285714286 - 0.5714285714285714\n"
     ]
    }
   ],
   "source": [
    "train_acc_list02, bn_train_acc_list02 = __train('He')"
   ]
  },
  {
   "cell_type": "code",
   "execution_count": 52,
   "metadata": {},
   "outputs": [],
   "source": [
    "# coding: utf-8\n",
    "import sys, os\n",
    "sys.path.append(os.pardir)  # 親ディレクトリのファイルをインポートするための設定\n",
    "import numpy as np\n",
    "import matplotlib.pyplot as plt\n",
    "from common.multi_layer_net_extend import MultiLayerNetExtend\n",
    "from common.optimizer import SGD, Adam\n",
    "\n",
    "max_epochs = 100\n",
    "train_size = x_train.shape[0]\n",
    "batch_size = 7000\n",
    "learning_rate = 0.001\n",
    "iter_nums = 30000\n",
    "\n",
    "def __train(weight_init_std):\n",
    "    bn_network = MultiLayerNetExtend(input_size=2, hidden_size_list=[100, 100, 100], output_size=2,\n",
    "                                     weight_init_std=weight_init_std, use_batchnorm=True)\n",
    "    network = MultiLayerNetExtend(input_size=2, hidden_size_list=[10, 10, 10], output_size=2,\n",
    "                                weight_init_std=weight_init_std)\n",
    "    optimizer = SGD(lr=learning_rate)\n",
    "    \n",
    "    train_acc_list = []\n",
    "    bn_train_acc_list = []\n",
    "    \n",
    "    iter_per_epoch = max(train_size / batch_size, 1)\n",
    "    epoch_cnt = 0\n",
    "    \n",
    "    for i in range(iter_nums):\n",
    "        batch_mask = np.random.choice(train_size, batch_size)\n",
    "        x_batch = x_train[batch_mask]\n",
    "        t_batch = t_train[batch_mask]\n",
    "    \n",
    "        for _network in (bn_network, network):\n",
    "            grads = _network.gradient(x_batch, t_batch)\n",
    "            optimizer.update(_network.params, grads)\n",
    "    \n",
    "        if i % iter_per_epoch == 0:\n",
    "            train_acc = network.accuracy(x_train, t_train)\n",
    "            bn_train_acc = bn_network.accuracy(x_train, t_train)\n",
    "            train_acc_list.append(train_acc)\n",
    "            bn_train_acc_list.append(bn_train_acc)\n",
    "    \n",
    "            print(\"epoch:\" + str(epoch_cnt) + \" | \" + str(train_acc) + \" - \" + str(bn_train_acc))\n",
    "    \n",
    "            epoch_cnt += 1\n",
    "            if epoch_cnt >= max_epochs:\n",
    "                break\n",
    "                \n",
    "    return train_acc_list, bn_train_acc_list"
   ]
  },
  {
   "cell_type": "code",
   "execution_count": 53,
   "metadata": {
    "collapsed": true
   },
   "outputs": [
    {
     "name": "stdout",
     "output_type": "stream",
     "text": [
      "epoch:0 | 0.5642857142857143 - 0.4357142857142857\n",
      "epoch:1 | 0.5642857142857143 - 0.40714285714285714\n",
      "epoch:2 | 0.5657142857142857 - 0.38857142857142857\n",
      "epoch:3 | 0.4342857142857143 - 0.39714285714285713\n",
      "epoch:4 | 0.5657142857142857 - 0.42\n",
      "epoch:5 | 0.4342857142857143 - 0.42857142857142855\n",
      "epoch:6 | 0.5657142857142857 - 0.44571428571428573\n",
      "epoch:7 | 0.4342857142857143 - 0.45714285714285713\n",
      "epoch:8 | 0.5657142857142857 - 0.4685714285714286\n",
      "epoch:9 | 0.4342857142857143 - 0.48\n",
      "epoch:10 | 0.5657142857142857 - 0.5014285714285714\n",
      "epoch:11 | 0.4342857142857143 - 0.5085714285714286\n",
      "epoch:12 | 0.5657142857142857 - 0.5328571428571428\n",
      "epoch:13 | 0.4342857142857143 - 0.5714285714285714\n",
      "epoch:14 | 0.5657142857142857 - 0.5771428571428572\n",
      "epoch:15 | 0.4342857142857143 - 0.5928571428571429\n",
      "epoch:16 | 0.5657142857142857 - 0.6171428571428571\n",
      "epoch:17 | 0.4342857142857143 - 0.6285714285714286\n",
      "epoch:18 | 0.5657142857142857 - 0.6428571428571429\n",
      "epoch:19 | 0.4342857142857143 - 0.6528571428571428\n",
      "epoch:20 | 0.5657142857142857 - 0.6714285714285714\n",
      "epoch:21 | 0.4342857142857143 - 0.6871428571428572\n",
      "epoch:22 | 0.5657142857142857 - 0.69\n",
      "epoch:23 | 0.4342857142857143 - 0.7142857142857143\n",
      "epoch:24 | 0.5657142857142857 - 0.7142857142857143\n",
      "epoch:25 | 0.4342857142857143 - 0.7128571428571429\n",
      "epoch:26 | 0.5657142857142857 - 0.7257142857142858\n",
      "epoch:27 | 0.4342857142857143 - 0.7285714285714285\n",
      "epoch:28 | 0.5657142857142857 - 0.7342857142857143\n",
      "epoch:29 | 0.4342857142857143 - 0.7385714285714285\n",
      "epoch:30 | 0.5657142857142857 - 0.7385714285714285\n",
      "epoch:31 | 0.4342857142857143 - 0.7428571428571429\n",
      "epoch:32 | 0.5657142857142857 - 0.74\n",
      "epoch:33 | 0.4342857142857143 - 0.7457142857142857\n",
      "epoch:34 | 0.5657142857142857 - 0.75\n",
      "epoch:35 | 0.4342857142857143 - 0.7571428571428571\n",
      "epoch:36 | 0.5657142857142857 - 0.7557142857142857\n",
      "epoch:37 | 0.4342857142857143 - 0.7571428571428571\n",
      "epoch:38 | 0.5657142857142857 - 0.7514285714285714\n",
      "epoch:39 | 0.4342857142857143 - 0.75\n",
      "epoch:40 | 0.5657142857142857 - 0.7471428571428571\n",
      "epoch:41 | 0.4342857142857143 - 0.7314285714285714\n",
      "epoch:42 | 0.5657142857142857 - 0.7242857142857143\n",
      "epoch:43 | 0.4342857142857143 - 0.7214285714285714\n",
      "epoch:44 | 0.5657142857142857 - 0.7871428571428571\n",
      "epoch:45 | 0.4342857142857143 - 0.7785714285714286\n",
      "epoch:46 | 0.5657142857142857 - 0.7657142857142857\n",
      "epoch:47 | 0.4342857142857143 - 0.8028571428571428\n",
      "epoch:48 | 0.5657142857142857 - 0.7942857142857143\n",
      "epoch:49 | 0.4342857142857143 - 0.8157142857142857\n",
      "epoch:50 | 0.5657142857142857 - 0.8142857142857143\n",
      "epoch:51 | 0.5714285714285714 - 0.8242857142857143\n",
      "epoch:52 | 0.5671428571428572 - 0.8285714285714286\n",
      "epoch:53 | 0.57 - 0.8342857142857143\n",
      "epoch:54 | 0.5671428571428572 - 0.8314285714285714\n",
      "epoch:55 | 0.5685714285714286 - 0.8214285714285714\n",
      "epoch:56 | 0.5671428571428572 - 0.8428571428571429\n",
      "epoch:57 | 0.57 - 0.8414285714285714\n",
      "epoch:58 | 0.5671428571428572 - 0.8471428571428572\n",
      "epoch:59 | 0.57 - 0.8514285714285714\n",
      "epoch:60 | 0.5671428571428572 - 0.8485714285714285\n",
      "epoch:61 | 0.5685714285714286 - 0.8557142857142858\n",
      "epoch:62 | 0.5671428571428572 - 0.8528571428571429\n",
      "epoch:63 | 0.57 - 0.8642857142857143\n",
      "epoch:64 | 0.5671428571428572 - 0.86\n",
      "epoch:65 | 0.57 - 0.8742857142857143\n",
      "epoch:66 | 0.5671428571428572 - 0.8614285714285714\n",
      "epoch:67 | 0.57 - 0.8742857142857143\n",
      "epoch:68 | 0.5671428571428572 - 0.8357142857142857\n",
      "epoch:69 | 0.5671428571428572 - 0.87\n",
      "epoch:70 | 0.5671428571428572 - 0.8871428571428571\n",
      "epoch:71 | 0.5685714285714286 - 0.8685714285714285\n",
      "epoch:72 | 0.5671428571428572 - 0.8914285714285715\n",
      "epoch:73 | 0.57 - 0.8928571428571429\n",
      "epoch:74 | 0.5671428571428572 - 0.8885714285714286\n",
      "epoch:75 | 0.57 - 0.8914285714285715\n",
      "epoch:76 | 0.5657142857142857 - 0.8871428571428571\n",
      "epoch:77 | 0.57 - 0.9\n",
      "epoch:78 | 0.5671428571428572 - 0.8714285714285714\n",
      "epoch:79 | 0.57 - 0.8957142857142857\n",
      "epoch:80 | 0.5657142857142857 - 0.9057142857142857\n",
      "epoch:81 | 0.57 - 0.8757142857142857\n",
      "epoch:82 | 0.5671428571428572 - 0.9\n",
      "epoch:83 | 0.57 - 0.9057142857142857\n",
      "epoch:84 | 0.5671428571428572 - 0.8985714285714286\n",
      "epoch:85 | 0.5671428571428572 - 0.9114285714285715\n",
      "epoch:86 | 0.5671428571428572 - 0.8557142857142858\n",
      "epoch:87 | 0.57 - 0.8928571428571429\n",
      "epoch:88 | 0.5671428571428572 - 0.91\n",
      "epoch:89 | 0.5671428571428572 - 0.91\n",
      "epoch:90 | 0.5671428571428572 - 0.9157142857142857\n",
      "epoch:91 | 0.5685714285714286 - 0.9085714285714286\n",
      "epoch:92 | 0.5671428571428572 - 0.9228571428571428\n",
      "epoch:93 | 0.5685714285714286 - 0.9014285714285715\n",
      "epoch:94 | 0.5671428571428572 - 0.9285714285714286\n",
      "epoch:95 | 0.5685714285714286 - 0.8885714285714286\n",
      "epoch:96 | 0.5671428571428572 - 0.9114285714285715\n",
      "epoch:97 | 0.5685714285714286 - 0.9242857142857143\n",
      "epoch:98 | 0.5671428571428572 - 0.9042857142857142\n",
      "epoch:99 | 0.57 - 0.9271428571428572\n"
     ]
    }
   ],
   "source": [
    "train_acc_list00, bn_train_acc_list00 = __train('He')"
   ]
  },
  {
   "cell_type": "code",
   "execution_count": 54,
   "metadata": {
    "scrolled": true
   },
   "outputs": [
    {
     "data": {
      "text/plain": [
       "Text(0.5,1,'Newron Size')"
      ]
     },
     "execution_count": 54,
     "metadata": {},
     "output_type": "execute_result"
    },
    {
     "data": {
      "image/png": "[encoded data removed]",
      "text/plain": [
       "<matplotlib.figure.Figure at 0x11ea942e8>"
      ]
     },
     "metadata": {},
     "output_type": "display_data"
    }
   ],
   "source": [
    "# グラフの描画\n",
    "plt.figure(figsize=(14,4)) # figureの縦横の大きさ\n",
    "markers = {'train': 'o', 'test': 's'}\n",
    "a = np.arange(len(bn_train_acc_list00))\n",
    "plt.subplot(1,2,1)\n",
    "plt.plot(a, bn_train_acc_list03, label='1000', markevery=2)\n",
    "plt.plot(a, bn_train_acc_list01, label='500', markevery=2)\n",
    "plt.plot(a, bn_train_acc_list00, label='100', markevery=2)\n",
    "plt.plot(a, bn_train_acc_list02, label='10', markevery=2)\n",
    "plt.xlabel('epochs')\n",
    "plt.ylabel(\"accuracy\")\n",
    "plt.ylim(0, 1.0)\n",
    "plt.legend(loc='lower right')\n",
    "plt.title('Newron Size')"
   ]
  },
  {
   "cell_type": "markdown",
   "metadata": {},
   "source": [
    "## 層の数"
   ]
  },
  {
   "cell_type": "code",
   "execution_count": 55,
   "metadata": {},
   "outputs": [],
   "source": [
    "max_epochs = 100\n",
    "train_size = x_train.shape[0]\n",
    "batch_size = 7000\n",
    "learning_rate = 0.001\n",
    "iter_nums = 30000\n",
    "\n",
    "def __train(weight_init_std):\n",
    "    bn_network = MultiLayerNetExtend(input_size=2, hidden_size_list=[100], output_size=2,\n",
    "                                     weight_init_std=weight_init_std, use_batchnorm=True)\n",
    "    network = MultiLayerNetExtend(input_size=2, hidden_size_list=[100], output_size=2,\n",
    "                                weight_init_std=weight_init_std)\n",
    "    optimizer = SGD(lr=learning_rate)\n",
    "    \n",
    "    train_acc_list = []\n",
    "    bn_train_acc_list = []\n",
    "    \n",
    "    iter_per_epoch = max(train_size / batch_size, 1)\n",
    "    epoch_cnt = 0\n",
    "    \n",
    "    for i in range(iter_nums):\n",
    "        batch_mask = np.random.choice(train_size, batch_size)\n",
    "        x_batch = x_train[batch_mask]\n",
    "        t_batch = t_train[batch_mask]\n",
    "    \n",
    "        for _network in (bn_network, network):\n",
    "            grads = _network.gradient(x_batch, t_batch)\n",
    "            optimizer.update(_network.params, grads)\n",
    "    \n",
    "        if i % iter_per_epoch == 0:\n",
    "            train_acc = network.accuracy(x_train, t_train)\n",
    "            bn_train_acc = bn_network.accuracy(x_train, t_train)\n",
    "            train_acc_list.append(train_acc)\n",
    "            bn_train_acc_list.append(bn_train_acc)\n",
    "    \n",
    "            print(\"epoch:\" + str(epoch_cnt) + \" | \" + str(train_acc) + \" - \" + str(bn_train_acc))\n",
    "    \n",
    "            epoch_cnt += 1\n",
    "            if epoch_cnt >= max_epochs:\n",
    "                break\n",
    "                \n",
    "    return train_acc_list, bn_train_acc_list"
   ]
  },
  {
   "cell_type": "code",
   "execution_count": 56,
   "metadata": {
    "collapsed": true
   },
   "outputs": [
    {
     "name": "stdout",
     "output_type": "stream",
     "text": [
      "epoch:0 | 0.4357142857142857 - 0.5642857142857143\n",
      "epoch:1 | 0.5642857142857143 - 0.5642857142857143\n",
      "epoch:2 | 0.4357142857142857 - 0.5585714285714286\n",
      "epoch:3 | 0.5642857142857143 - 0.5628571428571428\n",
      "epoch:4 | 0.5642857142857143 - 0.5571428571428572\n",
      "epoch:5 | 0.4357142857142857 - 0.5557142857142857\n",
      "epoch:6 | 0.5642857142857143 - 0.5585714285714286\n",
      "epoch:7 | 0.4357142857142857 - 0.56\n",
      "epoch:8 | 0.5642857142857143 - 0.5585714285714286\n",
      "epoch:9 | 0.5642857142857143 - 0.56\n",
      "epoch:10 | 0.4357142857142857 - 0.5571428571428572\n",
      "epoch:11 | 0.5642857142857143 - 0.56\n",
      "epoch:12 | 0.4357142857142857 - 0.5557142857142857\n",
      "epoch:13 | 0.5642857142857143 - 0.5557142857142857\n",
      "epoch:14 | 0.5642857142857143 - 0.5542857142857143\n",
      "epoch:15 | 0.4357142857142857 - 0.5514285714285714\n",
      "epoch:16 | 0.5642857142857143 - 0.55\n",
      "epoch:17 | 0.4357142857142857 - 0.5514285714285714\n",
      "epoch:18 | 0.5642857142857143 - 0.5528571428571428\n",
      "epoch:19 | 0.5642857142857143 - 0.5542857142857143\n",
      "epoch:20 | 0.4357142857142857 - 0.5571428571428572\n",
      "epoch:21 | 0.5642857142857143 - 0.5542857142857143\n",
      "epoch:22 | 0.6271428571428571 - 0.5514285714285714\n",
      "epoch:23 | 0.4357142857142857 - 0.5485714285714286\n",
      "epoch:24 | 0.5642857142857143 - 0.5485714285714286\n",
      "epoch:25 | 0.4357142857142857 - 0.5485714285714286\n",
      "epoch:26 | 0.5642857142857143 - 0.5471428571428572\n",
      "epoch:27 | 0.6114285714285714 - 0.5471428571428572\n",
      "epoch:28 | 0.4357142857142857 - 0.5457142857142857\n",
      "epoch:29 | 0.5671428571428572 - 0.5442857142857143\n",
      "epoch:30 | 0.4357142857142857 - 0.5442857142857143\n",
      "epoch:31 | 0.5642857142857143 - 0.5442857142857143\n",
      "epoch:32 | 0.6185714285714285 - 0.5457142857142857\n",
      "epoch:33 | 0.4357142857142857 - 0.5457142857142857\n",
      "epoch:34 | 0.5885714285714285 - 0.5471428571428572\n",
      "epoch:35 | 0.4357142857142857 - 0.5485714285714286\n",
      "epoch:36 | 0.5671428571428572 - 0.5485714285714286\n",
      "epoch:37 | 0.63 - 0.5485714285714286\n",
      "epoch:38 | 0.4357142857142857 - 0.5485714285714286\n",
      "epoch:39 | 0.6014285714285714 - 0.5485714285714286\n",
      "epoch:40 | 0.7585714285714286 - 0.5485714285714286\n",
      "epoch:41 | 0.4357142857142857 - 0.5485714285714286\n",
      "epoch:42 | 0.6128571428571429 - 0.5485714285714286\n",
      "epoch:43 | 0.77 - 0.5485714285714286\n",
      "epoch:44 | 0.4357142857142857 - 0.5485714285714286\n",
      "epoch:45 | 0.6185714285714285 - 0.5471428571428572\n",
      "epoch:46 | 0.7714285714285715 - 0.5471428571428572\n",
      "epoch:47 | 0.4357142857142857 - 0.5471428571428572\n",
      "epoch:48 | 0.6285714285714286 - 0.5471428571428572\n",
      "epoch:49 | 0.7728571428571429 - 0.5471428571428572\n",
      "epoch:50 | 0.4357142857142857 - 0.5471428571428572\n",
      "epoch:51 | 0.6428571428571429 - 0.5471428571428572\n",
      "epoch:52 | 0.7628571428571429 - 0.5471428571428572\n",
      "epoch:53 | 0.4357142857142857 - 0.5471428571428572\n",
      "epoch:54 | 0.6571428571428571 - 0.5471428571428572\n",
      "epoch:55 | 0.7728571428571429 - 0.5485714285714286\n",
      "epoch:56 | 0.4514285714285714 - 0.5485714285714286\n",
      "epoch:57 | 0.6714285714285714 - 0.5485714285714286\n",
      "epoch:58 | 0.7828571428571428 - 0.55\n",
      "epoch:59 | 0.7157142857142857 - 0.55\n",
      "epoch:60 | 0.7414285714285714 - 0.5514285714285714\n",
      "epoch:61 | 0.6028571428571429 - 0.5542857142857143\n",
      "epoch:62 | 0.7057142857142857 - 0.5542857142857143\n",
      "epoch:63 | 0.7028571428571428 - 0.5542857142857143\n",
      "epoch:64 | 0.7485714285714286 - 0.5557142857142857\n",
      "epoch:65 | 0.6728571428571428 - 0.5557142857142857\n",
      "epoch:66 | 0.73 - 0.5557142857142857\n",
      "epoch:67 | 0.6928571428571428 - 0.5557142857142857\n",
      "epoch:68 | 0.7514285714285714 - 0.5557142857142857\n",
      "epoch:69 | 0.6842857142857143 - 0.5557142857142857\n",
      "epoch:70 | 0.7485714285714286 - 0.5557142857142857\n",
      "epoch:71 | 0.7071428571428572 - 0.5557142857142857\n",
      "epoch:72 | 0.7628571428571429 - 0.5557142857142857\n",
      "epoch:73 | 0.7042857142857143 - 0.5542857142857143\n",
      "epoch:74 | 0.7642857142857142 - 0.5542857142857143\n",
      "epoch:75 | 0.7157142857142857 - 0.5514285714285714\n",
      "epoch:76 | 0.7728571428571429 - 0.5514285714285714\n",
      "epoch:77 | 0.7128571428571429 - 0.5514285714285714\n",
      "epoch:78 | 0.77 - 0.5514285714285714\n",
      "epoch:79 | 0.7085714285714285 - 0.5514285714285714\n",
      "epoch:80 | 0.7657142857142857 - 0.5514285714285714\n",
      "epoch:81 | 0.7157142857142857 - 0.5514285714285714\n",
      "epoch:82 | 0.7728571428571429 - 0.55\n",
      "epoch:83 | 0.7285714285714285 - 0.5485714285714286\n",
      "epoch:84 | 0.77 - 0.55\n",
      "epoch:85 | 0.7271428571428571 - 0.5485714285714286\n",
      "epoch:86 | 0.7685714285714286 - 0.5485714285714286\n",
      "epoch:87 | 0.7342857142857143 - 0.55\n",
      "epoch:88 | 0.7728571428571429 - 0.55\n",
      "epoch:89 | 0.7428571428571429 - 0.55\n",
      "epoch:90 | 0.77 - 0.55\n",
      "epoch:91 | 0.7271428571428571 - 0.55\n",
      "epoch:92 | 0.77 - 0.55\n",
      "epoch:93 | 0.7585714285714286 - 0.5514285714285714\n",
      "epoch:94 | 0.7771428571428571 - 0.5514285714285714\n",
      "epoch:95 | 0.7542857142857143 - 0.5528571428571428\n",
      "epoch:96 | 0.7771428571428571 - 0.5542857142857143\n",
      "epoch:97 | 0.7671428571428571 - 0.5542857142857143\n",
      "epoch:98 | 0.7742857142857142 - 0.56\n",
      "epoch:99 | 0.7671428571428571 - 0.5628571428571428\n"
     ]
    }
   ],
   "source": [
    "train_acc_list30, bn_train_acc_list30 = __train('He')"
   ]
  },
  {
   "cell_type": "code",
   "execution_count": 58,
   "metadata": {},
   "outputs": [],
   "source": [
    "max_epochs = 100\n",
    "train_size = x_train.shape[0]\n",
    "batch_size = 7000\n",
    "learning_rate = 0.001\n",
    "iter_nums = 30000\n",
    "\n",
    "def __train(weight_init_std):\n",
    "    bn_network = MultiLayerNetExtend(input_size=2, hidden_size_list=[100,100,100,100,100,100], output_size=2,\n",
    "                                     weight_init_std=weight_init_std, use_batchnorm=True)\n",
    "    network = MultiLayerNetExtend(input_size=2, hidden_size_list=[100,100,100,100,100,100], output_size=2,\n",
    "                                weight_init_std=weight_init_std)\n",
    "    optimizer = SGD(lr=learning_rate)\n",
    "    \n",
    "    train_acc_list = []\n",
    "    bn_train_acc_list = []\n",
    "    \n",
    "    iter_per_epoch = max(train_size / batch_size, 1)\n",
    "    epoch_cnt = 0\n",
    "    \n",
    "    for i in range(iter_nums):\n",
    "        batch_mask = np.random.choice(train_size, batch_size)\n",
    "        x_batch = x_train[batch_mask]\n",
    "        t_batch = t_train[batch_mask]\n",
    "    \n",
    "        for _network in (bn_network, network):\n",
    "            grads = _network.gradient(x_batch, t_batch)\n",
    "            optimizer.update(_network.params, grads)\n",
    "    \n",
    "        if i % iter_per_epoch == 0:\n",
    "            train_acc = network.accuracy(x_train, t_train)\n",
    "            bn_train_acc = bn_network.accuracy(x_train, t_train)\n",
    "            train_acc_list.append(train_acc)\n",
    "            bn_train_acc_list.append(bn_train_acc)\n",
    "    \n",
    "            print(\"epoch:\" + str(epoch_cnt) + \" | \" + str(train_acc) + \" - \" + str(bn_train_acc))\n",
    "    \n",
    "            epoch_cnt += 1\n",
    "            if epoch_cnt >= max_epochs:\n",
    "                break\n",
    "                \n",
    "    return train_acc_list, bn_train_acc_list"
   ]
  },
  {
   "cell_type": "code",
   "execution_count": 59,
   "metadata": {
    "collapsed": true
   },
   "outputs": [
    {
     "name": "stdout",
     "output_type": "stream",
     "text": [
      "epoch:0 | 0.5642857142857143 - 0.2857142857142857\n",
      "epoch:1 | 0.4357142857142857 - 0.30857142857142855\n",
      "epoch:2 | 0.4142857142857143 - 0.32285714285714284\n",
      "epoch:3 | 0.5685714285714286 - 0.2857142857142857\n",
      "epoch:4 | 0.5714285714285714 - 0.32285714285714284\n",
      "epoch:5 | 0.5714285714285714 - 0.32571428571428573\n",
      "epoch:6 | 0.43 - 0.3028571428571429\n",
      "epoch:7 | 0.5714285714285714 - 0.3\n",
      "epoch:8 | 0.43142857142857144 - 0.32857142857142857\n",
      "epoch:9 | 0.5642857142857143 - 0.38142857142857145\n",
      "epoch:10 | 0.5642857142857143 - 0.4471428571428571\n",
      "epoch:11 | 0.5642857142857143 - 0.47714285714285715\n",
      "epoch:12 | 0.5642857142857143 - 0.54\n",
      "epoch:13 | 0.5642857142857143 - 0.6028571428571429\n",
      "epoch:14 | 0.5642857142857143 - 0.6328571428571429\n",
      "epoch:15 | 0.5642857142857143 - 0.6785714285714286\n",
      "epoch:16 | 0.5642857142857143 - 0.7014285714285714\n",
      "epoch:17 | 0.5642857142857143 - 0.7328571428571429\n",
      "epoch:18 | 0.5671428571428572 - 0.77\n",
      "epoch:19 | 0.5671428571428572 - 0.7885714285714286\n",
      "epoch:20 | 0.5685714285714286 - 0.8042857142857143\n",
      "epoch:21 | 0.5685714285714286 - 0.8242857142857143\n",
      "epoch:22 | 0.5685714285714286 - 0.8485714285714285\n",
      "epoch:23 | 0.5685714285714286 - 0.8671428571428571\n",
      "epoch:24 | 0.5685714285714286 - 0.8757142857142857\n",
      "epoch:25 | 0.5685714285714286 - 0.8842857142857142\n",
      "epoch:26 | 0.5685714285714286 - 0.8785714285714286\n",
      "epoch:27 | 0.5685714285714286 - 0.89\n",
      "epoch:28 | 0.5685714285714286 - 0.8914285714285715\n",
      "epoch:29 | 0.5685714285714286 - 0.9085714285714286\n",
      "epoch:30 | 0.5685714285714286 - 0.9185714285714286\n",
      "epoch:31 | 0.5685714285714286 - 0.9214285714285714\n",
      "epoch:32 | 0.5685714285714286 - 0.9242857142857143\n",
      "epoch:33 | 0.5685714285714286 - 0.9185714285714286\n",
      "epoch:34 | 0.5685714285714286 - 0.9214285714285714\n",
      "epoch:35 | 0.5685714285714286 - 0.9342857142857143\n",
      "epoch:36 | 0.5685714285714286 - 0.9271428571428572\n",
      "epoch:37 | 0.5685714285714286 - 0.9314285714285714\n",
      "epoch:38 | 0.5685714285714286 - 0.9357142857142857\n",
      "epoch:39 | 0.5685714285714286 - 0.9342857142857143\n",
      "epoch:40 | 0.5685714285714286 - 0.9328571428571428\n",
      "epoch:41 | 0.5685714285714286 - 0.9342857142857143\n",
      "epoch:42 | 0.5685714285714286 - 0.9414285714285714\n",
      "epoch:43 | 0.5685714285714286 - 0.9414285714285714\n",
      "epoch:44 | 0.5685714285714286 - 0.9457142857142857\n",
      "epoch:45 | 0.5685714285714286 - 0.9428571428571428\n",
      "epoch:46 | 0.5685714285714286 - 0.9385714285714286\n",
      "epoch:47 | 0.5685714285714286 - 0.9428571428571428\n",
      "epoch:48 | 0.5685714285714286 - 0.9457142857142857\n",
      "epoch:49 | 0.5685714285714286 - 0.9485714285714286\n",
      "epoch:50 | 0.5685714285714286 - 0.9471428571428572\n",
      "epoch:51 | 0.5685714285714286 - 0.9457142857142857\n",
      "epoch:52 | 0.5685714285714286 - 0.9485714285714286\n",
      "epoch:53 | 0.5685714285714286 - 0.9528571428571428\n",
      "epoch:54 | 0.5685714285714286 - 0.9542857142857143\n",
      "epoch:55 | 0.5685714285714286 - 0.9528571428571428\n",
      "epoch:56 | 0.5685714285714286 - 0.9528571428571428\n",
      "epoch:57 | 0.5685714285714286 - 0.9571428571428572\n",
      "epoch:58 | 0.5685714285714286 - 0.9542857142857143\n",
      "epoch:59 | 0.5685714285714286 - 0.9557142857142857\n",
      "epoch:60 | 0.5685714285714286 - 0.9571428571428572\n",
      "epoch:61 | 0.5685714285714286 - 0.9585714285714285\n",
      "epoch:62 | 0.5685714285714286 - 0.9614285714285714\n",
      "epoch:63 | 0.5685714285714286 - 0.9557142857142857\n",
      "epoch:64 | 0.5685714285714286 - 0.9557142857142857\n",
      "epoch:65 | 0.5685714285714286 - 0.9614285714285714\n",
      "epoch:66 | 0.5685714285714286 - 0.9614285714285714\n",
      "epoch:67 | 0.5685714285714286 - 0.9657142857142857\n",
      "epoch:68 | 0.5685714285714286 - 0.9571428571428572\n",
      "epoch:69 | 0.5685714285714286 - 0.9614285714285714\n",
      "epoch:70 | 0.5685714285714286 - 0.96\n",
      "epoch:71 | 0.5685714285714286 - 0.96\n",
      "epoch:72 | 0.5685714285714286 - 0.96\n",
      "epoch:73 | 0.5685714285714286 - 0.9642857142857143\n",
      "epoch:74 | 0.5685714285714286 - 0.9642857142857143\n",
      "epoch:75 | 0.5685714285714286 - 0.9671428571428572\n",
      "epoch:76 | 0.5685714285714286 - 0.9657142857142857\n",
      "epoch:77 | 0.5685714285714286 - 0.9614285714285714\n",
      "epoch:78 | 0.5685714285714286 - 0.9642857142857143\n",
      "epoch:79 | 0.5685714285714286 - 0.9614285714285714\n",
      "epoch:80 | 0.5685714285714286 - 0.97\n",
      "epoch:81 | 0.5685714285714286 - 0.9685714285714285\n",
      "epoch:82 | 0.5685714285714286 - 0.9642857142857143\n",
      "epoch:83 | 0.5685714285714286 - 0.9628571428571429\n",
      "epoch:84 | 0.5685714285714286 - 0.9642857142857143\n",
      "epoch:85 | 0.5685714285714286 - 0.9657142857142857\n",
      "epoch:86 | 0.5685714285714286 - 0.9671428571428572\n",
      "epoch:87 | 0.5685714285714286 - 0.9671428571428572\n",
      "epoch:88 | 0.5685714285714286 - 0.9685714285714285\n",
      "epoch:89 | 0.5685714285714286 - 0.97\n",
      "epoch:90 | 0.5685714285714286 - 0.9671428571428572\n",
      "epoch:91 | 0.5685714285714286 - 0.97\n",
      "epoch:92 | 0.5685714285714286 - 0.97\n",
      "epoch:93 | 0.5685714285714286 - 0.9742857142857143\n",
      "epoch:94 | 0.5685714285714286 - 0.9742857142857143\n",
      "epoch:95 | 0.5685714285714286 - 0.9742857142857143\n",
      "epoch:96 | 0.5685714285714286 - 0.9714285714285714\n",
      "epoch:97 | 0.5685714285714286 - 0.9685714285714285\n",
      "epoch:98 | 0.5685714285714286 - 0.9728571428571429\n",
      "epoch:99 | 0.5685714285714286 - 0.9728571428571429\n"
     ]
    }
   ],
   "source": [
    "train_acc_list31, bn_train_acc_list31 = __train('He')"
   ]
  },
  {
   "cell_type": "code",
   "execution_count": 60,
   "metadata": {},
   "outputs": [
    {
     "data": {
      "text/plain": [
       "Text(0.5,1,'Layer Num')"
      ]
     },
     "execution_count": 60,
     "metadata": {},
     "output_type": "execute_result"
    },
    {
     "data": {
      "image/png": "[encoded data removed]",
      "text/plain": [
       "<matplotlib.figure.Figure at 0x1111d4ba8>"
      ]
     },
     "metadata": {},
     "output_type": "display_data"
    }
   ],
   "source": [
    "# グラフの描画\n",
    "plt.figure(figsize=(14,4)) # figureの縦横の大きさ\n",
    "markers = {'train': 'o', 'test': 's'}\n",
    "x = np.arange(len(bn_train_acc_list30))\n",
    "plt.subplot(1,2,1)\n",
    "plt.plot(x, bn_train_acc_list30, label='1 layer', markevery=2)\n",
    "plt.plot(x, bn_train_acc_list00, label='3 layer', markevery=2)\n",
    "plt.plot(x, bn_train_acc_list31, label='6 layer', markevery=2)\n",
    "plt.xlabel('epoch')\n",
    "plt.ylabel(\"accuracy\")\n",
    "plt.ylim(0, 1.0)\n",
    "plt.legend(loc='lower right')\n",
    "plt.title('Layer Num')"
   ]
  },
  {
   "cell_type": "code",
   "execution_count": 38,
   "metadata": {},
   "outputs": [],
   "source": [
    "max_epochs = 100\n",
    "train_size = x_train.shape[0]\n",
    "batch_size = 7000\n",
    "learning_rate = 0.001\n",
    "iter_nums = 30000\n",
    "\n",
    "def __train(weight_init_std):\n",
    "    bn_network = MultiLayerNetExtend(input_size=2, hidden_size_list=[1000,1000,1000,1000,1000,1000], output_size=2,\n",
    "                                     weight_init_std=weight_init_std, use_batchnorm=True)\n",
    "    network = MultiLayerNetExtend(input_size=2, hidden_size_list=[1000,1000,1000,1000,1000,1000], output_size=2,\n",
    "                                weight_init_std=weight_init_std)\n",
    "    optimizer = SGD(lr=learning_rate)\n",
    "    \n",
    "    train_acc_list = []\n",
    "    bn_train_acc_list = []\n",
    "    \n",
    "    iter_per_epoch = max(train_size / batch_size, 1)\n",
    "    epoch_cnt = 0\n",
    "    \n",
    "    for i in range(iter_nums):\n",
    "        batch_mask = np.random.choice(train_size, batch_size)\n",
    "        x_batch = x_train[batch_mask]\n",
    "        t_batch = t_train[batch_mask]\n",
    "    \n",
    "        for _network in (bn_network, network):\n",
    "            grads = _network.gradient(x_batch, t_batch)\n",
    "            optimizer.update(_network.params, grads)\n",
    "    \n",
    "        if i % iter_per_epoch == 0:\n",
    "            train_acc = network.accuracy(x_train, t_train)\n",
    "            bn_train_acc = bn_network.accuracy(x_train, t_train)\n",
    "            train_acc_list.append(train_acc)\n",
    "            bn_train_acc_list.append(bn_train_acc)\n",
    "    \n",
    "            print(\"epoch:\" + str(epoch_cnt) + \" | \" + str(train_acc) + \" - \" + str(bn_train_acc))\n",
    "    \n",
    "            epoch_cnt += 1\n",
    "            if epoch_cnt >= max_epochs:\n",
    "                break\n",
    "                \n",
    "    return train_acc_list, bn_train_acc_list"
   ]
  },
  {
   "cell_type": "code",
   "execution_count": 39,
   "metadata": {},
   "outputs": [
    {
     "name": "stdout",
     "output_type": "stream",
     "text": [
      "epoch:0 | 0.6057142857142858 - 0.6357142857142857\n",
      "epoch:1 | 0.3942857142857143 - 0.6628571428571428\n",
      "epoch:2 | 0.6057142857142858 - 0.6014285714285714\n",
      "epoch:3 | 0.3942857142857143 - 0.6214285714285714\n"
     ]
    },
    {
     "name": "stderr",
     "output_type": "stream",
     "text": [
      "../common/layers.py:12: RuntimeWarning: invalid value encountered in less_equal\n",
      "  self.mask = (x <= 0)\n"
     ]
    },
    {
     "name": "stdout",
     "output_type": "stream",
     "text": [
      "epoch:4 | 0.3942857142857143 - 0.5742857142857143\n"
     ]
    },
    {
     "name": "stderr",
     "output_type": "stream",
     "text": [
      "../common/multi_layer_net_extend.py:101: RuntimeWarning: overflow encountered in square\n",
      "  weight_decay += 0.5 * self.weight_decay_lambda * np.sum(W**2)\n",
      "../common/multi_layer_net_extend.py:101: RuntimeWarning: invalid value encountered in double_scalars\n",
      "  weight_decay += 0.5 * self.weight_decay_lambda * np.sum(W**2)\n",
      "/Users/Kohei/.pyenv/versions/anaconda3-5.1.0/lib/python3.6/site-packages/numpy/core/_methods.py:32: RuntimeWarning: overflow encountered in reduce\n",
      "  return umr_sum(a, axis, dtype, out, keepdims)\n",
      "/Users/Kohei/.pyenv/versions/anaconda3-5.1.0/lib/python3.6/site-packages/numpy/core/_methods.py:26: RuntimeWarning: invalid value encountered in reduce\n",
      "  return umr_maximum(a, axis, None, out, keepdims)\n"
     ]
    },
    {
     "name": "stdout",
     "output_type": "stream",
     "text": [
      "epoch:5 | 0.3942857142857143 - 0.59\n",
      "epoch:6 | 0.3942857142857143 - 0.6042857142857143\n",
      "epoch:7 | 0.3942857142857143 - 0.62\n",
      "epoch:8 | 0.3942857142857143 - 0.6485714285714286\n",
      "epoch:9 | 0.3942857142857143 - 0.6442857142857142\n",
      "epoch:10 | 0.3942857142857143 - 0.7371428571428571\n",
      "epoch:11 | 0.3942857142857143 - 0.78\n",
      "epoch:12 | 0.3942857142857143 - 0.7685714285714286\n",
      "epoch:13 | 0.3942857142857143 - 0.83\n",
      "epoch:14 | 0.3942857142857143 - 0.8571428571428571\n",
      "epoch:15 | 0.3942857142857143 - 0.8757142857142857\n",
      "epoch:16 | 0.3942857142857143 - 0.8214285714285714\n",
      "epoch:17 | 0.3942857142857143 - 0.8928571428571429\n",
      "epoch:18 | 0.3942857142857143 - 0.9142857142857143\n",
      "epoch:19 | 0.3942857142857143 - 0.8771428571428571\n",
      "epoch:20 | 0.3942857142857143 - 0.9285714285714286\n",
      "epoch:21 | 0.3942857142857143 - 0.9428571428571428\n",
      "epoch:22 | 0.3942857142857143 - 0.94\n",
      "epoch:23 | 0.3942857142857143 - 0.9514285714285714\n",
      "epoch:24 | 0.3942857142857143 - 0.9357142857142857\n",
      "epoch:25 | 0.3942857142857143 - 0.9642857142857143\n",
      "epoch:26 | 0.3942857142857143 - 0.96\n",
      "epoch:27 | 0.3942857142857143 - 0.9571428571428572\n",
      "epoch:28 | 0.3942857142857143 - 0.9642857142857143\n",
      "epoch:29 | 0.3942857142857143 - 0.9471428571428572\n",
      "epoch:30 | 0.3942857142857143 - 0.9728571428571429\n",
      "epoch:31 | 0.3942857142857143 - 0.9771428571428571\n",
      "epoch:32 | 0.3942857142857143 - 0.9771428571428571\n",
      "epoch:33 | 0.3942857142857143 - 0.9771428571428571\n",
      "epoch:34 | 0.3942857142857143 - 0.9871428571428571\n",
      "epoch:35 | 0.3942857142857143 - 0.9742857142857143\n",
      "epoch:36 | 0.3942857142857143 - 0.9842857142857143\n",
      "epoch:37 | 0.3942857142857143 - 0.9814285714285714\n",
      "epoch:38 | 0.3942857142857143 - 0.9585714285714285\n",
      "epoch:39 | 0.3942857142857143 - 0.9842857142857143\n",
      "epoch:40 | 0.3942857142857143 - 0.9928571428571429\n",
      "epoch:41 | 0.3942857142857143 - 0.9785714285714285\n",
      "epoch:42 | 0.3942857142857143 - 0.9742857142857143\n",
      "epoch:43 | 0.3942857142857143 - 0.98\n",
      "epoch:44 | 0.3942857142857143 - 0.9885714285714285\n",
      "epoch:45 | 0.3942857142857143 - 0.98\n",
      "epoch:46 | 0.3942857142857143 - 0.9271428571428572\n",
      "epoch:47 | 0.3942857142857143 - 0.9971428571428571\n",
      "epoch:48 | 0.3942857142857143 - 0.9842857142857143\n",
      "epoch:49 | 0.3942857142857143 - 0.99\n",
      "epoch:50 | 0.3942857142857143 - 0.98\n",
      "epoch:51 | 0.3942857142857143 - 0.9814285714285714\n",
      "epoch:52 | 0.3942857142857143 - 0.9914285714285714\n",
      "epoch:53 | 0.3942857142857143 - 0.9914285714285714\n",
      "epoch:54 | 0.3942857142857143 - 0.9957142857142857\n",
      "epoch:55 | 0.3942857142857143 - 0.9957142857142857\n",
      "epoch:56 | 0.3942857142857143 - 0.9928571428571429\n",
      "epoch:57 | 0.3942857142857143 - 0.9928571428571429\n",
      "epoch:58 | 0.3942857142857143 - 0.9857142857142858\n",
      "epoch:59 | 0.3942857142857143 - 0.98\n",
      "epoch:60 | 0.3942857142857143 - 0.9585714285714285\n",
      "epoch:61 | 0.3942857142857143 - 0.9914285714285714\n",
      "epoch:62 | 0.3942857142857143 - 0.9928571428571429\n",
      "epoch:63 | 0.3942857142857143 - 0.9928571428571429\n",
      "epoch:64 | 0.3942857142857143 - 0.9914285714285714\n",
      "epoch:65 | 0.3942857142857143 - 0.9957142857142857\n",
      "epoch:66 | 0.3942857142857143 - 0.9857142857142858\n",
      "epoch:67 | 0.3942857142857143 - 0.9871428571428571\n",
      "epoch:68 | 0.3942857142857143 - 0.9857142857142858\n",
      "epoch:69 | 0.3942857142857143 - 0.9242857142857143\n",
      "epoch:70 | 0.3942857142857143 - 0.9957142857142857\n",
      "epoch:71 | 0.3942857142857143 - 0.9857142857142858\n",
      "epoch:72 | 0.3942857142857143 - 0.9914285714285714\n",
      "epoch:73 | 0.3942857142857143 - 0.9914285714285714\n",
      "epoch:74 | 0.3942857142857143 - 0.99\n",
      "epoch:75 | 0.3942857142857143 - 0.9928571428571429\n",
      "epoch:76 | 0.3942857142857143 - 0.9928571428571429\n",
      "epoch:77 | 0.3942857142857143 - 0.9942857142857143\n",
      "epoch:78 | 0.3942857142857143 - 0.9928571428571429\n",
      "epoch:79 | 0.3942857142857143 - 0.9957142857142857\n",
      "epoch:80 | 0.3942857142857143 - 0.9971428571428571\n",
      "epoch:81 | 0.3942857142857143 - 0.9942857142857143\n",
      "epoch:82 | 0.3942857142857143 - 0.9957142857142857\n",
      "epoch:83 | 0.3942857142857143 - 0.9928571428571429\n",
      "epoch:84 | 0.3942857142857143 - 0.9885714285714285\n",
      "epoch:85 | 0.3942857142857143 - 0.9885714285714285\n",
      "epoch:86 | 0.3942857142857143 - 0.9957142857142857\n",
      "epoch:87 | 0.3942857142857143 - 0.9871428571428571\n",
      "epoch:88 | 0.3942857142857143 - 0.9871428571428571\n",
      "epoch:89 | 0.3942857142857143 - 0.9942857142857143\n",
      "epoch:90 | 0.3942857142857143 - 0.9957142857142857\n",
      "epoch:91 | 0.3942857142857143 - 0.9942857142857143\n",
      "epoch:92 | 0.3942857142857143 - 0.9942857142857143\n",
      "epoch:93 | 0.3942857142857143 - 0.9928571428571429\n",
      "epoch:94 | 0.3942857142857143 - 0.9885714285714285\n",
      "epoch:95 | 0.3942857142857143 - 0.9871428571428571\n",
      "epoch:96 | 0.3942857142857143 - 0.9928571428571429\n",
      "epoch:97 | 0.3942857142857143 - 0.9857142857142858\n",
      "epoch:98 | 0.3942857142857143 - 0.9757142857142858\n",
      "epoch:99 | 0.3942857142857143 - 0.9928571428571429\n"
     ]
    }
   ],
   "source": [
    "train_acc_list, bn_train_acc_list31 = __train('He')"
   ]
  },
  {
   "cell_type": "code",
   "execution_count": 40,
   "metadata": {},
   "outputs": [
    {
     "data": {
      "text/plain": [
       "Text(0.5,1,'Accuracy\\nNewron = 1000, Layer Num = 6')"
      ]
     },
     "execution_count": 40,
     "metadata": {},
     "output_type": "execute_result"
    },
    {
     "data": {
      "image/png": "[encoded data removed]",
      "text/plain": [
       "<matplotlib.figure.Figure at 0x11088c7f0>"
      ]
     },
     "metadata": {},
     "output_type": "display_data"
    }
   ],
   "source": [
    "# グラフの描画\n",
    "plt.figure(figsize=(14,4)) # figureの縦横の大きさ\n",
    "markers = {'train': 'o', 'test': 's'}\n",
    "x = np.arange(len(bn_train_acc_list31))\n",
    "plt.subplot(1,2,1)\n",
    "plt.plot(x, bn_train_acc_list31, label='6 layer', markevery=2)\n",
    "plt.xlabel('epoch')\n",
    "plt.ylabel(\"accuracy\")\n",
    "plt.ylim(0, 1.0)\n",
    "plt.legend(loc='lower right')\n",
    "plt.title('Accuracy\\nNewron = 1000, Layer Num = 6')"
   ]
  },
  {
   "cell_type": "code",
   "execution_count": null,
   "metadata": {},
   "outputs": [],
   "source": []
  },
  {
   "cell_type": "code",
   "execution_count": null,
   "metadata": {},
   "outputs": [],
   "source": []
  }
 ],
 "metadata": {
  "kernelspec": {
   "display_name": "Python 3",
   "language": "python",
   "name": "python3"
  },
  "language_info": {
   "codemirror_mode": {
    "name": "ipython",
    "version": 3
   },
   "file_extension": ".py",
   "mimetype": "text/x-python",
   "name": "python",
   "nbconvert_exporter": "python",
   "pygments_lexer": "ipython3",
   "version": "3.6.4"
  }
 },
 "nbformat": 4,
 "nbformat_minor": 2
}
