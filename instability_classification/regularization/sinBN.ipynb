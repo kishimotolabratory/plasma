{
 "cells": [
  {
   "cell_type": "code",
   "execution_count": 1,
   "metadata": {},
   "outputs": [],
   "source": [
    "import numpy as np\n",
    "import pandas as pd\n",
    "import matplotlib.pyplot as plt\n",
    "import math\n",
    "from numpy.random import *\n",
    "p = uniform(0,360,(10000,1))"
   ]
  },
  {
   "cell_type": "code",
   "execution_count": 2,
   "metadata": {},
   "outputs": [
    {
     "data": {
      "text/plain": [
       "array([[199.06547987],\n",
       "       [284.69653489],\n",
       "       [316.70655475],\n",
       "       ...,\n",
       "       [217.14768766],\n",
       "       [ 27.65401194],\n",
       "       [271.20989745]])"
      ]
     },
     "execution_count": 2,
     "metadata": {},
     "output_type": "execute_result"
    }
   ],
   "source": [
    "p"
   ]
  },
  {
   "cell_type": "code",
   "execution_count": 3,
   "metadata": {
    "scrolled": true
   },
   "outputs": [
    {
     "data": {
      "text/plain": [
       "(10000, 1)"
      ]
     },
     "execution_count": 3,
     "metadata": {},
     "output_type": "execute_result"
    }
   ],
   "source": [
    "p.shape"
   ]
  },
  {
   "cell_type": "code",
   "execution_count": 4,
   "metadata": {
    "scrolled": true
   },
   "outputs": [],
   "source": [
    "x2 = uniform(-1,1,(10000,1))"
   ]
  },
  {
   "cell_type": "code",
   "execution_count": 5,
   "metadata": {},
   "outputs": [
    {
     "data": {
      "text/plain": [
       "array([[-0.44810416],\n",
       "       [ 0.38193023],\n",
       "       [-0.24372822],\n",
       "       ...,\n",
       "       [ 0.24912584],\n",
       "       [-0.60451572],\n",
       "       [-0.33897497]])"
      ]
     },
     "execution_count": 5,
     "metadata": {},
     "output_type": "execute_result"
    }
   ],
   "source": [
    "x2"
   ]
  },
  {
   "cell_type": "code",
   "execution_count": 6,
   "metadata": {
    "scrolled": true
   },
   "outputs": [],
   "source": [
    "df = pd.DataFrame({\"x1\": p[0:10000,0],\"x2\": x2[0:10000,0]})"
   ]
  },
  {
   "cell_type": "code",
   "execution_count": 7,
   "metadata": {
    "scrolled": false
   },
   "outputs": [
    {
     "data": {
      "text/html": [
       "<div>\n",
       "<style scoped>\n",
       "    .dataframe tbody tr th:only-of-type {\n",
       "        vertical-align: middle;\n",
       "    }\n",
       "\n",
       "    .dataframe tbody tr th {\n",
       "        vertical-align: top;\n",
       "    }\n",
       "\n",
       "    .dataframe thead th {\n",
       "        text-align: right;\n",
       "    }\n",
       "</style>\n",
       "<table border=\"1\" class=\"dataframe\">\n",
       "  <thead>\n",
       "    <tr style=\"text-align: right;\">\n",
       "      <th></th>\n",
       "      <th>x1</th>\n",
       "      <th>x2</th>\n",
       "    </tr>\n",
       "  </thead>\n",
       "  <tbody>\n",
       "    <tr>\n",
       "      <th>9995</th>\n",
       "      <td>16.075481</td>\n",
       "      <td>-0.517947</td>\n",
       "    </tr>\n",
       "    <tr>\n",
       "      <th>9996</th>\n",
       "      <td>174.745759</td>\n",
       "      <td>0.515941</td>\n",
       "    </tr>\n",
       "    <tr>\n",
       "      <th>9997</th>\n",
       "      <td>217.147688</td>\n",
       "      <td>0.249126</td>\n",
       "    </tr>\n",
       "    <tr>\n",
       "      <th>9998</th>\n",
       "      <td>27.654012</td>\n",
       "      <td>-0.604516</td>\n",
       "    </tr>\n",
       "    <tr>\n",
       "      <th>9999</th>\n",
       "      <td>271.209897</td>\n",
       "      <td>-0.338975</td>\n",
       "    </tr>\n",
       "  </tbody>\n",
       "</table>\n",
       "</div>"
      ],
      "text/plain": [
       "              x1        x2\n",
       "9995   16.075481 -0.517947\n",
       "9996  174.745759  0.515941\n",
       "9997  217.147688  0.249126\n",
       "9998   27.654012 -0.604516\n",
       "9999  271.209897 -0.338975"
      ]
     },
     "execution_count": 7,
     "metadata": {},
     "output_type": "execute_result"
    }
   ],
   "source": [
    "df.tail()"
   ]
  },
  {
   "cell_type": "code",
   "execution_count": 8,
   "metadata": {},
   "outputs": [],
   "source": [
    "def calc_rad(num):\n",
    "    return math.radians(num)"
   ]
  },
  {
   "cell_type": "code",
   "execution_count": 9,
   "metadata": {
    "scrolled": true
   },
   "outputs": [],
   "source": [
    "df[\"θ\"] = df['x1'].apply(calc_rad)"
   ]
  },
  {
   "cell_type": "code",
   "execution_count": 10,
   "metadata": {},
   "outputs": [
    {
     "data": {
      "text/html": [
       "<div>\n",
       "<style scoped>\n",
       "    .dataframe tbody tr th:only-of-type {\n",
       "        vertical-align: middle;\n",
       "    }\n",
       "\n",
       "    .dataframe tbody tr th {\n",
       "        vertical-align: top;\n",
       "    }\n",
       "\n",
       "    .dataframe thead th {\n",
       "        text-align: right;\n",
       "    }\n",
       "</style>\n",
       "<table border=\"1\" class=\"dataframe\">\n",
       "  <thead>\n",
       "    <tr style=\"text-align: right;\">\n",
       "      <th></th>\n",
       "      <th>x1</th>\n",
       "      <th>x2</th>\n",
       "      <th>θ</th>\n",
       "    </tr>\n",
       "  </thead>\n",
       "  <tbody>\n",
       "    <tr>\n",
       "      <th>0</th>\n",
       "      <td>199.065480</td>\n",
       "      <td>-0.448104</td>\n",
       "      <td>3.474348</td>\n",
       "    </tr>\n",
       "    <tr>\n",
       "      <th>1</th>\n",
       "      <td>284.696535</td>\n",
       "      <td>0.381930</td>\n",
       "      <td>4.968892</td>\n",
       "    </tr>\n",
       "    <tr>\n",
       "      <th>2</th>\n",
       "      <td>316.706555</td>\n",
       "      <td>-0.243728</td>\n",
       "      <td>5.527572</td>\n",
       "    </tr>\n",
       "    <tr>\n",
       "      <th>3</th>\n",
       "      <td>230.505818</td>\n",
       "      <td>0.140516</td>\n",
       "      <td>4.023085</td>\n",
       "    </tr>\n",
       "    <tr>\n",
       "      <th>4</th>\n",
       "      <td>267.702153</td>\n",
       "      <td>0.346186</td>\n",
       "      <td>4.672284</td>\n",
       "    </tr>\n",
       "    <tr>\n",
       "      <th>5</th>\n",
       "      <td>293.792443</td>\n",
       "      <td>-0.890981</td>\n",
       "      <td>5.127645</td>\n",
       "    </tr>\n",
       "    <tr>\n",
       "      <th>6</th>\n",
       "      <td>270.232108</td>\n",
       "      <td>0.236611</td>\n",
       "      <td>4.716440</td>\n",
       "    </tr>\n",
       "    <tr>\n",
       "      <th>7</th>\n",
       "      <td>168.136061</td>\n",
       "      <td>-0.130840</td>\n",
       "      <td>2.934528</td>\n",
       "    </tr>\n",
       "    <tr>\n",
       "      <th>8</th>\n",
       "      <td>15.099839</td>\n",
       "      <td>0.506912</td>\n",
       "      <td>0.263542</td>\n",
       "    </tr>\n",
       "    <tr>\n",
       "      <th>9</th>\n",
       "      <td>277.639865</td>\n",
       "      <td>0.474393</td>\n",
       "      <td>4.845730</td>\n",
       "    </tr>\n",
       "    <tr>\n",
       "      <th>10</th>\n",
       "      <td>152.242627</td>\n",
       "      <td>0.355706</td>\n",
       "      <td>2.657135</td>\n",
       "    </tr>\n",
       "    <tr>\n",
       "      <th>11</th>\n",
       "      <td>41.641561</td>\n",
       "      <td>0.336849</td>\n",
       "      <td>0.726782</td>\n",
       "    </tr>\n",
       "    <tr>\n",
       "      <th>12</th>\n",
       "      <td>312.768554</td>\n",
       "      <td>0.759481</td>\n",
       "      <td>5.458841</td>\n",
       "    </tr>\n",
       "    <tr>\n",
       "      <th>13</th>\n",
       "      <td>187.777955</td>\n",
       "      <td>0.957399</td>\n",
       "      <td>3.277344</td>\n",
       "    </tr>\n",
       "    <tr>\n",
       "      <th>14</th>\n",
       "      <td>301.185267</td>\n",
       "      <td>0.026714</td>\n",
       "      <td>5.256675</td>\n",
       "    </tr>\n",
       "    <tr>\n",
       "      <th>15</th>\n",
       "      <td>234.218961</td>\n",
       "      <td>-0.847727</td>\n",
       "      <td>4.087892</td>\n",
       "    </tr>\n",
       "    <tr>\n",
       "      <th>16</th>\n",
       "      <td>80.287744</td>\n",
       "      <td>0.287509</td>\n",
       "      <td>1.401285</td>\n",
       "    </tr>\n",
       "    <tr>\n",
       "      <th>17</th>\n",
       "      <td>17.876722</td>\n",
       "      <td>-0.412682</td>\n",
       "      <td>0.312008</td>\n",
       "    </tr>\n",
       "    <tr>\n",
       "      <th>18</th>\n",
       "      <td>219.026262</td>\n",
       "      <td>-0.980780</td>\n",
       "      <td>3.822729</td>\n",
       "    </tr>\n",
       "    <tr>\n",
       "      <th>19</th>\n",
       "      <td>197.811477</td>\n",
       "      <td>-0.442253</td>\n",
       "      <td>3.452462</td>\n",
       "    </tr>\n",
       "    <tr>\n",
       "      <th>20</th>\n",
       "      <td>36.480416</td>\n",
       "      <td>-0.452093</td>\n",
       "      <td>0.636703</td>\n",
       "    </tr>\n",
       "    <tr>\n",
       "      <th>21</th>\n",
       "      <td>251.033258</td>\n",
       "      <td>0.879308</td>\n",
       "      <td>4.381357</td>\n",
       "    </tr>\n",
       "    <tr>\n",
       "      <th>22</th>\n",
       "      <td>166.206624</td>\n",
       "      <td>-0.429586</td>\n",
       "      <td>2.900853</td>\n",
       "    </tr>\n",
       "    <tr>\n",
       "      <th>23</th>\n",
       "      <td>333.203374</td>\n",
       "      <td>0.042746</td>\n",
       "      <td>5.815496</td>\n",
       "    </tr>\n",
       "    <tr>\n",
       "      <th>24</th>\n",
       "      <td>140.574054</td>\n",
       "      <td>-0.371760</td>\n",
       "      <td>2.453480</td>\n",
       "    </tr>\n",
       "    <tr>\n",
       "      <th>25</th>\n",
       "      <td>195.825566</td>\n",
       "      <td>-0.115828</td>\n",
       "      <td>3.417801</td>\n",
       "    </tr>\n",
       "    <tr>\n",
       "      <th>26</th>\n",
       "      <td>156.620552</td>\n",
       "      <td>-0.210564</td>\n",
       "      <td>2.733544</td>\n",
       "    </tr>\n",
       "    <tr>\n",
       "      <th>27</th>\n",
       "      <td>246.379698</td>\n",
       "      <td>0.467364</td>\n",
       "      <td>4.300137</td>\n",
       "    </tr>\n",
       "    <tr>\n",
       "      <th>28</th>\n",
       "      <td>190.432759</td>\n",
       "      <td>0.850161</td>\n",
       "      <td>3.323679</td>\n",
       "    </tr>\n",
       "    <tr>\n",
       "      <th>29</th>\n",
       "      <td>337.131009</td>\n",
       "      <td>0.454959</td>\n",
       "      <td>5.884046</td>\n",
       "    </tr>\n",
       "    <tr>\n",
       "      <th>...</th>\n",
       "      <td>...</td>\n",
       "      <td>...</td>\n",
       "      <td>...</td>\n",
       "    </tr>\n",
       "    <tr>\n",
       "      <th>9970</th>\n",
       "      <td>10.510294</td>\n",
       "      <td>0.360846</td>\n",
       "      <td>0.183439</td>\n",
       "    </tr>\n",
       "    <tr>\n",
       "      <th>9971</th>\n",
       "      <td>86.559714</td>\n",
       "      <td>0.472706</td>\n",
       "      <td>1.510752</td>\n",
       "    </tr>\n",
       "    <tr>\n",
       "      <th>9972</th>\n",
       "      <td>127.502136</td>\n",
       "      <td>0.446700</td>\n",
       "      <td>2.225332</td>\n",
       "    </tr>\n",
       "    <tr>\n",
       "      <th>9973</th>\n",
       "      <td>175.521876</td>\n",
       "      <td>-0.132822</td>\n",
       "      <td>3.063435</td>\n",
       "    </tr>\n",
       "    <tr>\n",
       "      <th>9974</th>\n",
       "      <td>190.734149</td>\n",
       "      <td>-0.060020</td>\n",
       "      <td>3.328939</td>\n",
       "    </tr>\n",
       "    <tr>\n",
       "      <th>9975</th>\n",
       "      <td>217.427144</td>\n",
       "      <td>0.251023</td>\n",
       "      <td>3.794820</td>\n",
       "    </tr>\n",
       "    <tr>\n",
       "      <th>9976</th>\n",
       "      <td>13.062081</td>\n",
       "      <td>0.410524</td>\n",
       "      <td>0.227976</td>\n",
       "    </tr>\n",
       "    <tr>\n",
       "      <th>9977</th>\n",
       "      <td>199.839178</td>\n",
       "      <td>-0.139155</td>\n",
       "      <td>3.487852</td>\n",
       "    </tr>\n",
       "    <tr>\n",
       "      <th>9978</th>\n",
       "      <td>25.804951</td>\n",
       "      <td>0.045679</td>\n",
       "      <td>0.450381</td>\n",
       "    </tr>\n",
       "    <tr>\n",
       "      <th>9979</th>\n",
       "      <td>127.669775</td>\n",
       "      <td>0.769039</td>\n",
       "      <td>2.228258</td>\n",
       "    </tr>\n",
       "    <tr>\n",
       "      <th>9980</th>\n",
       "      <td>174.458473</td>\n",
       "      <td>-0.433119</td>\n",
       "      <td>3.044875</td>\n",
       "    </tr>\n",
       "    <tr>\n",
       "      <th>9981</th>\n",
       "      <td>97.719121</td>\n",
       "      <td>-0.769691</td>\n",
       "      <td>1.705520</td>\n",
       "    </tr>\n",
       "    <tr>\n",
       "      <th>9982</th>\n",
       "      <td>311.026442</td>\n",
       "      <td>0.494539</td>\n",
       "      <td>5.428435</td>\n",
       "    </tr>\n",
       "    <tr>\n",
       "      <th>9983</th>\n",
       "      <td>21.023860</td>\n",
       "      <td>-0.385077</td>\n",
       "      <td>0.366936</td>\n",
       "    </tr>\n",
       "    <tr>\n",
       "      <th>9984</th>\n",
       "      <td>30.414454</td>\n",
       "      <td>-0.608581</td>\n",
       "      <td>0.530832</td>\n",
       "    </tr>\n",
       "    <tr>\n",
       "      <th>9985</th>\n",
       "      <td>100.535456</td>\n",
       "      <td>-0.572493</td>\n",
       "      <td>1.754675</td>\n",
       "    </tr>\n",
       "    <tr>\n",
       "      <th>9986</th>\n",
       "      <td>202.932590</td>\n",
       "      <td>-0.240776</td>\n",
       "      <td>3.541842</td>\n",
       "    </tr>\n",
       "    <tr>\n",
       "      <th>9987</th>\n",
       "      <td>350.248185</td>\n",
       "      <td>-0.509993</td>\n",
       "      <td>6.112984</td>\n",
       "    </tr>\n",
       "    <tr>\n",
       "      <th>9988</th>\n",
       "      <td>344.143678</td>\n",
       "      <td>-0.286228</td>\n",
       "      <td>6.006440</td>\n",
       "    </tr>\n",
       "    <tr>\n",
       "      <th>9989</th>\n",
       "      <td>83.484404</td>\n",
       "      <td>0.603773</td>\n",
       "      <td>1.457078</td>\n",
       "    </tr>\n",
       "    <tr>\n",
       "      <th>9990</th>\n",
       "      <td>164.321826</td>\n",
       "      <td>-0.309434</td>\n",
       "      <td>2.867957</td>\n",
       "    </tr>\n",
       "    <tr>\n",
       "      <th>9991</th>\n",
       "      <td>76.540554</td>\n",
       "      <td>-0.490142</td>\n",
       "      <td>1.335885</td>\n",
       "    </tr>\n",
       "    <tr>\n",
       "      <th>9992</th>\n",
       "      <td>135.200968</td>\n",
       "      <td>0.007914</td>\n",
       "      <td>2.359702</td>\n",
       "    </tr>\n",
       "    <tr>\n",
       "      <th>9993</th>\n",
       "      <td>335.779701</td>\n",
       "      <td>-0.410118</td>\n",
       "      <td>5.860461</td>\n",
       "    </tr>\n",
       "    <tr>\n",
       "      <th>9994</th>\n",
       "      <td>256.600703</td>\n",
       "      <td>-0.869365</td>\n",
       "      <td>4.478527</td>\n",
       "    </tr>\n",
       "    <tr>\n",
       "      <th>9995</th>\n",
       "      <td>16.075481</td>\n",
       "      <td>-0.517947</td>\n",
       "      <td>0.280570</td>\n",
       "    </tr>\n",
       "    <tr>\n",
       "      <th>9996</th>\n",
       "      <td>174.745759</td>\n",
       "      <td>0.515941</td>\n",
       "      <td>3.049889</td>\n",
       "    </tr>\n",
       "    <tr>\n",
       "      <th>9997</th>\n",
       "      <td>217.147688</td>\n",
       "      <td>0.249126</td>\n",
       "      <td>3.789942</td>\n",
       "    </tr>\n",
       "    <tr>\n",
       "      <th>9998</th>\n",
       "      <td>27.654012</td>\n",
       "      <td>-0.604516</td>\n",
       "      <td>0.482654</td>\n",
       "    </tr>\n",
       "    <tr>\n",
       "      <th>9999</th>\n",
       "      <td>271.209897</td>\n",
       "      <td>-0.338975</td>\n",
       "      <td>4.733506</td>\n",
       "    </tr>\n",
       "  </tbody>\n",
       "</table>\n",
       "<p>10000 rows × 3 columns</p>\n",
       "</div>"
      ],
      "text/plain": [
       "              x1        x2         θ\n",
       "0     199.065480 -0.448104  3.474348\n",
       "1     284.696535  0.381930  4.968892\n",
       "2     316.706555 -0.243728  5.527572\n",
       "3     230.505818  0.140516  4.023085\n",
       "4     267.702153  0.346186  4.672284\n",
       "5     293.792443 -0.890981  5.127645\n",
       "6     270.232108  0.236611  4.716440\n",
       "7     168.136061 -0.130840  2.934528\n",
       "8      15.099839  0.506912  0.263542\n",
       "9     277.639865  0.474393  4.845730\n",
       "10    152.242627  0.355706  2.657135\n",
       "11     41.641561  0.336849  0.726782\n",
       "12    312.768554  0.759481  5.458841\n",
       "13    187.777955  0.957399  3.277344\n",
       "14    301.185267  0.026714  5.256675\n",
       "15    234.218961 -0.847727  4.087892\n",
       "16     80.287744  0.287509  1.401285\n",
       "17     17.876722 -0.412682  0.312008\n",
       "18    219.026262 -0.980780  3.822729\n",
       "19    197.811477 -0.442253  3.452462\n",
       "20     36.480416 -0.452093  0.636703\n",
       "21    251.033258  0.879308  4.381357\n",
       "22    166.206624 -0.429586  2.900853\n",
       "23    333.203374  0.042746  5.815496\n",
       "24    140.574054 -0.371760  2.453480\n",
       "25    195.825566 -0.115828  3.417801\n",
       "26    156.620552 -0.210564  2.733544\n",
       "27    246.379698  0.467364  4.300137\n",
       "28    190.432759  0.850161  3.323679\n",
       "29    337.131009  0.454959  5.884046\n",
       "...          ...       ...       ...\n",
       "9970   10.510294  0.360846  0.183439\n",
       "9971   86.559714  0.472706  1.510752\n",
       "9972  127.502136  0.446700  2.225332\n",
       "9973  175.521876 -0.132822  3.063435\n",
       "9974  190.734149 -0.060020  3.328939\n",
       "9975  217.427144  0.251023  3.794820\n",
       "9976   13.062081  0.410524  0.227976\n",
       "9977  199.839178 -0.139155  3.487852\n",
       "9978   25.804951  0.045679  0.450381\n",
       "9979  127.669775  0.769039  2.228258\n",
       "9980  174.458473 -0.433119  3.044875\n",
       "9981   97.719121 -0.769691  1.705520\n",
       "9982  311.026442  0.494539  5.428435\n",
       "9983   21.023860 -0.385077  0.366936\n",
       "9984   30.414454 -0.608581  0.530832\n",
       "9985  100.535456 -0.572493  1.754675\n",
       "9986  202.932590 -0.240776  3.541842\n",
       "9987  350.248185 -0.509993  6.112984\n",
       "9988  344.143678 -0.286228  6.006440\n",
       "9989   83.484404  0.603773  1.457078\n",
       "9990  164.321826 -0.309434  2.867957\n",
       "9991   76.540554 -0.490142  1.335885\n",
       "9992  135.200968  0.007914  2.359702\n",
       "9993  335.779701 -0.410118  5.860461\n",
       "9994  256.600703 -0.869365  4.478527\n",
       "9995   16.075481 -0.517947  0.280570\n",
       "9996  174.745759  0.515941  3.049889\n",
       "9997  217.147688  0.249126  3.789942\n",
       "9998   27.654012 -0.604516  0.482654\n",
       "9999  271.209897 -0.338975  4.733506\n",
       "\n",
       "[10000 rows x 3 columns]"
      ]
     },
     "execution_count": 10,
     "metadata": {},
     "output_type": "execute_result"
    }
   ],
   "source": [
    "df"
   ]
  },
  {
   "cell_type": "code",
   "execution_count": 11,
   "metadata": {},
   "outputs": [],
   "source": [
    "def calc_sin(num):\n",
    "    return math.sin(num)"
   ]
  },
  {
   "cell_type": "code",
   "execution_count": 12,
   "metadata": {},
   "outputs": [],
   "source": [
    "df[\"x3\"] = df['θ'].apply(calc_sin)"
   ]
  },
  {
   "cell_type": "code",
   "execution_count": 13,
   "metadata": {},
   "outputs": [
    {
     "data": {
      "text/html": [
       "<div>\n",
       "<style scoped>\n",
       "    .dataframe tbody tr th:only-of-type {\n",
       "        vertical-align: middle;\n",
       "    }\n",
       "\n",
       "    .dataframe tbody tr th {\n",
       "        vertical-align: top;\n",
       "    }\n",
       "\n",
       "    .dataframe thead th {\n",
       "        text-align: right;\n",
       "    }\n",
       "</style>\n",
       "<table border=\"1\" class=\"dataframe\">\n",
       "  <thead>\n",
       "    <tr style=\"text-align: right;\">\n",
       "      <th></th>\n",
       "      <th>x1</th>\n",
       "      <th>x2</th>\n",
       "      <th>θ</th>\n",
       "      <th>x3</th>\n",
       "    </tr>\n",
       "  </thead>\n",
       "  <tbody>\n",
       "    <tr>\n",
       "      <th>9995</th>\n",
       "      <td>16.075481</td>\n",
       "      <td>-0.517947</td>\n",
       "      <td>0.280570</td>\n",
       "      <td>0.276903</td>\n",
       "    </tr>\n",
       "    <tr>\n",
       "      <th>9996</th>\n",
       "      <td>174.745759</td>\n",
       "      <td>0.515941</td>\n",
       "      <td>3.049889</td>\n",
       "      <td>0.091575</td>\n",
       "    </tr>\n",
       "    <tr>\n",
       "      <th>9997</th>\n",
       "      <td>217.147688</td>\n",
       "      <td>0.249126</td>\n",
       "      <td>3.789942</td>\n",
       "      <td>-0.603872</td>\n",
       "    </tr>\n",
       "    <tr>\n",
       "      <th>9998</th>\n",
       "      <td>27.654012</td>\n",
       "      <td>-0.604516</td>\n",
       "      <td>0.482654</td>\n",
       "      <td>0.464131</td>\n",
       "    </tr>\n",
       "    <tr>\n",
       "      <th>9999</th>\n",
       "      <td>271.209897</td>\n",
       "      <td>-0.338975</td>\n",
       "      <td>4.733506</td>\n",
       "      <td>-0.999777</td>\n",
       "    </tr>\n",
       "  </tbody>\n",
       "</table>\n",
       "</div>"
      ],
      "text/plain": [
       "              x1        x2         θ        x3\n",
       "9995   16.075481 -0.517947  0.280570  0.276903\n",
       "9996  174.745759  0.515941  3.049889  0.091575\n",
       "9997  217.147688  0.249126  3.789942 -0.603872\n",
       "9998   27.654012 -0.604516  0.482654  0.464131\n",
       "9999  271.209897 -0.338975  4.733506 -0.999777"
      ]
     },
     "execution_count": 13,
     "metadata": {},
     "output_type": "execute_result"
    }
   ],
   "source": [
    "df.tail()"
   ]
  },
  {
   "cell_type": "code",
   "execution_count": 14,
   "metadata": {},
   "outputs": [],
   "source": [
    "t1= np.where(df[\"x3\"] >= df[\"x2\"],0,1)\n",
    "t2= np.where(df[\"x3\"] >= df[\"x2\"],1,0)"
   ]
  },
  {
   "cell_type": "code",
   "execution_count": 15,
   "metadata": {},
   "outputs": [],
   "source": [
    "df[\"off\"] = t1\n",
    "df[\"on\"] = t2"
   ]
  },
  {
   "cell_type": "code",
   "execution_count": 16,
   "metadata": {
    "scrolled": false
   },
   "outputs": [
    {
     "data": {
      "text/html": [
       "<div>\n",
       "<style scoped>\n",
       "    .dataframe tbody tr th:only-of-type {\n",
       "        vertical-align: middle;\n",
       "    }\n",
       "\n",
       "    .dataframe tbody tr th {\n",
       "        vertical-align: top;\n",
       "    }\n",
       "\n",
       "    .dataframe thead th {\n",
       "        text-align: right;\n",
       "    }\n",
       "</style>\n",
       "<table border=\"1\" class=\"dataframe\">\n",
       "  <thead>\n",
       "    <tr style=\"text-align: right;\">\n",
       "      <th></th>\n",
       "      <th>x1</th>\n",
       "      <th>x2</th>\n",
       "      <th>θ</th>\n",
       "      <th>x3</th>\n",
       "      <th>off</th>\n",
       "      <th>on</th>\n",
       "    </tr>\n",
       "  </thead>\n",
       "  <tbody>\n",
       "    <tr>\n",
       "      <th>0</th>\n",
       "      <td>199.065480</td>\n",
       "      <td>-0.448104</td>\n",
       "      <td>3.474348</td>\n",
       "      <td>-0.326649</td>\n",
       "      <td>0</td>\n",
       "      <td>1</td>\n",
       "    </tr>\n",
       "    <tr>\n",
       "      <th>1</th>\n",
       "      <td>284.696535</td>\n",
       "      <td>0.381930</td>\n",
       "      <td>4.968892</td>\n",
       "      <td>-0.967283</td>\n",
       "      <td>1</td>\n",
       "      <td>0</td>\n",
       "    </tr>\n",
       "    <tr>\n",
       "      <th>2</th>\n",
       "      <td>316.706555</td>\n",
       "      <td>-0.243728</td>\n",
       "      <td>5.527572</td>\n",
       "      <td>-0.685735</td>\n",
       "      <td>1</td>\n",
       "      <td>0</td>\n",
       "    </tr>\n",
       "    <tr>\n",
       "      <th>3</th>\n",
       "      <td>230.505818</td>\n",
       "      <td>0.140516</td>\n",
       "      <td>4.023085</td>\n",
       "      <td>-0.771689</td>\n",
       "      <td>1</td>\n",
       "      <td>0</td>\n",
       "    </tr>\n",
       "    <tr>\n",
       "      <th>4</th>\n",
       "      <td>267.702153</td>\n",
       "      <td>0.346186</td>\n",
       "      <td>4.672284</td>\n",
       "      <td>-0.999196</td>\n",
       "      <td>1</td>\n",
       "      <td>0</td>\n",
       "    </tr>\n",
       "  </tbody>\n",
       "</table>\n",
       "</div>"
      ],
      "text/plain": [
       "           x1        x2         θ        x3  off  on\n",
       "0  199.065480 -0.448104  3.474348 -0.326649    0   1\n",
       "1  284.696535  0.381930  4.968892 -0.967283    1   0\n",
       "2  316.706555 -0.243728  5.527572 -0.685735    1   0\n",
       "3  230.505818  0.140516  4.023085 -0.771689    1   0\n",
       "4  267.702153  0.346186  4.672284 -0.999196    1   0"
      ]
     },
     "execution_count": 16,
     "metadata": {},
     "output_type": "execute_result"
    }
   ],
   "source": [
    "df.head()"
   ]
  },
  {
   "cell_type": "code",
   "execution_count": 17,
   "metadata": {},
   "outputs": [],
   "source": [
    "df1 = df[df.on==1]"
   ]
  },
  {
   "cell_type": "code",
   "execution_count": 18,
   "metadata": {},
   "outputs": [],
   "source": [
    "df2 = df[df.on==0]"
   ]
  },
  {
   "cell_type": "code",
   "execution_count": 19,
   "metadata": {
    "scrolled": true
   },
   "outputs": [
    {
     "data": {
      "text/html": [
       "<div>\n",
       "<style scoped>\n",
       "    .dataframe tbody tr th:only-of-type {\n",
       "        vertical-align: middle;\n",
       "    }\n",
       "\n",
       "    .dataframe tbody tr th {\n",
       "        vertical-align: top;\n",
       "    }\n",
       "\n",
       "    .dataframe thead th {\n",
       "        text-align: right;\n",
       "    }\n",
       "</style>\n",
       "<table border=\"1\" class=\"dataframe\">\n",
       "  <thead>\n",
       "    <tr style=\"text-align: right;\">\n",
       "      <th></th>\n",
       "      <th>x1</th>\n",
       "      <th>x2</th>\n",
       "      <th>θ</th>\n",
       "      <th>x3</th>\n",
       "      <th>off</th>\n",
       "      <th>on</th>\n",
       "    </tr>\n",
       "  </thead>\n",
       "  <tbody>\n",
       "    <tr>\n",
       "      <th>1</th>\n",
       "      <td>284.696535</td>\n",
       "      <td>0.381930</td>\n",
       "      <td>4.968892</td>\n",
       "      <td>-0.967283</td>\n",
       "      <td>1</td>\n",
       "      <td>0</td>\n",
       "    </tr>\n",
       "    <tr>\n",
       "      <th>2</th>\n",
       "      <td>316.706555</td>\n",
       "      <td>-0.243728</td>\n",
       "      <td>5.527572</td>\n",
       "      <td>-0.685735</td>\n",
       "      <td>1</td>\n",
       "      <td>0</td>\n",
       "    </tr>\n",
       "    <tr>\n",
       "      <th>3</th>\n",
       "      <td>230.505818</td>\n",
       "      <td>0.140516</td>\n",
       "      <td>4.023085</td>\n",
       "      <td>-0.771689</td>\n",
       "      <td>1</td>\n",
       "      <td>0</td>\n",
       "    </tr>\n",
       "    <tr>\n",
       "      <th>4</th>\n",
       "      <td>267.702153</td>\n",
       "      <td>0.346186</td>\n",
       "      <td>4.672284</td>\n",
       "      <td>-0.999196</td>\n",
       "      <td>1</td>\n",
       "      <td>0</td>\n",
       "    </tr>\n",
       "    <tr>\n",
       "      <th>5</th>\n",
       "      <td>293.792443</td>\n",
       "      <td>-0.890981</td>\n",
       "      <td>5.127645</td>\n",
       "      <td>-0.915013</td>\n",
       "      <td>1</td>\n",
       "      <td>0</td>\n",
       "    </tr>\n",
       "  </tbody>\n",
       "</table>\n",
       "</div>"
      ],
      "text/plain": [
       "           x1        x2         θ        x3  off  on\n",
       "1  284.696535  0.381930  4.968892 -0.967283    1   0\n",
       "2  316.706555 -0.243728  5.527572 -0.685735    1   0\n",
       "3  230.505818  0.140516  4.023085 -0.771689    1   0\n",
       "4  267.702153  0.346186  4.672284 -0.999196    1   0\n",
       "5  293.792443 -0.890981  5.127645 -0.915013    1   0"
      ]
     },
     "execution_count": 19,
     "metadata": {},
     "output_type": "execute_result"
    }
   ],
   "source": [
    "df2.head()"
   ]
  },
  {
   "cell_type": "code",
   "execution_count": 20,
   "metadata": {
    "scrolled": false
   },
   "outputs": [
    {
     "data": {
      "image/png": "[encoded data removed]",
      "text/plain": [
       "<matplotlib.figure.Figure at 0x10c7ad1d0>"
      ]
     },
     "metadata": {},
     "output_type": "display_data"
    }
   ],
   "source": [
    "plt.scatter(df1[\"x1\"], df1[\"x2\"],\n",
    "            color='red', marker='x', label='off', s= 12)\n",
    "plt.scatter(df2[\"x1\"], df2[\"x2\"],\n",
    "            color='blue', marker='o', label='on', s = 12)\n",
    "plt.legend(loc='upper left')\n",
    "plt.savefig('non-liner dataset')\n",
    "plt.show()"
   ]
  },
  {
   "cell_type": "code",
   "execution_count": 21,
   "metadata": {},
   "outputs": [],
   "source": [
    "t = np.array([t1,t2])"
   ]
  },
  {
   "cell_type": "code",
   "execution_count": 22,
   "metadata": {},
   "outputs": [
    {
     "data": {
      "text/plain": [
       "array([[0, 1],\n",
       "       [0, 1],\n",
       "       [0, 1],\n",
       "       ...,\n",
       "       [0, 1],\n",
       "       [1, 0],\n",
       "       [0, 1]])"
      ]
     },
     "execution_count": 22,
     "metadata": {},
     "output_type": "execute_result"
    }
   ],
   "source": [
    "t.T"
   ]
  },
  {
   "cell_type": "code",
   "execution_count": 23,
   "metadata": {
    "scrolled": false
   },
   "outputs": [
    {
     "data": {
      "text/plain": [
       "(2, 10000)"
      ]
     },
     "execution_count": 23,
     "metadata": {},
     "output_type": "execute_result"
    }
   ],
   "source": [
    "t[:7000].shape"
   ]
  },
  {
   "cell_type": "code",
   "execution_count": 24,
   "metadata": {
    "scrolled": true
   },
   "outputs": [
    {
     "name": "stdout",
     "output_type": "stream",
     "text": [
      "[[0 1]\n",
      " [0 1]\n",
      " [0 1]\n",
      " ...\n",
      " [1 0]\n",
      " [1 0]\n",
      " [0 1]]\n"
     ]
    }
   ],
   "source": [
    "t_train = t.T[:7000,:]\n",
    "print(t_train)"
   ]
  },
  {
   "cell_type": "code",
   "execution_count": 25,
   "metadata": {},
   "outputs": [
    {
     "name": "stdout",
     "output_type": "stream",
     "text": [
      "[[0 1]\n",
      " [1 0]\n",
      " [1 0]\n",
      " ...\n",
      " [0 1]\n",
      " [1 0]\n",
      " [0 1]]\n"
     ]
    }
   ],
   "source": [
    "t_test = t.T[7001:,:]\n",
    "print(t_test)"
   ]
  },
  {
   "cell_type": "code",
   "execution_count": 26,
   "metadata": {
    "scrolled": false
   },
   "outputs": [
    {
     "data": {
      "text/plain": [
       "(7000, 2)"
      ]
     },
     "execution_count": 26,
     "metadata": {},
     "output_type": "execute_result"
    }
   ],
   "source": [
    "t_train.shape"
   ]
  },
  {
   "cell_type": "code",
   "execution_count": 27,
   "metadata": {},
   "outputs": [
    {
     "data": {
      "text/plain": [
       "(2999, 2)"
      ]
     },
     "execution_count": 27,
     "metadata": {},
     "output_type": "execute_result"
    }
   ],
   "source": [
    "t_test.shape"
   ]
  },
  {
   "cell_type": "code",
   "execution_count": 28,
   "metadata": {},
   "outputs": [],
   "source": [
    "X = np.vstack((df['x2'],df['θ']))"
   ]
  },
  {
   "cell_type": "code",
   "execution_count": 29,
   "metadata": {},
   "outputs": [
    {
     "data": {
      "text/plain": [
       "array([[ 0.42539949, -0.61141907,  0.02529044, ..., -0.78404198,\n",
       "         0.58380507, -0.72763911],\n",
       "       [ 2.26650523,  2.40193502,  0.86250022, ...,  0.27012591,\n",
       "         0.40720098,  0.6037299 ]])"
      ]
     },
     "execution_count": 29,
     "metadata": {},
     "output_type": "execute_result"
    }
   ],
   "source": [
    "X"
   ]
  },
  {
   "cell_type": "code",
   "execution_count": 30,
   "metadata": {},
   "outputs": [],
   "source": [
    "(x_train, x_test) = (X.T[:7000],X.T[7001:])"
   ]
  },
  {
   "cell_type": "code",
   "execution_count": 31,
   "metadata": {
    "scrolled": true
   },
   "outputs": [
    {
     "data": {
      "text/plain": [
       "(7000, 2)"
      ]
     },
     "execution_count": 31,
     "metadata": {},
     "output_type": "execute_result"
    }
   ],
   "source": [
    "x_train.shape"
   ]
  },
  {
   "cell_type": "code",
   "execution_count": 32,
   "metadata": {
    "scrolled": true
   },
   "outputs": [
    {
     "data": {
      "text/plain": [
       "(2999, 2)"
      ]
     },
     "execution_count": 32,
     "metadata": {},
     "output_type": "execute_result"
    }
   ],
   "source": [
    "x_test.shape"
   ]
  },
  {
   "cell_type": "code",
   "execution_count": 33,
   "metadata": {},
   "outputs": [],
   "source": [
    "train_size = x_train.shape[0]"
   ]
  },
  {
   "cell_type": "code",
   "execution_count": 34,
   "metadata": {},
   "outputs": [
    {
     "data": {
      "text/plain": [
       "7000"
      ]
     },
     "execution_count": 34,
     "metadata": {},
     "output_type": "execute_result"
    }
   ],
   "source": [
    "train_size"
   ]
  },
  {
   "cell_type": "code",
   "execution_count": 35,
   "metadata": {},
   "outputs": [],
   "source": [
    "# coding: utf-8\n",
    "import sys, os\n",
    "sys.path.append(os.pardir)  # 親ディレクトリのファイルをインポートするための設定\n",
    "import numpy as np\n",
    "import matplotlib.pyplot as plt\n",
    "from common.multi_layer_net_extend import MultiLayerNetExtend\n",
    "from common.optimizer import SGD, Adam\n",
    "\n",
    "max_epochs = 100\n",
    "train_size = x_train.shape[0]\n",
    "batch_size = 10\n",
    "learning_rate = 0.001\n",
    "iter_nums = 30000\n",
    "\n",
    "def __train(weight_init_std):\n",
    "    bn_network = MultiLayerNetExtend(input_size=2, hidden_size_list=[100, 100, 100], output_size=2,\n",
    "                                     weight_init_std=weight_init_std, use_batchnorm=True)\n",
    "    network = MultiLayerNetExtend(input_size=2, hidden_size_list=[100, 100, 100], output_size=2,\n",
    "                                weight_init_std=weight_init_std)\n",
    "    optimizer = SGD(lr=learning_rate)\n",
    "    \n",
    "    train_acc_list = []\n",
    "    bn_train_acc_list = []\n",
    "    \n",
    "    iter_per_epoch = max(train_size / batch_size, 1)\n",
    "    epoch_cnt = 0\n",
    "    \n",
    "    for i in range(iter_nums):\n",
    "        batch_mask = np.random.choice(train_size, batch_size)\n",
    "        x_batch = x_train[batch_mask]\n",
    "        t_batch = t_train[batch_mask]\n",
    "    \n",
    "        for _network in (bn_network, network):\n",
    "            grads = _network.gradient(x_batch, t_batch)\n",
    "            optimizer.update(_network.params, grads)\n",
    "    \n",
    "        if i % iter_per_epoch == 0:\n",
    "            train_acc = network.accuracy(x_train, t_train)\n",
    "            bn_train_acc = bn_network.accuracy(x_train, t_train)\n",
    "            train_acc_list.append(train_acc)\n",
    "            bn_train_acc_list.append(bn_train_acc)\n",
    "    \n",
    "            print(\"epoch:\" + str(epoch_cnt) + \" | \" + str(train_acc) + \" - \" + str(bn_train_acc))\n",
    "    \n",
    "            epoch_cnt += 1\n",
    "            if epoch_cnt >= max_epochs:\n",
    "                break\n",
    "                \n",
    "    return train_acc_list, bn_train_acc_list"
   ]
  },
  {
   "cell_type": "code",
   "execution_count": 36,
   "metadata": {
    "collapsed": true
   },
   "outputs": [
    {
     "name": "stdout",
     "output_type": "stream",
     "text": [
      "epoch:0 | 0.5151428571428571 - 0.5108571428571429\n",
      "epoch:1 | 0.6091428571428571 - 0.924\n",
      "epoch:2 | 0.691 - 0.9581428571428572\n",
      "epoch:3 | 0.7617142857142857 - 0.9422857142857143\n",
      "epoch:4 | 0.8108571428571428 - 0.9477142857142857\n",
      "epoch:5 | 0.827 - 0.9311428571428572\n",
      "epoch:6 | 0.8264285714285714 - 0.9297142857142857\n",
      "epoch:7 | 0.8267142857142857 - 0.9527142857142857\n",
      "epoch:8 | 0.824 - 0.9492857142857143\n",
      "epoch:9 | 0.827 - 0.9508571428571428\n",
      "epoch:10 | 0.8258571428571428 - 0.9257142857142857\n",
      "epoch:11 | 0.8281428571428572 - 0.9444285714285714\n",
      "epoch:12 | 0.8225714285714286 - 0.9572857142857143\n",
      "epoch:13 | 0.8248571428571428 - 0.9284285714285714\n",
      "epoch:14 | 0.8295714285714286 - 0.9378571428571428\n",
      "epoch:15 | 0.8292857142857143 - 0.9512857142857143\n",
      "epoch:16 | 0.8314285714285714 - 0.9517142857142857\n",
      "epoch:17 | 0.8398571428571429 - 0.9567142857142857\n",
      "epoch:18 | 0.835 - 0.957\n",
      "epoch:19 | 0.8351428571428572 - 0.9171428571428571\n",
      "epoch:20 | 0.8387142857142857 - 0.9518571428571428\n",
      "epoch:21 | 0.8377142857142857 - 0.9702857142857143\n",
      "epoch:22 | 0.84 - 0.9591428571428572\n",
      "epoch:23 | 0.84 - 0.9365714285714286\n",
      "epoch:24 | 0.8351428571428572 - 0.9667142857142857\n",
      "epoch:25 | 0.837 - 0.9478571428571428\n",
      "epoch:26 | 0.8348571428571429 - 0.9698571428571429\n",
      "epoch:27 | 0.8462857142857143 - 0.952\n",
      "epoch:28 | 0.8494285714285714 - 0.9495714285714286\n",
      "epoch:29 | 0.8497142857142858 - 0.9015714285714286\n",
      "epoch:30 | 0.8474285714285714 - 0.9385714285714286\n",
      "epoch:31 | 0.8575714285714285 - 0.9465714285714286\n",
      "epoch:32 | 0.8515714285714285 - 0.9288571428571428\n",
      "epoch:33 | 0.8702857142857143 - 0.9602857142857143\n",
      "epoch:34 | 0.8615714285714285 - 0.9412857142857143\n",
      "epoch:35 | 0.8755714285714286 - 0.9621428571428572\n",
      "epoch:36 | 0.8661428571428571 - 0.954\n",
      "epoch:37 | 0.8704285714285714 - 0.9605714285714285\n",
      "epoch:38 | 0.8861428571428571 - 0.9694285714285714\n",
      "epoch:39 | 0.8817142857142857 - 0.9662857142857143\n",
      "epoch:40 | 0.8828571428571429 - 0.965\n",
      "epoch:41 | 0.8747142857142857 - 0.95\n",
      "epoch:42 | 0.8778571428571429 - 0.9455714285714286\n"
     ]
    }
   ],
   "source": [
    "train_acc_list10, bn_train_acc_list10 = __train(0.1)"
   ]
  },
  {
   "cell_type": "code",
   "execution_count": 37,
   "metadata": {
    "collapsed": true
   },
   "outputs": [
    {
     "name": "stdout",
     "output_type": "stream",
     "text": [
      "epoch:0 | 0.512 - 0.5265714285714286\n",
      "epoch:1 | 0.512 - 0.931\n",
      "epoch:2 | 0.512 - 0.921\n",
      "epoch:3 | 0.512 - 0.8735714285714286\n",
      "epoch:4 | 0.512 - 0.9507142857142857\n",
      "epoch:5 | 0.512 - 0.9462857142857143\n",
      "epoch:6 | 0.512 - 0.9548571428571428\n",
      "epoch:7 | 0.512 - 0.9395714285714286\n",
      "epoch:8 | 0.512 - 0.8814285714285715\n",
      "epoch:9 | 0.512 - 0.9208571428571428\n",
      "epoch:10 | 0.512 - 0.9478571428571428\n",
      "epoch:11 | 0.512 - 0.9455714285714286\n",
      "epoch:12 | 0.512 - 0.8565714285714285\n",
      "epoch:13 | 0.512 - 0.9618571428571429\n",
      "epoch:14 | 0.512 - 0.931\n",
      "epoch:15 | 0.512 - 0.9608571428571429\n",
      "epoch:16 | 0.512 - 0.9614285714285714\n",
      "epoch:17 | 0.512 - 0.9435714285714286\n",
      "epoch:18 | 0.512 - 0.9524285714285714\n",
      "epoch:19 | 0.512 - 0.9228571428571428\n",
      "epoch:20 | 0.512 - 0.9114285714285715\n",
      "epoch:21 | 0.512 - 0.9611428571428572\n",
      "epoch:22 | 0.512 - 0.954\n",
      "epoch:23 | 0.512 - 0.9487142857142857\n",
      "epoch:24 | 0.512 - 0.9314285714285714\n",
      "epoch:25 | 0.512 - 0.9588571428571429\n",
      "epoch:26 | 0.512 - 0.9532857142857143\n",
      "epoch:27 | 0.512 - 0.933\n",
      "epoch:28 | 0.512 - 0.936\n",
      "epoch:29 | 0.512 - 0.9465714285714286\n",
      "epoch:30 | 0.512 - 0.9425714285714286\n",
      "epoch:31 | 0.512 - 0.9354285714285714\n",
      "epoch:32 | 0.512 - 0.9602857142857143\n",
      "epoch:33 | 0.512 - 0.9754285714285714\n",
      "epoch:34 | 0.512 - 0.9585714285714285\n",
      "epoch:35 | 0.512 - 0.9411428571428572\n",
      "epoch:36 | 0.512 - 0.915\n",
      "epoch:37 | 0.512 - 0.945\n",
      "epoch:38 | 0.512 - 0.9508571428571428\n",
      "epoch:39 | 0.512 - 0.9555714285714285\n",
      "epoch:40 | 0.512 - 0.9458571428571428\n",
      "epoch:41 | 0.512 - 0.9488571428571428\n",
      "epoch:42 | 0.512 - 0.9611428571428572\n"
     ]
    }
   ],
   "source": [
    "train_acc_list11, bn_train_acc_list11 = __train(0.01)"
   ]
  },
  {
   "cell_type": "code",
   "execution_count": 38,
   "metadata": {
    "collapsed": true
   },
   "outputs": [
    {
     "name": "stdout",
     "output_type": "stream",
     "text": [
      "epoch:0 | 0.488 - 0.4542857142857143\n",
      "epoch:1 | 0.7835714285714286 - 0.9101428571428571\n",
      "epoch:2 | 0.806 - 0.9308571428571428\n",
      "epoch:3 | 0.8302857142857143 - 0.9307142857142857\n",
      "epoch:4 | 0.8354285714285714 - 0.9418571428571428\n",
      "epoch:5 | 0.8534285714285714 - 0.9308571428571428\n",
      "epoch:6 | 0.869 - 0.9461428571428572\n",
      "epoch:7 | 0.7145714285714285 - 0.9301428571428572\n",
      "epoch:8 | 0.8605714285714285 - 0.9068571428571428\n",
      "epoch:9 | 0.8621428571428571 - 0.9125714285714286\n",
      "epoch:10 | 0.869 - 0.9475714285714286\n",
      "epoch:11 | 0.8774285714285714 - 0.9382857142857143\n",
      "epoch:12 | 0.8782857142857143 - 0.9472857142857143\n",
      "epoch:13 | 0.8755714285714286 - 0.9518571428571428\n",
      "epoch:14 | 0.8787142857142857 - 0.9164285714285715\n",
      "epoch:15 | 0.8854285714285715 - 0.9578571428571429\n",
      "epoch:16 | 0.9045714285714286 - 0.9561428571428572\n",
      "epoch:17 | 0.9002857142857142 - 0.9487142857142857\n",
      "epoch:18 | 0.8735714285714286 - 0.9472857142857143\n",
      "epoch:19 | 0.8784285714285714 - 0.9345714285714286\n",
      "epoch:20 | 0.8828571428571429 - 0.939\n",
      "epoch:21 | 0.8771428571428571 - 0.9454285714285714\n",
      "epoch:22 | 0.8602857142857143 - 0.9597142857142857\n",
      "epoch:23 | 0.8941428571428571 - 0.9264285714285714\n",
      "epoch:24 | 0.906 - 0.9518571428571428\n",
      "epoch:25 | 0.8752857142857143 - 0.9155714285714286\n",
      "epoch:26 | 0.8945714285714286 - 0.9458571428571428\n",
      "epoch:27 | 0.9081428571428571 - 0.9238571428571428\n",
      "epoch:28 | 0.8731428571428571 - 0.9452857142857143\n",
      "epoch:29 | 0.899 - 0.9417142857142857\n",
      "epoch:30 | 0.8568571428571429 - 0.9361428571428572\n",
      "epoch:31 | 0.9025714285714286 - 0.9642857142857143\n",
      "epoch:32 | 0.9111428571428571 - 0.9548571428571428\n",
      "epoch:33 | 0.8727142857142857 - 0.9534285714285714\n",
      "epoch:34 | 0.8751428571428571 - 0.9178571428571428\n",
      "epoch:35 | 0.8702857142857143 - 0.9582857142857143\n",
      "epoch:36 | 0.9045714285714286 - 0.942\n",
      "epoch:37 | 0.9061428571428571 - 0.9502857142857143\n",
      "epoch:38 | 0.8975714285714286 - 0.9402857142857143\n",
      "epoch:39 | 0.919 - 0.9321428571428572\n",
      "epoch:40 | 0.9097142857142857 - 0.9468571428571428\n",
      "epoch:41 | 0.9081428571428571 - 0.9434285714285714\n",
      "epoch:42 | 0.9001428571428571 - 0.9481428571428572\n"
     ]
    }
   ],
   "source": [
    "train_acc_list13, bn_train_acc_list13 = __train('He')"
   ]
  },
  {
   "cell_type": "code",
   "execution_count": 39,
   "metadata": {
    "collapsed": true
   },
   "outputs": [
    {
     "name": "stdout",
     "output_type": "stream",
     "text": [
      "epoch:0 | 0.512 - 0.5134285714285715\n",
      "epoch:1 | 0.7134285714285714 - 0.8985714285714286\n",
      "epoch:2 | 0.7302857142857143 - 0.9402857142857143\n",
      "epoch:3 | 0.7461428571428571 - 0.9548571428571428\n",
      "epoch:4 | 0.7637142857142857 - 0.956\n",
      "epoch:5 | 0.7724285714285715 - 0.9488571428571428\n",
      "epoch:6 | 0.7757142857142857 - 0.9485714285714286\n",
      "epoch:7 | 0.8078571428571428 - 0.9477142857142857\n",
      "epoch:8 | 0.8154285714285714 - 0.9542857142857143\n",
      "epoch:9 | 0.8161428571428572 - 0.943\n",
      "epoch:10 | 0.8338571428571429 - 0.9444285714285714\n",
      "epoch:11 | 0.8412857142857143 - 0.9391428571428572\n",
      "epoch:12 | 0.846 - 0.9237142857142857\n",
      "epoch:13 | 0.8514285714285714 - 0.9351428571428572\n",
      "epoch:14 | 0.8535714285714285 - 0.9571428571428572\n",
      "epoch:15 | 0.863 - 0.9534285714285714\n",
      "epoch:16 | 0.8714285714285714 - 0.953\n",
      "epoch:17 | 0.8705714285714286 - 0.9242857142857143\n",
      "epoch:18 | 0.822 - 0.9495714285714286\n",
      "epoch:19 | 0.8701428571428571 - 0.9534285714285714\n",
      "epoch:20 | 0.8572857142857143 - 0.9441428571428572\n",
      "epoch:21 | 0.8812857142857143 - 0.9507142857142857\n",
      "epoch:22 | 0.8704285714285714 - 0.9537142857142857\n",
      "epoch:23 | 0.8841428571428571 - 0.9632857142857143\n",
      "epoch:24 | 0.8771428571428571 - 0.9641428571428572\n",
      "epoch:25 | 0.8857142857142857 - 0.9437142857142857\n",
      "epoch:26 | 0.8845714285714286 - 0.9645714285714285\n",
      "epoch:27 | 0.8858571428571429 - 0.9411428571428572\n",
      "epoch:28 | 0.8561428571428571 - 0.9448571428571428\n",
      "epoch:29 | 0.8951428571428571 - 0.9691428571428572\n",
      "epoch:30 | 0.872 - 0.9411428571428572\n",
      "epoch:31 | 0.8718571428571429 - 0.959\n",
      "epoch:32 | 0.9037142857142857 - 0.961\n",
      "epoch:33 | 0.9015714285714286 - 0.9598571428571429\n",
      "epoch:34 | 0.8865714285714286 - 0.9698571428571429\n",
      "epoch:35 | 0.8811428571428571 - 0.9694285714285714\n",
      "epoch:36 | 0.8914285714285715 - 0.9468571428571428\n",
      "epoch:37 | 0.9051428571428571 - 0.9635714285714285\n",
      "epoch:38 | 0.8881428571428571 - 0.9595714285714285\n",
      "epoch:39 | 0.8905714285714286 - 0.9601428571428572\n",
      "epoch:40 | 0.8878571428571429 - 0.9654285714285714\n",
      "epoch:41 | 0.8922857142857142 - 0.9568571428571429\n",
      "epoch:42 | 0.8891428571428571 - 0.9378571428571428\n"
     ]
    }
   ],
   "source": [
    "train_acc_list12, bn_train_acc_list12 = __train('Xavier')"
   ]
  },
  {
   "cell_type": "code",
   "execution_count": 40,
   "metadata": {},
   "outputs": [
    {
     "data": {
      "text/plain": [
       "Text(0.5,1,'Weight initial')"
      ]
     },
     "execution_count": 40,
     "metadata": {},
     "output_type": "execute_result"
    },
    {
     "data": {
      "image/png": "[encoded data removed]",
      "text/plain": [
       "<matplotlib.figure.Figure at 0x11a124ba8>"
      ]
     },
     "metadata": {},
     "output_type": "display_data"
    }
   ],
   "source": [
    "# グラフの描画\n",
    "plt.figure(figsize=(14,4)) # figureの縦横の大きさ\n",
    "markers = {'train': 'o', 'test': 's'}\n",
    "x = np.arange(len(train_acc_list10))\n",
    "plt.subplot(1,2,1)\n",
    "plt.plot(x, bn_train_acc_list10, label='0.1', markevery=2)\n",
    "plt.plot(x, bn_train_acc_list11, label='0.01', markevery=2)\n",
    "plt.plot(x, bn_train_acc_list12, label='Xavier', markevery=2)\n",
    "plt.plot(x, bn_train_acc_list13, label='He', markevery=2)\n",
    "plt.xlabel('epoch')\n",
    "plt.ylabel(\"accuracy\")\n",
    "plt.ylim(0, 1.0)\n",
    "plt.legend(loc='lower right')\n",
    "plt.title('Weight initial')"
   ]
  },
  {
   "cell_type": "code",
   "execution_count": 41,
   "metadata": {},
   "outputs": [],
   "source": [
    "# coding: utf-8\n",
    "import sys, os\n",
    "sys.path.append(os.pardir)  # 親ディレクトリのファイルをインポートするための設定\n",
    "import numpy as np\n",
    "import matplotlib.pyplot as plt\n",
    "from common.multi_layer_net_extend import MultiLayerNetExtend\n",
    "from common.optimizer import SGD, Adam\n",
    "\n",
    "max_epochs = 100\n",
    "train_size = x_train.shape[0]\n",
    "batch_size = 100\n",
    "learning_rate = 0.001\n",
    "iter_nums = 30000\n",
    "\n",
    "def __train(weight_init_std):\n",
    "    bn_network = MultiLayerNetExtend(input_size=2, hidden_size_list=[100, 100, 100], output_size=2,\n",
    "                                     weight_init_std=weight_init_std, use_batchnorm=True)\n",
    "    network = MultiLayerNetExtend(input_size=2, hidden_size_list=[100, 100, 100], output_size=2,\n",
    "                                weight_init_std=weight_init_std)\n",
    "    optimizer = SGD(lr=learning_rate)\n",
    "    \n",
    "    train_acc_list = []\n",
    "    bn_train_acc_list = []\n",
    "    \n",
    "    iter_per_epoch = max(train_size / batch_size, 1)\n",
    "    epoch_cnt = 0\n",
    "    \n",
    "    for i in range(iter_nums):\n",
    "        batch_mask = np.random.choice(train_size, batch_size)\n",
    "        x_batch = x_train[batch_mask]\n",
    "        t_batch = t_train[batch_mask]\n",
    "    \n",
    "        for _network in (bn_network, network):\n",
    "            grads = _network.gradient(x_batch, t_batch)\n",
    "            optimizer.update(_network.params, grads)\n",
    "    \n",
    "        if i % iter_per_epoch == 0:\n",
    "            train_acc = network.accuracy(x_train, t_train)\n",
    "            bn_train_acc = bn_network.accuracy(x_train, t_train)\n",
    "            train_acc_list.append(train_acc)\n",
    "            bn_train_acc_list.append(bn_train_acc)\n",
    "    \n",
    "            print(\"epoch:\" + str(epoch_cnt) + \" | \" + str(train_acc) + \" - \" + str(bn_train_acc))\n",
    "    \n",
    "            epoch_cnt += 1\n",
    "            if epoch_cnt >= max_epochs:\n",
    "                break\n",
    "                \n",
    "    return train_acc_list, bn_train_acc_list"
   ]
  },
  {
   "cell_type": "code",
   "execution_count": 42,
   "metadata": {
    "collapsed": true
   },
   "outputs": [
    {
     "name": "stdout",
     "output_type": "stream",
     "text": [
      "epoch:0 | 0.715 - 0.49542857142857144\n",
      "epoch:1 | 0.6868571428571428 - 0.8272857142857143\n",
      "epoch:2 | 0.7057142857142857 - 0.8691428571428571\n",
      "epoch:3 | 0.7214285714285714 - 0.9175714285714286\n",
      "epoch:4 | 0.7237142857142858 - 0.9428571428571428\n",
      "epoch:5 | 0.7254285714285714 - 0.9525714285714286\n",
      "epoch:6 | 0.7284285714285714 - 0.9484285714285714\n",
      "epoch:7 | 0.7297142857142858 - 0.9524285714285714\n",
      "epoch:8 | 0.7308571428571429 - 0.9538571428571428\n",
      "epoch:9 | 0.7291428571428571 - 0.9591428571428572\n",
      "epoch:10 | 0.7301428571428571 - 0.9602857142857143\n",
      "epoch:11 | 0.7328571428571429 - 0.9597142857142857\n",
      "epoch:12 | 0.7342857142857143 - 0.9575714285714285\n",
      "epoch:13 | 0.7365714285714285 - 0.962\n",
      "epoch:14 | 0.7372857142857143 - 0.9651428571428572\n",
      "epoch:15 | 0.7388571428571429 - 0.9607142857142857\n",
      "epoch:16 | 0.7381428571428571 - 0.9665714285714285\n",
      "epoch:17 | 0.7387142857142858 - 0.9641428571428572\n",
      "epoch:18 | 0.741 - 0.9722857142857143\n",
      "epoch:19 | 0.7418571428571429 - 0.971\n",
      "epoch:20 | 0.7414285714285714 - 0.9732857142857143\n",
      "epoch:21 | 0.7412857142857143 - 0.9777142857142858\n",
      "epoch:22 | 0.7431428571428571 - 0.9685714285714285\n",
      "epoch:23 | 0.7455714285714286 - 0.975\n",
      "epoch:24 | 0.7467142857142857 - 0.978\n",
      "epoch:25 | 0.7472857142857143 - 0.9772857142857143\n",
      "epoch:26 | 0.7494285714285714 - 0.9784285714285714\n",
      "epoch:27 | 0.7485714285714286 - 0.9824285714285714\n",
      "epoch:28 | 0.7514285714285714 - 0.9752857142857143\n",
      "epoch:29 | 0.7531428571428571 - 0.9821428571428571\n",
      "epoch:30 | 0.754 - 0.9838571428571429\n",
      "epoch:31 | 0.7562857142857143 - 0.9792857142857143\n",
      "epoch:32 | 0.7587142857142857 - 0.9782857142857143\n",
      "epoch:33 | 0.7592857142857142 - 0.9824285714285714\n",
      "epoch:34 | 0.7587142857142857 - 0.9765714285714285\n",
      "epoch:35 | 0.7601428571428571 - 0.9752857142857143\n",
      "epoch:36 | 0.7638571428571429 - 0.98\n",
      "epoch:37 | 0.7642857142857142 - 0.9831428571428571\n",
      "epoch:38 | 0.7655714285714286 - 0.9797142857142858\n",
      "epoch:39 | 0.7668571428571429 - 0.9824285714285714\n",
      "epoch:40 | 0.7698571428571429 - 0.9851428571428571\n",
      "epoch:41 | 0.7712857142857142 - 0.9824285714285714\n",
      "epoch:42 | 0.7702857142857142 - 0.98\n",
      "epoch:43 | 0.7685714285714286 - 0.9815714285714285\n",
      "epoch:44 | 0.7747142857142857 - 0.9865714285714285\n",
      "epoch:45 | 0.7754285714285715 - 0.9801428571428571\n",
      "epoch:46 | 0.7787142857142857 - 0.9854285714285714\n",
      "epoch:47 | 0.7788571428571428 - 0.9857142857142858\n",
      "epoch:48 | 0.7804285714285715 - 0.9834285714285714\n",
      "epoch:49 | 0.7837142857142857 - 0.9847142857142858\n",
      "epoch:50 | 0.7868571428571428 - 0.9884285714285714\n",
      "epoch:51 | 0.7845714285714286 - 0.9861428571428571\n",
      "epoch:52 | 0.7891428571428571 - 0.9815714285714285\n",
      "epoch:53 | 0.7874285714285715 - 0.9857142857142858\n",
      "epoch:54 | 0.7887142857142857 - 0.986\n",
      "epoch:55 | 0.7945714285714286 - 0.9874285714285714\n",
      "epoch:56 | 0.7988571428571428 - 0.9834285714285714\n",
      "epoch:57 | 0.7937142857142857 - 0.9878571428571429\n",
      "epoch:58 | 0.795 - 0.9877142857142858\n",
      "epoch:59 | 0.8008571428571428 - 0.9857142857142858\n",
      "epoch:60 | 0.802 - 0.9835714285714285\n",
      "epoch:61 | 0.8017142857142857 - 0.9865714285714285\n",
      "epoch:62 | 0.8022857142857143 - 0.9737142857142858\n",
      "epoch:63 | 0.8041428571428572 - 0.9881428571428571\n",
      "epoch:64 | 0.805 - 0.9878571428571429\n",
      "epoch:65 | 0.8071428571428572 - 0.9874285714285714\n",
      "epoch:66 | 0.8068571428571428 - 0.9772857142857143\n",
      "epoch:67 | 0.8075714285714286 - 0.9842857142857143\n",
      "epoch:68 | 0.8082857142857143 - 0.9864285714285714\n",
      "epoch:69 | 0.8095714285714286 - 0.9857142857142858\n",
      "epoch:70 | 0.8115714285714286 - 0.9864285714285714\n",
      "epoch:71 | 0.8112857142857143 - 0.986\n",
      "epoch:72 | 0.8135714285714286 - 0.9868571428571429\n",
      "epoch:73 | 0.8127142857142857 - 0.9854285714285714\n",
      "epoch:74 | 0.8147142857142857 - 0.9871428571428571\n",
      "epoch:75 | 0.8161428571428572 - 0.9878571428571429\n",
      "epoch:76 | 0.8184285714285714 - 0.9885714285714285\n",
      "epoch:77 | 0.8224285714285714 - 0.9834285714285714\n",
      "epoch:78 | 0.8191428571428572 - 0.9861428571428571\n",
      "epoch:79 | 0.8208571428571428 - 0.981\n",
      "epoch:80 | 0.8222857142857143 - 0.9835714285714285\n",
      "epoch:81 | 0.8225714285714286 - 0.9851428571428571\n",
      "epoch:82 | 0.8238571428571428 - 0.986\n",
      "epoch:83 | 0.8235714285714286 - 0.9712857142857143\n",
      "epoch:84 | 0.8254285714285714 - 0.9825714285714285\n",
      "epoch:85 | 0.8282857142857143 - 0.9882857142857143\n",
      "epoch:86 | 0.8262857142857143 - 0.9855714285714285\n",
      "epoch:87 | 0.8298571428571428 - 0.9885714285714285\n",
      "epoch:88 | 0.8311428571428572 - 0.986\n",
      "epoch:89 | 0.8322857142857143 - 0.9867142857142858\n",
      "epoch:90 | 0.8312857142857143 - 0.981\n",
      "epoch:91 | 0.8332857142857143 - 0.9761428571428571\n",
      "epoch:92 | 0.8302857142857143 - 0.9834285714285714\n",
      "epoch:93 | 0.8348571428571429 - 0.9897142857142858\n",
      "epoch:94 | 0.8354285714285714 - 0.9825714285714285\n",
      "epoch:95 | 0.8384285714285714 - 0.9775714285714285\n",
      "epoch:96 | 0.8387142857142857 - 0.9841428571428571\n",
      "epoch:97 | 0.8367142857142857 - 0.9881428571428571\n",
      "epoch:98 | 0.8361428571428572 - 0.9792857142857143\n",
      "epoch:99 | 0.8397142857142857 - 0.9858571428571429\n"
     ]
    }
   ],
   "source": [
    "train_acc_list12, bn_train_acc_list12 = __train('Xavier')"
   ]
  },
  {
   "cell_type": "code",
   "execution_count": 44,
   "metadata": {},
   "outputs": [
    {
     "data": {
      "text/plain": [
       "Text(0.5,1,'batch num')"
      ]
     },
     "execution_count": 44,
     "metadata": {},
     "output_type": "execute_result"
    },
    {
     "data": {
      "image/png": "[encoded data removed]",
      "text/plain": [
       "<matplotlib.figure.Figure at 0x114668940>"
      ]
     },
     "metadata": {},
     "output_type": "display_data"
    }
   ],
   "source": [
    "# グラフの描画\n",
    "plt.figure(figsize=(14,4)) # figureの縦横の大きさ\n",
    "markers = {'train': 'o', 'test': 's'}\n",
    "x = np.arange(len(train_acc_list12))\n",
    "plt.subplot(1,2,1)\n",
    "plt.plot(x, bn_train_acc_list12, label='Xavier', markevery=2)\n",
    "plt.xlabel('epoch')\n",
    "plt.ylabel(\"accuracy\")\n",
    "plt.ylim(0, 1.0)\n",
    "plt.legend(loc='lower right')\n",
    "plt.title('batch num')"
   ]
  },
  {
   "cell_type": "code",
   "execution_count": 45,
   "metadata": {},
   "outputs": [],
   "source": [
    "# coding: utf-8\n",
    "import sys, os\n",
    "sys.path.append(os.pardir)  # 親ディレクトリのファイルをインポートするための設定\n",
    "import numpy as np\n",
    "import matplotlib.pyplot as plt\n",
    "from common.multi_layer_net_extend import MultiLayerNetExtend\n",
    "from common.optimizer import SGD, Adam\n",
    "\n",
    "max_epochs = 100\n",
    "train_size = x_train.shape[0]\n",
    "batch_size = 10\n",
    "learning_rate = 0.001\n",
    "iter_nums = 30000\n",
    "\n",
    "def __train(weight_init_std):\n",
    "    bn_network = MultiLayerNetExtend(input_size=2, hidden_size_list=[1000, 1000, 1000], output_size=2,\n",
    "                                     weight_init_std=weight_init_std, use_batchnorm=True)\n",
    "    network = MultiLayerNetExtend(input_size=2, hidden_size_list=[1000, 1000, 1000], output_size=2,\n",
    "                                weight_init_std=weight_init_std)\n",
    "    optimizer = SGD(lr=learning_rate)\n",
    "    \n",
    "    train_acc_list = []\n",
    "    bn_train_acc_list = []\n",
    "    \n",
    "    iter_per_epoch = max(train_size / batch_size, 1)\n",
    "    epoch_cnt = 0\n",
    "    \n",
    "    for i in range(iter_nums):\n",
    "        batch_mask = np.random.choice(train_size, batch_size)\n",
    "        x_batch = x_train[batch_mask]\n",
    "        t_batch = t_train[batch_mask]\n",
    "    \n",
    "        for _network in (bn_network, network):\n",
    "            grads = _network.gradient(x_batch, t_batch)\n",
    "            optimizer.update(_network.params, grads)\n",
    "    \n",
    "        if i % iter_per_epoch == 0:\n",
    "            train_acc = network.accuracy(x_train, t_train)\n",
    "            bn_train_acc = bn_network.accuracy(x_train, t_train)\n",
    "            train_acc_list.append(train_acc)\n",
    "            bn_train_acc_list.append(bn_train_acc)\n",
    "    \n",
    "            print(\"epoch:\" + str(epoch_cnt) + \" | \" + str(train_acc) + \" - \" + str(bn_train_acc))\n",
    "    \n",
    "            epoch_cnt += 1\n",
    "            if epoch_cnt >= max_epochs:\n",
    "                break\n",
    "                \n",
    "    return train_acc_list, bn_train_acc_list"
   ]
  },
  {
   "cell_type": "code",
   "execution_count": 46,
   "metadata": {
    "collapsed": true
   },
   "outputs": [
    {
     "name": "stdout",
     "output_type": "stream",
     "text": [
      "epoch:0 | 0.48942857142857144 - 0.31114285714285717\n",
      "epoch:1 | 0.7674285714285715 - 0.9312857142857143\n",
      "epoch:2 | 0.7294285714285714 - 0.9404285714285714\n",
      "epoch:3 | 0.8047142857142857 - 0.9244285714285714\n",
      "epoch:4 | 0.8122857142857143 - 0.9475714285714286\n",
      "epoch:5 | 0.8098571428571428 - 0.9482857142857143\n",
      "epoch:6 | 0.8087142857142857 - 0.958\n",
      "epoch:7 | 0.8237142857142857 - 0.959\n",
      "epoch:8 | 0.8067142857142857 - 0.9668571428571429\n",
      "epoch:9 | 0.8372857142857143 - 0.9571428571428572\n",
      "epoch:10 | 0.8372857142857143 - 0.951\n",
      "epoch:11 | 0.8312857142857143 - 0.9667142857142857\n",
      "epoch:12 | 0.8374285714285714 - 0.9594285714285714\n",
      "epoch:13 | 0.8475714285714285 - 0.9617142857142857\n",
      "epoch:14 | 0.8554285714285714 - 0.9652857142857143\n",
      "epoch:15 | 0.859 - 0.9681428571428572\n",
      "epoch:16 | 0.8492857142857143 - 0.9561428571428572\n",
      "epoch:17 | 0.854 - 0.929\n",
      "epoch:18 | 0.8705714285714286 - 0.9664285714285714\n",
      "epoch:19 | 0.7424285714285714 - 0.9594285714285714\n",
      "epoch:20 | 0.8657142857142858 - 0.9852857142857143\n",
      "epoch:21 | 0.8592857142857143 - 0.9532857142857143\n",
      "epoch:22 | 0.8678571428571429 - 0.934\n",
      "epoch:23 | 0.8655714285714285 - 0.9414285714285714\n",
      "epoch:24 | 0.879 - 0.959\n",
      "epoch:25 | 0.8781428571428571 - 0.9524285714285714\n",
      "epoch:26 | 0.8831428571428571 - 0.9588571428571429\n",
      "epoch:27 | 0.8865714285714286 - 0.9514285714285714\n",
      "epoch:28 | 0.8764285714285714 - 0.9295714285714286\n",
      "epoch:29 | 0.8772857142857143 - 0.9407142857142857\n",
      "epoch:30 | 0.8911428571428571 - 0.9635714285714285\n",
      "epoch:31 | 0.8775714285714286 - 0.9707142857142858\n",
      "epoch:32 | 0.8827142857142857 - 0.9372857142857143\n",
      "epoch:33 | 0.863 - 0.9461428571428572\n",
      "epoch:34 | 0.8958571428571429 - 0.9407142857142857\n",
      "epoch:35 | 0.8758571428571429 - 0.9635714285714285\n",
      "epoch:36 | 0.8828571428571429 - 0.9602857142857143\n",
      "epoch:37 | 0.8788571428571429 - 0.974\n",
      "epoch:38 | 0.8814285714285715 - 0.9588571428571429\n",
      "epoch:39 | 0.8942857142857142 - 0.9425714285714286\n",
      "epoch:40 | 0.8885714285714286 - 0.9514285714285714\n",
      "epoch:41 | 0.8758571428571429 - 0.9742857142857143\n",
      "epoch:42 | 0.8765714285714286 - 0.9811428571428571\n"
     ]
    }
   ],
   "source": [
    "train_acc_list21, bn_train_acc_list21 = __train('Xavier')"
   ]
  },
  {
   "cell_type": "code",
   "execution_count": 49,
   "metadata": {},
   "outputs": [
    {
     "data": {
      "text/plain": [
       "Text(0.5,1,'newron')"
      ]
     },
     "execution_count": 49,
     "metadata": {},
     "output_type": "execute_result"
    },
    {
     "data": {
      "image/png": "[encoded data removed]",
      "text/plain": [
       "<matplotlib.figure.Figure at 0x10fde75c0>"
      ]
     },
     "metadata": {},
     "output_type": "display_data"
    }
   ],
   "source": [
    "# グラフの描画\n",
    "plt.figure(figsize=(14,4)) # figureの縦横の大きさ\n",
    "markers = {'train': 'o', 'test': 's'}\n",
    "x = np.arange(len(train_acc_list21))\n",
    "plt.subplot(1,2,1)\n",
    "plt.plot(x, bn_train_acc_list21, label='newron 1000', markevery=2)\n",
    "plt.xlabel('epoch')\n",
    "plt.ylabel(\"accuracy\")\n",
    "plt.ylim(0, 1.0)\n",
    "plt.legend(loc='lower right')\n",
    "plt.title('newron')"
   ]
  },
  {
   "cell_type": "code",
   "execution_count": 50,
   "metadata": {},
   "outputs": [],
   "source": [
    "# coding: utf-8\n",
    "import sys, os\n",
    "sys.path.append(os.pardir)  # 親ディレクトリのファイルをインポートするための設定\n",
    "import numpy as np\n",
    "import matplotlib.pyplot as plt\n",
    "from common.multi_layer_net_extend import MultiLayerNetExtend\n",
    "from common.optimizer import SGD, Adam\n",
    "\n",
    "max_epochs = 100\n",
    "train_size = x_train.shape[0]\n",
    "batch_size = 100\n",
    "learning_rate = 0.001\n",
    "iter_nums = 30000\n",
    "\n",
    "def __train(weight_init_std):\n",
    "    bn_network = MultiLayerNetExtend(input_size=2, hidden_size_list=[1000, 1000, 1000], output_size=2,\n",
    "                                     weight_init_std=weight_init_std, use_batchnorm=True)\n",
    "    network = MultiLayerNetExtend(input_size=2, hidden_size_list=[1000, 1000, 1000], output_size=2,\n",
    "                                weight_init_std=weight_init_std)\n",
    "    optimizer = SGD(lr=learning_rate)\n",
    "    \n",
    "    train_acc_list = []\n",
    "    bn_train_acc_list = []\n",
    "    \n",
    "    iter_per_epoch = max(train_size / batch_size, 1)\n",
    "    epoch_cnt = 0\n",
    "    \n",
    "    for i in range(iter_nums):\n",
    "        batch_mask = np.random.choice(train_size, batch_size)\n",
    "        x_batch = x_train[batch_mask]\n",
    "        t_batch = t_train[batch_mask]\n",
    "    \n",
    "        for _network in (bn_network, network):\n",
    "            grads = _network.gradient(x_batch, t_batch)\n",
    "            optimizer.update(_network.params, grads)\n",
    "    \n",
    "        if i % iter_per_epoch == 0:\n",
    "            train_acc = network.accuracy(x_train, t_train)\n",
    "            bn_train_acc = bn_network.accuracy(x_train, t_train)\n",
    "            train_acc_list.append(train_acc)\n",
    "            bn_train_acc_list.append(bn_train_acc)\n",
    "    \n",
    "            print(\"epoch:\" + str(epoch_cnt) + \" | \" + str(train_acc) + \" - \" + str(bn_train_acc))\n",
    "    \n",
    "            epoch_cnt += 1\n",
    "            if epoch_cnt >= max_epochs:\n",
    "                break\n",
    "                \n",
    "    return train_acc_list, bn_train_acc_list"
   ]
  },
  {
   "cell_type": "code",
   "execution_count": 51,
   "metadata": {
    "collapsed": true
   },
   "outputs": [
    {
     "name": "stdout",
     "output_type": "stream",
     "text": [
      "epoch:0 | 0.488 - 0.6727142857142857\n",
      "epoch:1 | 0.7177142857142857 - 0.9664285714285714\n",
      "epoch:2 | 0.7187142857142857 - 0.9708571428571429\n",
      "epoch:3 | 0.7217142857142858 - 0.9771428571428571\n",
      "epoch:4 | 0.7212857142857143 - 0.9838571428571429\n",
      "epoch:5 | 0.7371428571428571 - 0.9841428571428571\n",
      "epoch:6 | 0.7245714285714285 - 0.9862857142857143\n",
      "epoch:7 | 0.7695714285714286 - 0.9814285714285714\n",
      "epoch:8 | 0.7694285714285715 - 0.9858571428571429\n",
      "epoch:9 | 0.7735714285714286 - 0.9858571428571429\n",
      "epoch:10 | 0.7748571428571429 - 0.9874285714285714\n",
      "epoch:11 | 0.7782857142857142 - 0.9844285714285714\n",
      "epoch:12 | 0.7527142857142857 - 0.985\n",
      "epoch:13 | 0.7831428571428571 - 0.9825714285714285\n",
      "epoch:14 | 0.7738571428571429 - 0.9875714285714285\n",
      "epoch:15 | 0.7838571428571428 - 0.9845714285714285\n",
      "epoch:16 | 0.7834285714285715 - 0.9881428571428571\n",
      "epoch:17 | 0.7908571428571428 - 0.9831428571428571\n",
      "epoch:18 | 0.7804285714285715 - 0.9868571428571429\n",
      "epoch:19 | 0.7837142857142857 - 0.9874285714285714\n",
      "epoch:20 | 0.7945714285714286 - 0.9881428571428571\n",
      "epoch:21 | 0.7934285714285715 - 0.9882857142857143\n",
      "epoch:22 | 0.7864285714285715 - 0.984\n",
      "epoch:23 | 0.7991428571428572 - 0.9781428571428571\n",
      "epoch:24 | 0.7994285714285714 - 0.9841428571428571\n",
      "epoch:25 | 0.7991428571428572 - 0.9894285714285714\n",
      "epoch:26 | 0.8014285714285714 - 0.9835714285714285\n",
      "epoch:27 | 0.8067142857142857 - 0.9882857142857143\n",
      "epoch:28 | 0.8087142857142857 - 0.9854285714285714\n",
      "epoch:29 | 0.8012857142857143 - 0.9894285714285714\n",
      "epoch:30 | 0.7911428571428571 - 0.9891428571428571\n",
      "epoch:31 | 0.8072857142857143 - 0.983\n",
      "epoch:32 | 0.8064285714285714 - 0.9864285714285714\n",
      "epoch:33 | 0.8084285714285714 - 0.9855714285714285\n",
      "epoch:34 | 0.8144285714285714 - 0.9822857142857143\n",
      "epoch:35 | 0.8172857142857143 - 0.9887142857142858\n",
      "epoch:36 | 0.8118571428571428 - 0.9861428571428571\n",
      "epoch:37 | 0.817 - 0.9868571428571429\n",
      "epoch:38 | 0.8078571428571428 - 0.9887142857142858\n",
      "epoch:39 | 0.8127142857142857 - 0.9878571428571429\n",
      "epoch:40 | 0.8191428571428572 - 0.9892857142857143\n",
      "epoch:41 | 0.8197142857142857 - 0.9861428571428571\n",
      "epoch:42 | 0.8195714285714286 - 0.982\n",
      "epoch:43 | 0.8165714285714286 - 0.9878571428571429\n",
      "epoch:44 | 0.8227142857142857 - 0.9885714285714285\n",
      "epoch:45 | 0.8108571428571428 - 0.9897142857142858\n",
      "epoch:46 | 0.8245714285714286 - 0.9884285714285714\n",
      "epoch:47 | 0.821 - 0.9908571428571429\n",
      "epoch:48 | 0.8141428571428572 - 0.9814285714285714\n",
      "epoch:49 | 0.8161428571428572 - 0.9855714285714285\n",
      "epoch:50 | 0.822 - 0.988\n",
      "epoch:51 | 0.8164285714285714 - 0.9902857142857143\n",
      "epoch:52 | 0.8308571428571428 - 0.9891428571428571\n",
      "epoch:53 | 0.8168571428571428 - 0.9862857142857143\n",
      "epoch:54 | 0.8178571428571428 - 0.9878571428571429\n",
      "epoch:55 | 0.8324285714285714 - 0.9881428571428571\n",
      "epoch:56 | 0.8302857142857143 - 0.9865714285714285\n",
      "epoch:57 | 0.821 - 0.9898571428571429\n",
      "epoch:58 | 0.8367142857142857 - 0.9817142857142858\n",
      "epoch:59 | 0.8354285714285714 - 0.9887142857142858\n",
      "epoch:60 | 0.8274285714285714 - 0.9897142857142858\n",
      "epoch:61 | 0.8362857142857143 - 0.9864285714285714\n",
      "epoch:62 | 0.815 - 0.989\n",
      "epoch:63 | 0.8362857142857143 - 0.9898571428571429\n",
      "epoch:64 | 0.8354285714285714 - 0.9865714285714285\n",
      "epoch:65 | 0.8261428571428572 - 0.9834285714285714\n",
      "epoch:66 | 0.8395714285714285 - 0.9894285714285714\n",
      "epoch:67 | 0.8345714285714285 - 0.9857142857142858\n",
      "epoch:68 | 0.8424285714285714 - 0.9892857142857143\n",
      "epoch:69 | 0.8374285714285714 - 0.9908571428571429\n",
      "epoch:70 | 0.8375714285714285 - 0.984\n",
      "epoch:71 | 0.8455714285714285 - 0.9874285714285714\n",
      "epoch:72 | 0.8395714285714285 - 0.9901428571428571\n",
      "epoch:73 | 0.8448571428571429 - 0.9892857142857143\n",
      "epoch:74 | 0.8472857142857143 - 0.9825714285714285\n",
      "epoch:75 | 0.8367142857142857 - 0.987\n",
      "epoch:76 | 0.8301428571428572 - 0.9912857142857143\n",
      "epoch:77 | 0.8501428571428571 - 0.9857142857142858\n",
      "epoch:78 | 0.8485714285714285 - 0.9877142857142858\n",
      "epoch:79 | 0.8494285714285714 - 0.9885714285714285\n",
      "epoch:80 | 0.8407142857142857 - 0.9891428571428571\n",
      "epoch:81 | 0.8307142857142857 - 0.9857142857142858\n",
      "epoch:82 | 0.8477142857142858 - 0.9881428571428571\n",
      "epoch:83 | 0.8497142857142858 - 0.9924285714285714\n",
      "epoch:84 | 0.8345714285714285 - 0.991\n",
      "epoch:85 | 0.8445714285714285 - 0.9848571428571429\n",
      "epoch:86 | 0.8437142857142857 - 0.9901428571428571\n",
      "epoch:87 | 0.848 - 0.9878571428571429\n",
      "epoch:88 | 0.8394285714285714 - 0.9885714285714285\n",
      "epoch:89 | 0.8534285714285714 - 0.9872857142857143\n",
      "epoch:90 | 0.8444285714285714 - 0.989\n",
      "epoch:91 | 0.8554285714285714 - 0.9881428571428571\n",
      "epoch:92 | 0.851 - 0.9841428571428571\n",
      "epoch:93 | 0.8555714285714285 - 0.9902857142857143\n",
      "epoch:94 | 0.8475714285714285 - 0.9848571428571429\n",
      "epoch:95 | 0.8404285714285714 - 0.9885714285714285\n",
      "epoch:96 | 0.8511428571428571 - 0.9902857142857143\n",
      "epoch:97 | 0.8561428571428571 - 0.9878571428571429\n",
      "epoch:98 | 0.8515714285714285 - 0.9901428571428571\n",
      "epoch:99 | 0.8615714285714285 - 0.9878571428571429\n"
     ]
    }
   ],
   "source": [
    "train_acc_list22, bn_train_acc_list22 = __train('Xavier')"
   ]
  },
  {
   "cell_type": "code",
   "execution_count": 52,
   "metadata": {},
   "outputs": [
    {
     "data": {
      "text/plain": [
       "Text(0.5,1,'newron')"
      ]
     },
     "execution_count": 52,
     "metadata": {},
     "output_type": "execute_result"
    },
    {
     "data": {
      "image/png": "[encoded data removed]",
      "text/plain": [
       "<matplotlib.figure.Figure at 0x11ad2d550>"
      ]
     },
     "metadata": {},
     "output_type": "display_data"
    }
   ],
   "source": [
    "# グラフの描画\n",
    "plt.figure(figsize=(14,4)) # figureの縦横の大きさ\n",
    "markers = {'train': 'o', 'test': 's'}\n",
    "x = np.arange(len(train_acc_list22))\n",
    "plt.subplot(1,2,1)\n",
    "plt.plot(x, bn_train_acc_list22, label='newron 1000,batch 100', markevery=2)\n",
    "plt.xlabel('epoch')\n",
    "plt.ylabel(\"accuracy\")\n",
    "plt.ylim(0, 1.0)\n",
    "plt.legend(loc='lower right')\n",
    "plt.title('newron')"
   ]
  },
  {
   "cell_type": "code",
   "execution_count": 49,
   "metadata": {},
   "outputs": [],
   "source": [
    "# coding: utf-8\n",
    "import sys, os\n",
    "sys.path.append(os.pardir)  # 親ディレクトリのファイルをインポートするための設定\n",
    "import numpy as np\n",
    "import matplotlib.pyplot as plt\n",
    "from common.multi_layer_net_extend import MultiLayerNetExtend\n",
    "from common.optimizer import SGD, Adam\n",
    "\n",
    "max_epochs = 100\n",
    "train_size = x_train.shape[0]\n",
    "batch_size = 100\n",
    "learning_rate = 0.001\n",
    "iter_nums = 30000\n",
    "\n",
    "def __train(weight_init_std):\n",
    "    bn_network = MultiLayerNetExtend(input_size=2, hidden_size_list=[1000, 1000, 1000], output_size=2,\n",
    "                                     weight_init_std=weight_init_std, use_batchnorm=True)\n",
    "    network = MultiLayerNetExtend(input_size=2, hidden_size_list=[1000, 1000, 1000], output_size=2,\n",
    "                                weight_init_std=weight_init_std)\n",
    "    optimizer = SGD(lr=learning_rate)\n",
    "    \n",
    "    train_acc_list = []\n",
    "    bn_train_acc_list = []\n",
    "    \n",
    "    iter_per_epoch = max(train_size / batch_size, 1)\n",
    "    epoch_cnt = 0\n",
    "    \n",
    "    for i in range(iter_nums):\n",
    "        batch_mask = np.random.choice(train_size, batch_size)\n",
    "        x_batch = x_train[batch_mask]\n",
    "        t_batch = t_train[batch_mask]\n",
    "    \n",
    "        for _network in (bn_network, network):\n",
    "            grads = _network.gradient(x_batch, t_batch)\n",
    "            optimizer.update(_network.params, grads)\n",
    "    \n",
    "        if i % iter_per_epoch == 0:\n",
    "            train_acc = network.accuracy(x_train, t_train)\n",
    "            bn_train_acc = bn_network.accuracy(x_train, t_train)\n",
    "            train_acc_list.append(train_acc)\n",
    "            bn_train_acc_list.append(bn_train_acc)\n",
    "    \n",
    "            print(\"epoch:\" + str(epoch_cnt) + \" | \" + str(train_acc) + \" - \" + str(bn_train_acc))\n",
    "    \n",
    "            epoch_cnt += 1\n",
    "            if epoch_cnt >= max_epochs:\n",
    "                break\n",
    "                \n",
    "    return train_acc_list, bn_train_acc_list"
   ]
  },
  {
   "cell_type": "code",
   "execution_count": 50,
   "metadata": {
    "collapsed": true
   },
   "outputs": [
    {
     "name": "stdout",
     "output_type": "stream",
     "text": [
      "epoch:0 | 0.4114285714285714 - 0.5042857142857143\n",
      "epoch:1 | 0.5885714285714285 - 0.6914285714285714\n"
     ]
    },
    {
     "name": "stderr",
     "output_type": "stream",
     "text": [
      "../common/multi_layer_net_extend.py:101: RuntimeWarning: overflow encountered in square\n",
      "  weight_decay += 0.5 * self.weight_decay_lambda * np.sum(W**2)\n",
      "/Users/Kohei/.pyenv/versions/anaconda3-5.1.0/lib/python3.6/site-packages/numpy/core/_methods.py:32: RuntimeWarning: overflow encountered in reduce\n",
      "  return umr_sum(a, axis, dtype, out, keepdims)\n",
      "../common/multi_layer_net_extend.py:101: RuntimeWarning: invalid value encountered in double_scalars\n",
      "  weight_decay += 0.5 * self.weight_decay_lambda * np.sum(W**2)\n",
      "../common/functions.py:34: RuntimeWarning: invalid value encountered in subtract\n",
      "  x = x - np.max(x, axis=0)\n",
      "../common/layers.py:12: RuntimeWarning: invalid value encountered in less_equal\n",
      "  self.mask = (x <= 0)\n"
     ]
    },
    {
     "name": "stdout",
     "output_type": "stream",
     "text": [
      "epoch:2 | 0.4114285714285714 - 0.8857142857142857\n"
     ]
    },
    {
     "name": "stderr",
     "output_type": "stream",
     "text": [
      "/Users/Kohei/.pyenv/versions/anaconda3-5.1.0/lib/python3.6/site-packages/numpy/core/_methods.py:26: RuntimeWarning: invalid value encountered in reduce\n",
      "  return umr_maximum(a, axis, None, out, keepdims)\n"
     ]
    },
    {
     "name": "stdout",
     "output_type": "stream",
     "text": [
      "epoch:3 | 0.4114285714285714 - 0.9271428571428572\n",
      "epoch:4 | 0.4114285714285714 - 0.8757142857142857\n",
      "epoch:5 | 0.4114285714285714 - 0.95\n",
      "epoch:6 | 0.4114285714285714 - 0.9728571428571429\n",
      "epoch:7 | 0.4114285714285714 - 0.98\n",
      "epoch:8 | 0.4114285714285714 - 0.9842857142857143\n",
      "epoch:9 | 0.4114285714285714 - 0.9771428571428571\n",
      "epoch:10 | 0.4114285714285714 - 0.9728571428571429\n",
      "epoch:11 | 0.4114285714285714 - 0.9671428571428572\n",
      "epoch:12 | 0.4114285714285714 - 0.9742857142857143\n",
      "epoch:13 | 0.4114285714285714 - 0.9785714285714285\n",
      "epoch:14 | 0.4114285714285714 - 0.9771428571428571\n",
      "epoch:15 | 0.4114285714285714 - 0.9642857142857143\n",
      "epoch:16 | 0.4114285714285714 - 0.9714285714285714\n",
      "epoch:17 | 0.4114285714285714 - 0.9714285714285714\n",
      "epoch:18 | 0.4114285714285714 - 0.9528571428571428\n",
      "epoch:19 | 0.4114285714285714 - 0.9428571428571428\n",
      "epoch:20 | 0.4114285714285714 - 0.9614285714285714\n",
      "epoch:21 | 0.4114285714285714 - 0.9571428571428572\n",
      "epoch:22 | 0.4114285714285714 - 0.9742857142857143\n",
      "epoch:23 | 0.4114285714285714 - 0.9771428571428571\n",
      "epoch:24 | 0.4114285714285714 - 0.9542857142857143\n",
      "epoch:25 | 0.4114285714285714 - 0.9714285714285714\n",
      "epoch:26 | 0.4114285714285714 - 0.9385714285714286\n",
      "epoch:27 | 0.4114285714285714 - 0.9628571428571429\n",
      "epoch:28 | 0.4114285714285714 - 0.9642857142857143\n",
      "epoch:29 | 0.4114285714285714 - 0.9728571428571429\n",
      "epoch:30 | 0.4114285714285714 - 0.9242857142857143\n",
      "epoch:31 | 0.4114285714285714 - 0.9485714285714286\n",
      "epoch:32 | 0.4114285714285714 - 0.9542857142857143\n",
      "epoch:33 | 0.4114285714285714 - 0.9771428571428571\n",
      "epoch:34 | 0.4114285714285714 - 0.9414285714285714\n",
      "epoch:35 | 0.4114285714285714 - 0.9742857142857143\n",
      "epoch:36 | 0.4114285714285714 - 0.9557142857142857\n",
      "epoch:37 | 0.4114285714285714 - 0.9642857142857143\n",
      "epoch:38 | 0.4114285714285714 - 0.9671428571428572\n",
      "epoch:39 | 0.4114285714285714 - 0.9357142857142857\n",
      "epoch:40 | 0.4114285714285714 - 0.9771428571428571\n",
      "epoch:41 | 0.4114285714285714 - 0.96\n",
      "epoch:42 | 0.4114285714285714 - 0.9742857142857143\n",
      "epoch:43 | 0.4114285714285714 - 0.9742857142857143\n",
      "epoch:44 | 0.4114285714285714 - 0.9785714285714285\n",
      "epoch:45 | 0.4114285714285714 - 0.98\n",
      "epoch:46 | 0.4114285714285714 - 0.9585714285714285\n",
      "epoch:47 | 0.4114285714285714 - 0.9842857142857143\n",
      "epoch:48 | 0.4114285714285714 - 0.9557142857142857\n",
      "epoch:49 | 0.4114285714285714 - 0.9742857142857143\n",
      "epoch:50 | 0.4114285714285714 - 0.9428571428571428\n",
      "epoch:51 | 0.4114285714285714 - 0.9542857142857143\n",
      "epoch:52 | 0.4114285714285714 - 0.9685714285714285\n",
      "epoch:53 | 0.4114285714285714 - 0.9571428571428572\n",
      "epoch:54 | 0.4114285714285714 - 0.9671428571428572\n",
      "epoch:55 | 0.4114285714285714 - 0.9414285714285714\n",
      "epoch:56 | 0.4114285714285714 - 0.9628571428571429\n",
      "epoch:57 | 0.4114285714285714 - 0.96\n",
      "epoch:58 | 0.4114285714285714 - 0.99\n",
      "epoch:59 | 0.4114285714285714 - 0.9542857142857143\n",
      "epoch:60 | 0.4114285714285714 - 0.9885714285714285\n",
      "epoch:61 | 0.4114285714285714 - 0.9785714285714285\n",
      "epoch:62 | 0.4114285714285714 - 0.9514285714285714\n",
      "epoch:63 | 0.4114285714285714 - 0.9442857142857143\n",
      "epoch:64 | 0.4114285714285714 - 0.9585714285714285\n",
      "epoch:65 | 0.4114285714285714 - 0.9742857142857143\n",
      "epoch:66 | 0.4114285714285714 - 0.98\n",
      "epoch:67 | 0.4114285714285714 - 0.9842857142857143\n",
      "epoch:68 | 0.4114285714285714 - 0.9728571428571429\n",
      "epoch:69 | 0.4114285714285714 - 0.9585714285714285\n",
      "epoch:70 | 0.4114285714285714 - 0.9785714285714285\n",
      "epoch:71 | 0.4114285714285714 - 0.97\n",
      "epoch:72 | 0.4114285714285714 - 0.9557142857142857\n",
      "epoch:73 | 0.4114285714285714 - 0.9542857142857143\n",
      "epoch:74 | 0.4114285714285714 - 0.9714285714285714\n",
      "epoch:75 | 0.4114285714285714 - 0.9728571428571429\n",
      "epoch:76 | 0.4114285714285714 - 0.9828571428571429\n",
      "epoch:77 | 0.4114285714285714 - 0.9714285714285714\n",
      "epoch:78 | 0.4114285714285714 - 0.9871428571428571\n",
      "epoch:79 | 0.4114285714285714 - 0.9671428571428572\n",
      "epoch:80 | 0.4114285714285714 - 0.9371428571428572\n",
      "epoch:81 | 0.4114285714285714 - 0.9728571428571429\n",
      "epoch:82 | 0.4114285714285714 - 0.9871428571428571\n",
      "epoch:83 | 0.4114285714285714 - 0.9871428571428571\n",
      "epoch:84 | 0.4114285714285714 - 0.9685714285714285\n",
      "epoch:85 | 0.4114285714285714 - 0.9714285714285714\n",
      "epoch:86 | 0.4114285714285714 - 0.9585714285714285\n",
      "epoch:87 | 0.4114285714285714 - 0.9914285714285714\n",
      "epoch:88 | 0.4114285714285714 - 0.9785714285714285\n",
      "epoch:89 | 0.4114285714285714 - 0.9771428571428571\n",
      "epoch:90 | 0.4114285714285714 - 0.9871428571428571\n",
      "epoch:91 | 0.4114285714285714 - 0.9614285714285714\n",
      "epoch:92 | 0.4114285714285714 - 0.9585714285714285\n",
      "epoch:93 | 0.4114285714285714 - 0.98\n",
      "epoch:94 | 0.4114285714285714 - 0.9828571428571429\n",
      "epoch:95 | 0.4114285714285714 - 0.9828571428571429\n",
      "epoch:96 | 0.4114285714285714 - 0.9842857142857143\n",
      "epoch:97 | 0.4114285714285714 - 0.9871428571428571\n",
      "epoch:98 | 0.4114285714285714 - 0.9271428571428572\n",
      "epoch:99 | 0.4114285714285714 - 0.9785714285714285\n"
     ]
    }
   ],
   "source": [
    "bn_train_acc_list00 = __train('He')"
   ]
  },
  {
   "cell_type": "code",
   "execution_count": 51,
   "metadata": {},
   "outputs": [],
   "source": [
    "# coding: utf-8\n",
    "import sys, os\n",
    "sys.path.append(os.pardir)  # 親ディレクトリのファイルをインポートするための設定\n",
    "import numpy as np\n",
    "import matplotlib.pyplot as plt\n",
    "from common.multi_layer_net_extend import MultiLayerNetExtend\n",
    "from common.optimizer import SGD, Adam\n",
    "\n",
    "max_epochs = 100\n",
    "train_size = x_train.shape[0]\n",
    "batch_size = 100\n",
    "learning_rate = 0.001\n",
    "iter_nums = 30000\n",
    "\n",
    "def __train(weight_init_std):\n",
    "    bn_network = MultiLayerNetExtend(input_size=2, hidden_size_list=[500, 500, 500], output_size=2,\n",
    "                                     weight_init_std=weight_init_std, use_batchnorm=True)\n",
    "    network = MultiLayerNetExtend(input_size=2, hidden_size_list=[500, 500, 500], output_size=2,\n",
    "                                weight_init_std=weight_init_std)\n",
    "    optimizer = SGD(lr=learning_rate)\n",
    "    \n",
    "    train_acc_list = []\n",
    "    bn_train_acc_list = []\n",
    "    \n",
    "    iter_per_epoch = max(train_size / batch_size, 1)\n",
    "    epoch_cnt = 0\n",
    "    \n",
    "    for i in range(iter_nums):\n",
    "        batch_mask = np.random.choice(train_size, batch_size)\n",
    "        x_batch = x_train[batch_mask]\n",
    "        t_batch = t_train[batch_mask]\n",
    "    \n",
    "        for _network in (bn_network, network):\n",
    "            grads = _network.gradient(x_batch, t_batch)\n",
    "            optimizer.update(_network.params, grads)\n",
    "    \n",
    "        if i % iter_per_epoch == 0:\n",
    "            train_acc = network.accuracy(x_train, t_train)\n",
    "            bn_train_acc = bn_network.accuracy(x_train, t_train)\n",
    "            train_acc_list.append(train_acc)\n",
    "            bn_train_acc_list.append(bn_train_acc)\n",
    "    \n",
    "            print(\"epoch:\" + str(epoch_cnt) + \" | \" + str(train_acc) + \" - \" + str(bn_train_acc))\n",
    "    \n",
    "            epoch_cnt += 1\n",
    "            if epoch_cnt >= max_epochs:\n",
    "                break\n",
    "                \n",
    "    return train_acc_list, bn_train_acc_list"
   ]
  },
  {
   "cell_type": "code",
   "execution_count": 52,
   "metadata": {
    "collapsed": true
   },
   "outputs": [
    {
     "name": "stdout",
     "output_type": "stream",
     "text": [
      "epoch:0 | 0.5885714285714285 - 0.35714285714285715\n",
      "epoch:1 | 0.5885714285714285 - 0.66\n",
      "epoch:2 | 0.4114285714285714 - 0.7342857142857143\n"
     ]
    },
    {
     "name": "stderr",
     "output_type": "stream",
     "text": [
      "../common/functions.py:34: RuntimeWarning: invalid value encountered in subtract\n",
      "  x = x - np.max(x, axis=0)\n",
      "../common/layers.py:12: RuntimeWarning: invalid value encountered in less_equal\n",
      "  self.mask = (x <= 0)\n",
      "/Users/Kohei/.pyenv/versions/anaconda3-5.1.0/lib/python3.6/site-packages/numpy/core/_methods.py:26: RuntimeWarning: invalid value encountered in reduce\n",
      "  return umr_maximum(a, axis, None, out, keepdims)\n"
     ]
    },
    {
     "name": "stdout",
     "output_type": "stream",
     "text": [
      "epoch:3 | 0.4114285714285714 - 0.8028571428571428\n",
      "epoch:4 | 0.4114285714285714 - 0.6885714285714286\n",
      "epoch:5 | 0.4114285714285714 - 0.94\n",
      "epoch:6 | 0.4114285714285714 - 0.9557142857142857\n",
      "epoch:7 | 0.4114285714285714 - 0.9485714285714286\n",
      "epoch:8 | 0.4114285714285714 - 0.9442857142857143\n",
      "epoch:9 | 0.4114285714285714 - 0.9657142857142857\n",
      "epoch:10 | 0.4114285714285714 - 0.9142857142857143\n",
      "epoch:11 | 0.4114285714285714 - 0.8971428571428571\n",
      "epoch:12 | 0.4114285714285714 - 0.9357142857142857\n",
      "epoch:13 | 0.4114285714285714 - 0.9214285714285714\n",
      "epoch:14 | 0.4114285714285714 - 0.9785714285714285\n",
      "epoch:15 | 0.4114285714285714 - 0.94\n",
      "epoch:16 | 0.4114285714285714 - 0.9\n",
      "epoch:17 | 0.4114285714285714 - 0.7842857142857143\n",
      "epoch:18 | 0.4114285714285714 - 0.9628571428571429\n",
      "epoch:19 | 0.4114285714285714 - 0.9657142857142857\n",
      "epoch:20 | 0.4114285714285714 - 0.9028571428571428\n",
      "epoch:21 | 0.4114285714285714 - 0.9428571428571428\n",
      "epoch:22 | 0.4114285714285714 - 0.94\n",
      "epoch:23 | 0.4114285714285714 - 0.9285714285714286\n",
      "epoch:24 | 0.4114285714285714 - 0.9414285714285714\n",
      "epoch:25 | 0.4114285714285714 - 0.9285714285714286\n",
      "epoch:26 | 0.4114285714285714 - 0.9685714285714285\n",
      "epoch:27 | 0.4114285714285714 - 0.9085714285714286\n",
      "epoch:28 | 0.4114285714285714 - 0.96\n",
      "epoch:29 | 0.4114285714285714 - 0.9557142857142857\n",
      "epoch:30 | 0.4114285714285714 - 0.9114285714285715\n",
      "epoch:31 | 0.4114285714285714 - 0.9514285714285714\n",
      "epoch:32 | 0.4114285714285714 - 0.8857142857142857\n",
      "epoch:33 | 0.4114285714285714 - 0.9485714285714286\n",
      "epoch:34 | 0.4114285714285714 - 0.9371428571428572\n",
      "epoch:35 | 0.4114285714285714 - 0.9671428571428572\n",
      "epoch:36 | 0.4114285714285714 - 0.9171428571428571\n",
      "epoch:37 | 0.4114285714285714 - 0.9471428571428572\n",
      "epoch:38 | 0.4114285714285714 - 0.9414285714285714\n",
      "epoch:39 | 0.4114285714285714 - 0.9728571428571429\n",
      "epoch:40 | 0.4114285714285714 - 0.9057142857142857\n",
      "epoch:41 | 0.4114285714285714 - 0.9371428571428572\n",
      "epoch:42 | 0.4114285714285714 - 0.8428571428571429\n",
      "epoch:43 | 0.4114285714285714 - 0.9371428571428572\n",
      "epoch:44 | 0.4114285714285714 - 0.95\n",
      "epoch:45 | 0.4114285714285714 - 0.9685714285714285\n",
      "epoch:46 | 0.4114285714285714 - 0.98\n",
      "epoch:47 | 0.4114285714285714 - 0.7328571428571429\n",
      "epoch:48 | 0.4114285714285714 - 0.9571428571428572\n",
      "epoch:49 | 0.4114285714285714 - 0.9742857142857143\n",
      "epoch:50 | 0.4114285714285714 - 0.9557142857142857\n",
      "epoch:51 | 0.4114285714285714 - 0.9657142857142857\n",
      "epoch:52 | 0.4114285714285714 - 0.8585714285714285\n",
      "epoch:53 | 0.4114285714285714 - 0.8828571428571429\n",
      "epoch:54 | 0.4114285714285714 - 0.8542857142857143\n",
      "epoch:55 | 0.4114285714285714 - 0.98\n",
      "epoch:56 | 0.4114285714285714 - 0.9642857142857143\n",
      "epoch:57 | 0.4114285714285714 - 0.87\n",
      "epoch:58 | 0.4114285714285714 - 0.9842857142857143\n",
      "epoch:59 | 0.4114285714285714 - 0.9785714285714285\n",
      "epoch:60 | 0.4114285714285714 - 0.9857142857142858\n",
      "epoch:61 | 0.4114285714285714 - 0.9542857142857143\n",
      "epoch:62 | 0.4114285714285714 - 0.98\n",
      "epoch:63 | 0.4114285714285714 - 0.8628571428571429\n",
      "epoch:64 | 0.4114285714285714 - 0.97\n",
      "epoch:65 | 0.4114285714285714 - 0.9628571428571429\n",
      "epoch:66 | 0.4114285714285714 - 0.9571428571428572\n",
      "epoch:67 | 0.4114285714285714 - 0.9414285714285714\n",
      "epoch:68 | 0.4114285714285714 - 0.9457142857142857\n",
      "epoch:69 | 0.4114285714285714 - 0.9614285714285714\n",
      "epoch:70 | 0.4114285714285714 - 0.9485714285714286\n",
      "epoch:71 | 0.4114285714285714 - 0.9771428571428571\n",
      "epoch:72 | 0.4114285714285714 - 0.9557142857142857\n",
      "epoch:73 | 0.4114285714285714 - 0.93\n",
      "epoch:74 | 0.4114285714285714 - 0.64\n",
      "epoch:75 | 0.4114285714285714 - 0.9428571428571428\n",
      "epoch:76 | 0.4114285714285714 - 0.9885714285714285\n",
      "epoch:77 | 0.4114285714285714 - 0.81\n",
      "epoch:78 | 0.4114285714285714 - 0.9357142857142857\n",
      "epoch:79 | 0.4114285714285714 - 0.7685714285714286\n",
      "epoch:80 | 0.4114285714285714 - 0.92\n",
      "epoch:81 | 0.4114285714285714 - 0.93\n",
      "epoch:82 | 0.4114285714285714 - 0.98\n",
      "epoch:83 | 0.4114285714285714 - 0.94\n",
      "epoch:84 | 0.4114285714285714 - 0.8642857142857143\n",
      "epoch:85 | 0.4114285714285714 - 0.9814285714285714\n",
      "epoch:86 | 0.4114285714285714 - 0.9385714285714286\n",
      "epoch:87 | 0.4114285714285714 - 0.9871428571428571\n",
      "epoch:88 | 0.4114285714285714 - 0.8442857142857143\n",
      "epoch:89 | 0.4114285714285714 - 0.9614285714285714\n",
      "epoch:90 | 0.4114285714285714 - 0.8442857142857143\n",
      "epoch:91 | 0.4114285714285714 - 0.9228571428571428\n",
      "epoch:92 | 0.4114285714285714 - 0.9714285714285714\n",
      "epoch:93 | 0.4114285714285714 - 0.9671428571428572\n",
      "epoch:94 | 0.4114285714285714 - 0.8414285714285714\n",
      "epoch:95 | 0.4114285714285714 - 0.9628571428571429\n",
      "epoch:96 | 0.4114285714285714 - 0.9614285714285714\n",
      "epoch:97 | 0.4114285714285714 - 0.8828571428571429\n",
      "epoch:98 | 0.4114285714285714 - 0.9885714285714285\n",
      "epoch:99 | 0.4114285714285714 - 0.9242857142857143\n"
     ]
    }
   ],
   "source": [
    "bn_train_acc_list01 = __train('He')"
   ]
  },
  {
   "cell_type": "code",
   "execution_count": 53,
   "metadata": {},
   "outputs": [],
   "source": [
    "# coding: utf-8\n",
    "import sys, os\n",
    "sys.path.append(os.pardir)  # 親ディレクトリのファイルをインポートするための設定\n",
    "import numpy as np\n",
    "import matplotlib.pyplot as plt\n",
    "from common.multi_layer_net_extend import MultiLayerNetExtend\n",
    "from common.optimizer import SGD, Adam\n",
    "\n",
    "max_epochs = 100\n",
    "train_size = x_train.shape[0]\n",
    "batch_size = 1000\n",
    "learning_rate = 0.001\n",
    "iter_nums = 30000\n",
    "\n",
    "def __train(weight_init_std):\n",
    "    bn_network = MultiLayerNetExtend(input_size=2, hidden_size_list=[10, 10, 10], output_size=2,\n",
    "                                     weight_init_std=weight_init_std, use_batchnorm=True)\n",
    "    network = MultiLayerNetExtend(input_size=2, hidden_size_list=[10, 10, 10], output_size=2,\n",
    "                                weight_init_std=weight_init_std)\n",
    "    optimizer = SGD(lr=learning_rate)\n",
    "    \n",
    "    train_acc_list = []\n",
    "    bn_train_acc_list = []\n",
    "    \n",
    "    iter_per_epoch = max(train_size / batch_size, 1)\n",
    "    epoch_cnt = 0\n",
    "    \n",
    "    for i in range(iter_nums):\n",
    "        batch_mask = np.random.choice(train_size, batch_size)\n",
    "        x_batch = x_train[batch_mask]\n",
    "        t_batch = t_train[batch_mask]\n",
    "    \n",
    "        for _network in (bn_network, network):\n",
    "            grads = _network.gradient(x_batch, t_batch)\n",
    "            optimizer.update(_network.params, grads)\n",
    "    \n",
    "        if i % iter_per_epoch == 0:\n",
    "            train_acc = network.accuracy(x_train, t_train)\n",
    "            bn_train_acc = bn_network.accuracy(x_train, t_train)\n",
    "            train_acc_list.append(train_acc)\n",
    "            bn_train_acc_list.append(bn_train_acc)\n",
    "    \n",
    "            print(\"epoch:\" + str(epoch_cnt) + \" | \" + str(train_acc) + \" - \" + str(bn_train_acc))\n",
    "    \n",
    "            epoch_cnt += 1\n",
    "            if epoch_cnt >= max_epochs:\n",
    "                break\n",
    "                \n",
    "    return train_acc_list, bn_train_acc_list"
   ]
  },
  {
   "cell_type": "code",
   "execution_count": 54,
   "metadata": {
    "collapsed": true
   },
   "outputs": [
    {
     "name": "stdout",
     "output_type": "stream",
     "text": [
      "epoch:0 | 0.4114285714285714 - 0.41285714285714287\n",
      "epoch:1 | 0.25142857142857145 - 0.4057142857142857\n",
      "epoch:2 | 0.5985714285714285 - 0.39571428571428574\n",
      "epoch:3 | 0.6 - 0.3914285714285714\n",
      "epoch:4 | 0.6014285714285714 - 0.4014285714285714\n",
      "epoch:5 | 0.6014285714285714 - 0.4042857142857143\n",
      "epoch:6 | 0.6014285714285714 - 0.41285714285714287\n",
      "epoch:7 | 0.6014285714285714 - 0.4114285714285714\n",
      "epoch:8 | 0.6014285714285714 - 0.4085714285714286\n",
      "epoch:9 | 0.6014285714285714 - 0.4057142857142857\n",
      "epoch:10 | 0.6014285714285714 - 0.42\n",
      "epoch:11 | 0.6014285714285714 - 0.42428571428571427\n",
      "epoch:12 | 0.6014285714285714 - 0.42428571428571427\n",
      "epoch:13 | 0.22428571428571428 - 0.43142857142857144\n",
      "epoch:14 | 0.38571428571428573 - 0.44285714285714284\n",
      "epoch:15 | 0.38857142857142857 - 0.4442857142857143\n",
      "epoch:16 | 0.39 - 0.45\n",
      "epoch:17 | 0.39 - 0.45285714285714285\n",
      "epoch:18 | 0.3914285714285714 - 0.45571428571428574\n",
      "epoch:19 | 0.3914285714285714 - 0.46285714285714286\n",
      "epoch:20 | 0.39285714285714285 - 0.4642857142857143\n",
      "epoch:21 | 0.6028571428571429 - 0.4642857142857143\n",
      "epoch:22 | 0.6028571428571429 - 0.4614285714285714\n",
      "epoch:23 | 0.6028571428571429 - 0.4657142857142857\n",
      "epoch:24 | 0.6028571428571429 - 0.4657142857142857\n",
      "epoch:25 | 0.6028571428571429 - 0.4685714285714286\n",
      "epoch:26 | 0.6028571428571429 - 0.46714285714285714\n",
      "epoch:27 | 0.6028571428571429 - 0.4685714285714286\n",
      "epoch:28 | 0.6028571428571429 - 0.47285714285714286\n",
      "epoch:29 | 0.6028571428571429 - 0.47\n",
      "epoch:30 | 0.6028571428571429 - 0.47285714285714286\n",
      "epoch:31 | 0.6028571428571429 - 0.4742857142857143\n",
      "epoch:32 | 0.6028571428571429 - 0.47714285714285715\n",
      "epoch:33 | 0.6028571428571429 - 0.4742857142857143\n",
      "epoch:34 | 0.6028571428571429 - 0.47714285714285715\n",
      "epoch:35 | 0.6028571428571429 - 0.47714285714285715\n",
      "epoch:36 | 0.6028571428571429 - 0.47714285714285715\n",
      "epoch:37 | 0.6028571428571429 - 0.4757142857142857\n",
      "epoch:38 | 0.6028571428571429 - 0.4757142857142857\n",
      "epoch:39 | 0.6028571428571429 - 0.47714285714285715\n",
      "epoch:40 | 0.6028571428571429 - 0.47714285714285715\n",
      "epoch:41 | 0.6028571428571429 - 0.4785714285714286\n",
      "epoch:42 | 0.6028571428571429 - 0.4785714285714286\n",
      "epoch:43 | 0.6028571428571429 - 0.4785714285714286\n",
      "epoch:44 | 0.6028571428571429 - 0.47714285714285715\n",
      "epoch:45 | 0.6028571428571429 - 0.4757142857142857\n",
      "epoch:46 | 0.6028571428571429 - 0.4757142857142857\n",
      "epoch:47 | 0.6028571428571429 - 0.47714285714285715\n",
      "epoch:48 | 0.6028571428571429 - 0.47714285714285715\n",
      "epoch:49 | 0.6028571428571429 - 0.47714285714285715\n",
      "epoch:50 | 0.6028571428571429 - 0.47714285714285715\n",
      "epoch:51 | 0.6028571428571429 - 0.47714285714285715\n",
      "epoch:52 | 0.6028571428571429 - 0.4757142857142857\n",
      "epoch:53 | 0.6028571428571429 - 0.4785714285714286\n",
      "epoch:54 | 0.6028571428571429 - 0.4785714285714286\n",
      "epoch:55 | 0.6028571428571429 - 0.48142857142857143\n",
      "epoch:56 | 0.6028571428571429 - 0.48142857142857143\n",
      "epoch:57 | 0.6028571428571429 - 0.48142857142857143\n",
      "epoch:58 | 0.6042857142857143 - 0.4828571428571429\n",
      "epoch:59 | 0.6042857142857143 - 0.48428571428571426\n",
      "epoch:60 | 0.6042857142857143 - 0.48428571428571426\n",
      "epoch:61 | 0.6042857142857143 - 0.4828571428571429\n",
      "epoch:62 | 0.6042857142857143 - 0.48142857142857143\n",
      "epoch:63 | 0.6042857142857143 - 0.48428571428571426\n",
      "epoch:64 | 0.6042857142857143 - 0.48428571428571426\n",
      "epoch:65 | 0.6042857142857143 - 0.48428571428571426\n",
      "epoch:66 | 0.6042857142857143 - 0.48428571428571426\n",
      "epoch:67 | 0.6042857142857143 - 0.48428571428571426\n",
      "epoch:68 | 0.6042857142857143 - 0.48428571428571426\n",
      "epoch:69 | 0.6042857142857143 - 0.48428571428571426\n",
      "epoch:70 | 0.6042857142857143 - 0.48428571428571426\n",
      "epoch:71 | 0.6042857142857143 - 0.48428571428571426\n",
      "epoch:72 | 0.6042857142857143 - 0.48428571428571426\n",
      "epoch:73 | 0.6042857142857143 - 0.48428571428571426\n",
      "epoch:74 | 0.6042857142857143 - 0.48428571428571426\n",
      "epoch:75 | 0.6042857142857143 - 0.48428571428571426\n",
      "epoch:76 | 0.6042857142857143 - 0.4857142857142857\n",
      "epoch:77 | 0.6042857142857143 - 0.4857142857142857\n",
      "epoch:78 | 0.6042857142857143 - 0.4857142857142857\n",
      "epoch:79 | 0.6042857142857143 - 0.4857142857142857\n",
      "epoch:80 | 0.6042857142857143 - 0.4857142857142857\n",
      "epoch:81 | 0.6042857142857143 - 0.4857142857142857\n",
      "epoch:82 | 0.6042857142857143 - 0.4857142857142857\n",
      "epoch:83 | 0.6042857142857143 - 0.4857142857142857\n",
      "epoch:84 | 0.6042857142857143 - 0.48714285714285716\n",
      "epoch:85 | 0.6042857142857143 - 0.48714285714285716\n",
      "epoch:86 | 0.6042857142857143 - 0.48714285714285716\n",
      "epoch:87 | 0.6042857142857143 - 0.4857142857142857\n",
      "epoch:88 | 0.6042857142857143 - 0.4857142857142857\n",
      "epoch:89 | 0.6042857142857143 - 0.4857142857142857\n",
      "epoch:90 | 0.6042857142857143 - 0.4857142857142857\n",
      "epoch:91 | 0.6042857142857143 - 0.4857142857142857\n",
      "epoch:92 | 0.6042857142857143 - 0.4857142857142857\n",
      "epoch:93 | 0.6042857142857143 - 0.4857142857142857\n",
      "epoch:94 | 0.6042857142857143 - 0.4857142857142857\n",
      "epoch:95 | 0.6042857142857143 - 0.4857142857142857\n",
      "epoch:96 | 0.6042857142857143 - 0.4857142857142857\n",
      "epoch:97 | 0.6042857142857143 - 0.4857142857142857\n",
      "epoch:98 | 0.6042857142857143 - 0.4857142857142857\n",
      "epoch:99 | 0.6042857142857143 - 0.4857142857142857\n"
     ]
    }
   ],
   "source": [
    "bn_train_acc_list02 = __train('He')"
   ]
  },
  {
   "cell_type": "code",
   "execution_count": 57,
   "metadata": {
    "scrolled": true
   },
   "outputs": [
    {
     "data": {
      "text/plain": [
       "Text(0.5,1,'Newron Size')"
      ]
     },
     "execution_count": 57,
     "metadata": {},
     "output_type": "execute_result"
    },
    {
     "data": {
      "image/png": "[encoded data removed]",
      "text/plain": [
       "<matplotlib.figure.Figure at 0x116c33a20>"
      ]
     },
     "metadata": {},
     "output_type": "display_data"
    }
   ],
   "source": [
    "# グラフの描画\n",
    "plt.figure(figsize=(14,4)) # figureの縦横の大きさ\n",
    "markers = {'train': 'o', 'test': 's'}\n",
    "a = np.arange(len(bn_train_acc_list00[0]))\n",
    "b = np.arange(len(bn_train_acc_list13))\n",
    "plt.subplot(1,2,1)\n",
    "plt.plot(a, bn_train_acc_list00[1], label='1000', markevery=2)\n",
    "plt.plot(a, bn_train_acc_list01[1], label='500', markevery=2)\n",
    "plt.plot(b, bn_train_acc_list13, label='100', markevery=2)\n",
    "plt.plot(a, bn_train_acc_list02[1], label='10', markevery=2)\n",
    "plt.xlabel('epochs')\n",
    "plt.ylabel(\"accuracy\")\n",
    "plt.ylim(0, 1.0)\n",
    "plt.legend(loc='lower right')\n",
    "plt.title('Newron Size')"
   ]
  },
  {
   "cell_type": "code",
   "execution_count": null,
   "metadata": {},
   "outputs": [],
   "source": []
  }
 ],
 "metadata": {
  "kernelspec": {
   "display_name": "Python 3",
   "language": "python",
   "name": "python3"
  },
  "language_info": {
   "codemirror_mode": {
    "name": "ipython",
    "version": 3
   },
   "file_extension": ".py",
   "mimetype": "text/x-python",
   "name": "python",
   "nbconvert_exporter": "python",
   "pygments_lexer": "ipython3",
   "version": "3.6.4"
  }
 },
 "nbformat": 4,
 "nbformat_minor": 2
}
